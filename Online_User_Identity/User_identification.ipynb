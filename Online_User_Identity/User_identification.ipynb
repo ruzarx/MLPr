{
 "cells": [
  {
   "cell_type": "markdown",
   "metadata": {},
   "source": [
    "<center>\n",
    "<img src=\"https://habrastorage.org/web/677/8e1/337/6778e1337c3d4b159d7e99df94227cb2.jpg\"/>\n",
    "<br>\n",
    "<font size = 4><b>Специализация \"Машинное обучение и анализ данных\"</b></font>\n",
    "</center>\n",
    "<br>\n",
    "<center>\n",
    "<font size = 3>Дипломный проект</font>\n",
    "</center>\n",
    "<center>\n",
    "<font size = 3><b>Идентификация интернет-пользователей по повещенным веб-страницам</b></font>\n",
    "</center>\n",
    "<center>\n",
    "Автор: Игорь Демидов\n",
    "</center>"
   ]
  },
  {
   "cell_type": "markdown",
   "metadata": {},
   "source": [
    "# <center> Описание задачи\n",
    "\n",
    "В этом проекте решается задача идентификации пользователя по его поведению в сети Интернет: по последовательности из нескольких веб-сайтов, посещенных подряд одим и тем же человеком, мы будем идентифицировать этого человека. Идея такая: пользователи Интернета по-разному переходят по ссылкам, и это может помогать их идентифицировать (кто-то сначала в почту, потом про футбол почитать, затем новости, контакт, потом наконец – работать, кто-то – сразу работать).\n",
    "\n",
    "Имеются данные с прокси-серверов Университета Блеза Паскаля, они имеют очень простой вид. Для каждого пользователя заведен csv-файл с названием user\\*\\*\\*\\*.csv (где вместо звездочек – 4 цифры, соответствующие ID пользователя), а в нем посещения сайтов записаны в следующем формате: <br>\n",
    "\n",
    "<center>*timestamp, посещенный веб-сайт*</center>\n",
    "\n",
    "В этом проекте придется столкнуться с тем, что не все операции можно выполнить за разумное время (скажем, перебрать с кросс-валидацией 100 комбинаций параметров случайного леса), поэтому мы будем использовать параллельно 2 выборки: по 10 пользователям и по 150. Для 10 пользователей будем писать и отлаживать код, для 150 – будет рабочая версия. \n",
    "\n",
    "Данные устроены следующем образом:\n",
    "\n",
    " - В каталоге 10users лежат 10 csv-файлов с названием вида \"user[USER_ID].csv\", где [USER_ID] – ID пользователя;\n",
    " - Аналогично для каталога 150users – там 150 файлов;\n",
    " - В каталоге 3users – игрушечный пример из 3 файлов, это для отладки кода предобработки.\n",
    "\n",
    "# <center>Часть 1. Подготовка данных к анализу и построению моделей\n",
    "\n",
    "Первая часть проекта посвящена подготовке данных для дальнейшего описательного анализа и построения прогнозных моделей."
   ]
  },
  {
   "cell_type": "code",
   "execution_count": 1,
   "metadata": {},
   "outputs": [
    {
     "name": "stdout",
     "output_type": "stream",
     "text": [
      "Populating the interactive namespace from numpy and matplotlib\n"
     ]
    }
   ],
   "source": [
    "# Импортируем все необходимые библиотеки\n",
    "\n",
    "from __future__ import division, print_function\n",
    "# отключим всякие предупреждения Anaconda\n",
    "import warnings\n",
    "warnings.filterwarnings('ignore')\n",
    "from glob import glob\n",
    "import os\n",
    "import pickle\n",
    "import numpy as np\n",
    "import pandas as pd\n",
    "import seaborn as sns\n",
    "from matplotlib import pyplot as plt\n",
    "from scipy import stats\n",
    "from scipy.sparse import csr_matrix\n",
    "from statsmodels.stats.proportion import proportion_confint\n",
    "from sklearn.model_selection import train_test_split, cross_val_score, StratifiedKFold, GridSearchCV, learning_curve\n",
    "from sklearn.metrics import accuracy_score, f1_score\n",
    "from sklearn.neighbors import KNeighborsClassifier\n",
    "from sklearn.ensemble import RandomForestClassifier\n",
    "from sklearn.linear_model import LogisticRegression, LogisticRegressionCV\n",
    "from sklearn.svm import LinearSVC\n",
    "import datetime\n",
    "% pylab inline"
   ]
  },
  {
   "cell_type": "markdown",
   "metadata": {},
   "source": [
    "**Посмотрим на один из файлов с данными о посещенных пользователем (номер 31) веб-страницах.**"
   ]
  },
  {
   "cell_type": "code",
   "execution_count": 2,
   "metadata": {
    "collapsed": true
   },
   "outputs": [],
   "source": [
    "# Локальный путь к данным\n",
    "PATH_TO_DATA = ('/home/demi/Документы/Final_project/capstone_user_identification' )"
   ]
  },
  {
   "cell_type": "code",
   "execution_count": 3,
   "metadata": {
    "collapsed": true
   },
   "outputs": [],
   "source": [
    "user31_data = pd.read_csv(os.path.join(PATH_TO_DATA, \n",
    "                                       '10users/user0031.csv'))"
   ]
  },
  {
   "cell_type": "code",
   "execution_count": 4,
   "metadata": {},
   "outputs": [
    {
     "data": {
      "text/html": [
       "<div>\n",
       "<style>\n",
       "    .dataframe thead tr:only-child th {\n",
       "        text-align: right;\n",
       "    }\n",
       "\n",
       "    .dataframe thead th {\n",
       "        text-align: left;\n",
       "    }\n",
       "\n",
       "    .dataframe tbody tr th {\n",
       "        vertical-align: top;\n",
       "    }\n",
       "</style>\n",
       "<table border=\"1\" class=\"dataframe\">\n",
       "  <thead>\n",
       "    <tr style=\"text-align: right;\">\n",
       "      <th></th>\n",
       "      <th>timestamp</th>\n",
       "      <th>site</th>\n",
       "    </tr>\n",
       "  </thead>\n",
       "  <tbody>\n",
       "    <tr>\n",
       "      <th>0</th>\n",
       "      <td>2013-11-15 08:12:07</td>\n",
       "      <td>fpdownload2.macromedia.com</td>\n",
       "    </tr>\n",
       "    <tr>\n",
       "      <th>1</th>\n",
       "      <td>2013-11-15 08:12:17</td>\n",
       "      <td>laposte.net</td>\n",
       "    </tr>\n",
       "    <tr>\n",
       "      <th>2</th>\n",
       "      <td>2013-11-15 08:12:17</td>\n",
       "      <td>www.laposte.net</td>\n",
       "    </tr>\n",
       "    <tr>\n",
       "      <th>3</th>\n",
       "      <td>2013-11-15 08:12:17</td>\n",
       "      <td>www.google.com</td>\n",
       "    </tr>\n",
       "    <tr>\n",
       "      <th>4</th>\n",
       "      <td>2013-11-15 08:12:18</td>\n",
       "      <td>www.laposte.net</td>\n",
       "    </tr>\n",
       "    <tr>\n",
       "      <th>5</th>\n",
       "      <td>2013-11-15 08:12:38</td>\n",
       "      <td>www.laposte.net</td>\n",
       "    </tr>\n",
       "    <tr>\n",
       "      <th>6</th>\n",
       "      <td>2013-11-15 08:12:39</td>\n",
       "      <td>www.google.com</td>\n",
       "    </tr>\n",
       "    <tr>\n",
       "      <th>7</th>\n",
       "      <td>2013-11-15 08:12:39</td>\n",
       "      <td>www.laposte.net</td>\n",
       "    </tr>\n",
       "    <tr>\n",
       "      <th>8</th>\n",
       "      <td>2013-11-15 08:12:40</td>\n",
       "      <td>match.rtbidder.net</td>\n",
       "    </tr>\n",
       "    <tr>\n",
       "      <th>9</th>\n",
       "      <td>2013-11-15 08:12:40</td>\n",
       "      <td>www.laposte.net</td>\n",
       "    </tr>\n",
       "  </tbody>\n",
       "</table>\n",
       "</div>"
      ],
      "text/plain": [
       "             timestamp                        site\n",
       "0  2013-11-15 08:12:07  fpdownload2.macromedia.com\n",
       "1  2013-11-15 08:12:17                 laposte.net\n",
       "2  2013-11-15 08:12:17             www.laposte.net\n",
       "3  2013-11-15 08:12:17              www.google.com\n",
       "4  2013-11-15 08:12:18             www.laposte.net\n",
       "5  2013-11-15 08:12:38             www.laposte.net\n",
       "6  2013-11-15 08:12:39              www.google.com\n",
       "7  2013-11-15 08:12:39             www.laposte.net\n",
       "8  2013-11-15 08:12:40          match.rtbidder.net\n",
       "9  2013-11-15 08:12:40             www.laposte.net"
      ]
     },
     "execution_count": 4,
     "metadata": {},
     "output_type": "execute_result"
    }
   ],
   "source": [
    "user31_data.head(10)"
   ]
  },
  {
   "cell_type": "markdown",
   "metadata": {},
   "source": [
    "**Поставим задачу классификации: идентифицировать пользователя по сессии из 10 подряд посещенных сайтов. Объектом в этой задаче будет сессия из 10 сайтов, последовательно посещенных одним и тем же пользователем, признаками – индексы этих 10 сайтов. Целевым классом будет id пользователя.**"
   ]
  },
  {
   "cell_type": "markdown",
   "metadata": {},
   "source": [
    "### <center>Пример для иллюстрации</center>\n",
    "**Пусть пользователя всего 2, длина сессии – 2 сайта.**\n",
    "\n",
    "<center>user0001.csv</center>\n",
    "<style type=\"text/css\">\n",
    ".tg  {border-collapse:collapse;border-spacing:0;}\n",
    ".tg td{font-family:Arial, sans-serif;font-size:14px;padding:10px 5px;border-style:solid;border-width:1px;overflow:hidden;word-break:normal;}\n",
    ".tg th{font-family:Arial, sans-serif;font-size:14px;font-weight:normal;padding:10px 5px;border-style:solid;border-width:1px;overflow:hidden;word-break:normal;}\n",
    ".tg .tg-yw4l{vertical-align:top}\n",
    "</style>\n",
    "<table class=\"tg\">\n",
    "  <tr>\n",
    "    <th class=\"tg-031e\">timestamp</th>\n",
    "    <th class=\"tg-031e\">site</th>\n",
    "  </tr>\n",
    "  <tr>\n",
    "    <td class=\"tg-031e\">00:00:01</td>\n",
    "    <td class=\"tg-031e\">vk.com</td>\n",
    "  </tr>\n",
    "  <tr>\n",
    "    <td class=\"tg-yw4l\">00:00:11</td>\n",
    "    <td class=\"tg-yw4l\">google.com</td>\n",
    "  </tr>\n",
    "  <tr>\n",
    "    <td class=\"tg-031e\">00:00:16</td>\n",
    "    <td class=\"tg-031e\">vk.com</td>\n",
    "  </tr>\n",
    "  <tr>\n",
    "    <td class=\"tg-031e\">00:00:20</td>\n",
    "    <td class=\"tg-031e\">yandex.ru</td>\n",
    "  </tr>\n",
    "</table>\n",
    "\n",
    "<center>user0002.csv</center>\n",
    "<style type=\"text/css\">\n",
    ".tg  {border-collapse:collapse;border-spacing:0;}\n",
    ".tg td{font-family:Arial, sans-serif;font-size:14px;padding:10px 5px;border-style:solid;border-width:1px;overflow:hidden;word-break:normal;}\n",
    ".tg th{font-family:Arial, sans-serif;font-size:14px;font-weight:normal;padding:10px 5px;border-style:solid;border-width:1px;overflow:hidden;word-break:normal;}\n",
    ".tg .tg-yw4l{vertical-align:top}\n",
    "</style>\n",
    "<table class=\"tg\">\n",
    "  <tr>\n",
    "    <th class=\"tg-031e\">timestamp</th>\n",
    "    <th class=\"tg-031e\">site</th>\n",
    "  </tr>\n",
    "  <tr>\n",
    "    <td class=\"tg-031e\">00:00:02</td>\n",
    "    <td class=\"tg-031e\">yandex.ru</td>\n",
    "  </tr>\n",
    "  <tr>\n",
    "    <td class=\"tg-yw4l\">00:00:14</td>\n",
    "    <td class=\"tg-yw4l\">google.com</td>\n",
    "  </tr>\n",
    "  <tr>\n",
    "    <td class=\"tg-031e\">00:00:17</td>\n",
    "    <td class=\"tg-031e\">facebook.com</td>\n",
    "  </tr>\n",
    "  <tr>\n",
    "    <td class=\"tg-031e\">00:00:25</td>\n",
    "    <td class=\"tg-031e\">yandex.ru</td>\n",
    "  </tr>\n",
    "</table>\n",
    "\n",
    "Идем по 1 файлу, нумеруем сайты подряд: vk.com – 1, google.com – 2 и т.д. Далее по второму файлу. \n",
    "\n",
    "Отображение сайтов в их индесы должно получиться таким:\n",
    "\n",
    "<style type=\"text/css\">\n",
    ".tg  {border-collapse:collapse;border-spacing:0;}\n",
    ".tg td{font-family:Arial, sans-serif;font-size:14px;padding:10px 5px;border-style:solid;border-width:1px;overflow:hidden;word-break:normal;}\n",
    ".tg th{font-family:Arial, sans-serif;font-size:14px;font-weight:normal;padding:10px 5px;border-style:solid;border-width:1px;overflow:hidden;word-break:normal;}\n",
    ".tg .tg-yw4l{vertical-align:top}\n",
    "</style>\n",
    "<table class=\"tg\">\n",
    "  <tr>\n",
    "    <th class=\"tg-031e\">site</th>\n",
    "    <th class=\"tg-yw4l\">site_id</th>\n",
    "  </tr>\n",
    "  <tr>\n",
    "    <td class=\"tg-yw4l\">vk.com</td>\n",
    "    <td class=\"tg-yw4l\">1</td>\n",
    "  </tr>\n",
    "  <tr>\n",
    "    <td class=\"tg-yw4l\">google.com</td>\n",
    "    <td class=\"tg-yw4l\">2</td>\n",
    "  </tr>\n",
    "  <tr>\n",
    "    <td class=\"tg-yw4l\">yandex.ru</td>\n",
    "    <td class=\"tg-yw4l\">3</td>\n",
    "  </tr>\n",
    "  <tr>\n",
    "    <td class=\"tg-yw4l\">facebook.com</td>\n",
    "    <td class=\"tg-yw4l\">4</td>\n",
    "  </tr>\n",
    "</table>\n",
    "\n",
    "Тогда обучающая выборка будет такой (целевой признак – user_id):\n",
    "<style type=\"text/css\">\n",
    ".tg  {border-collapse:collapse;border-spacing:0;}\n",
    ".tg td{font-family:Arial, sans-serif;font-size:14px;padding:10px 5px;border-style:solid;border-width:1px;overflow:hidden;word-break:normal;}\n",
    ".tg th{font-family:Arial, sans-serif;font-size:14px;font-weight:normal;padding:10px 5px;border-style:solid;border-width:1px;overflow:hidden;word-break:normal;}\n",
    ".tg .tg-s6z2{text-align:center}\n",
    ".tg .tg-baqh{text-align:center;vertical-align:top}\n",
    ".tg .tg-hgcj{font-weight:bold;text-align:center}\n",
    ".tg .tg-amwm{font-weight:bold;text-align:center;vertical-align:top}\n",
    "</style>\n",
    "<table class=\"tg\">\n",
    "  <tr>\n",
    "    <th class=\"tg-hgcj\">session_id</th>\n",
    "    <th class=\"tg-hgcj\">site1</th>\n",
    "    <th class=\"tg-hgcj\">site2</th>\n",
    "    <th class=\"tg-amwm\">user_id</th>\n",
    "  </tr>\n",
    "  <tr>\n",
    "    <td class=\"tg-s6z2\">1</td>\n",
    "    <td class=\"tg-s6z2\">1</td>\n",
    "    <td class=\"tg-s6z2\">2</td>\n",
    "    <td class=\"tg-baqh\">1</td>\n",
    "  </tr>\n",
    "  <tr>\n",
    "    <td class=\"tg-s6z2\">2</td>\n",
    "    <td class=\"tg-s6z2\">1</td>\n",
    "    <td class=\"tg-s6z2\">3</td>\n",
    "    <td class=\"tg-baqh\">1</td>\n",
    "  </tr>\n",
    "  <tr>\n",
    "    <td class=\"tg-s6z2\">3</td>\n",
    "    <td class=\"tg-s6z2\">3</td>\n",
    "    <td class=\"tg-s6z2\">2</td>\n",
    "    <td class=\"tg-baqh\">2</td>\n",
    "  </tr>\n",
    "  <tr>\n",
    "    <td class=\"tg-s6z2\">4</td>\n",
    "    <td class=\"tg-s6z2\">4</td>\n",
    "    <td class=\"tg-s6z2\">3</td>\n",
    "    <td class=\"tg-baqh\">2</td>\n",
    "  </tr>\n",
    "</table>\n",
    "\n",
    "Здесь 1 объект – это сессия из 2 посещенных сайтов 1-ым пользователем (target=1). Это сайты vk.com и google.com (номер 1 и 2). И так далее, всего 4 сессии. Пока сессии у нас не пересекаются по сайтам, то есть посещение каждого отдельного сайта относится только к одной сессии."
   ]
  },
  {
   "cell_type": "markdown",
   "metadata": {},
   "source": [
    "## Часть 1.1. Подготовка обучающей выборки\n",
    "Функция *prepare_train_set* принимает на вход путь к каталогу с csv-файлами *path_to_csv_files* и параметр *session_length* – длину сессии, а возвращает 2 объекта:\n",
    "- DataFrame, в котором строки соответствуют уникальным сессиям из *session_length* сайтов, *session_length* столбцов – индексам этих *session_length* сайтов и последний столбец – ID пользователя\n",
    "- частотный словарь сайтов вида {'site_string': [site_id, site_freq]}, например для недавнего игрушечного примера это будет {'vk.com': (1, 2), 'google.com': (2, 2), 'yandex.ru': (3, 3), 'facebook.com': (4, 1)}\n",
    "\n",
    "Комментарии:\n",
    "- Меньшие индексы даются более часто попадающимся сайтам (приницип наименьшего описания)\n",
    "- Скорее всего в файле число записей не кратно числу *session_length*. Тогда последняя сессия будет короче. Остаток заполняем нулями. То есть если в файле 24 записи и сессии длины 10, то 3 сессия будет состоять из 4 сайтов, и ей мы сопоставим вектор [*site1_id*, *site2_id*, *site3_id*, *site4_id*, 0, 0, 0, 0, 0, 0, *user_id*] \n",
    "- В итоге некоторые сессии могут повторяться – оставляем как есть, не удаляя дубликаты. Если в двух сессиях все сайты одинаковы, но сессии принадлежат разным пользователям, то тоже оставляем как есть, это естественная неопределенность в данных"
   ]
  },
  {
   "cell_type": "code",
   "execution_count": 5,
   "metadata": {
    "collapsed": true
   },
   "outputs": [],
   "source": [
    "def prepare_train_set(path_to_csv_files, session_length=10):\n",
    "    # Создание словаря сайтов\n",
    "    a = {}\n",
    "    for j in xrange(len(path_to_csv_files)):\n",
    "        data_sort = list(pd.read_csv(path_to_csv_files[j], squeeze = True, usecols=['site']))\n",
    "        for i in xrange(len(data_sort)):\n",
    "            a[data_sort[i]] = a.get(data_sort[i], 0) + 1\n",
    "    \n",
    "    # Упорядочиваем индексы в словаре сайтов по популярности сайта\n",
    "    b = sorted(a.items(), key = lambda x: x[1], reverse = True)\n",
    "    b1 = {}\n",
    "    id = 1\n",
    "    for i in range(len(b)):\n",
    "        b1[b[i][0]] = (id, b[i][1])\n",
    "        id += 1\n",
    "    \n",
    "    b2 = sorted(b1.items(), key = lambda x: x[1][1], reverse = True)\n",
    "    \n",
    "    b4 = dict(b2)\n",
    "    \n",
    "    b3 = pd.DataFrame(data = b2, columns=(['site', 'freq']))\n",
    "\n",
    "    # Создаем новый датафрейм для матрицы пользователи-сайты\n",
    "    df_list = list([\"site%s\" % k for k in range(1, session_length + 1)])\n",
    "    df_list.append('user_id')\n",
    "    dataframe_list = []\n",
    "\n",
    "    # Преобразуем информацию о посещенных сайтах в необходимый формат, используя словарь частот сайтов\n",
    "    for i in range(len(path_to_csv_files)):\n",
    "        data = list(pd.read_csv(path_to_csv_files[i], squeeze = True, usecols=['site']))\n",
    "        if (len(data) % session_length) != 0:\n",
    "            n = (len(data) // session_length) + 1\n",
    "        else:\n",
    "            n = len(data) // session_length\n",
    "        for j in range(n):\n",
    "            new_line = []\n",
    "            new_line = list(b4[data[session_length * j + k]][0] if (\n",
    "                j * session_length + k) < len(data) else 0 for k in range(session_length))\n",
    "            new_line.append(i + 1)\n",
    "            dataframe_list.append(new_line)\n",
    "    c = pd.DataFrame(data = dataframe_list, columns=df_list)\n",
    "    \n",
    "    return c, b2"
   ]
  },
  {
   "cell_type": "code",
   "execution_count": 6,
   "metadata": {
    "collapsed": true
   },
   "outputs": [],
   "source": [
    "user_path3 = glob(os.path.join(PATH_TO_DATA, '3users/*.csv'))\n",
    "user_path10 = glob(os.path.join(PATH_TO_DATA, '10users/*.csv'))\n",
    "user_path150 = glob(os.path.join(PATH_TO_DATA, '150users/*.csv'))"
   ]
  },
  {
   "cell_type": "code",
   "execution_count": 7,
   "metadata": {
    "collapsed": true
   },
   "outputs": [],
   "source": [
    "# Отсортируем файлы по номеру пользователя\n",
    "user_path10.sort()\n",
    "user_path150.sort()\n",
    "user_path3.sort()"
   ]
  },
  {
   "cell_type": "markdown",
   "metadata": {},
   "source": [
    "**Применим полученную функцию к игрушечному примеру, чтобы убедиться, что все работает как надо.**"
   ]
  },
  {
   "cell_type": "code",
   "execution_count": 8,
   "metadata": {
    "collapsed": true
   },
   "outputs": [],
   "source": [
    "train_data_toy, site_freq_3users = prepare_train_set(user_path3, \n",
    "                                                     session_length=10)"
   ]
  },
  {
   "cell_type": "code",
   "execution_count": 9,
   "metadata": {},
   "outputs": [
    {
     "data": {
      "text/html": [
       "<div>\n",
       "<style>\n",
       "    .dataframe thead tr:only-child th {\n",
       "        text-align: right;\n",
       "    }\n",
       "\n",
       "    .dataframe thead th {\n",
       "        text-align: left;\n",
       "    }\n",
       "\n",
       "    .dataframe tbody tr th {\n",
       "        vertical-align: top;\n",
       "    }\n",
       "</style>\n",
       "<table border=\"1\" class=\"dataframe\">\n",
       "  <thead>\n",
       "    <tr style=\"text-align: right;\">\n",
       "      <th></th>\n",
       "      <th>site1</th>\n",
       "      <th>site2</th>\n",
       "      <th>site3</th>\n",
       "      <th>site4</th>\n",
       "      <th>site5</th>\n",
       "      <th>site6</th>\n",
       "      <th>site7</th>\n",
       "      <th>site8</th>\n",
       "      <th>site9</th>\n",
       "      <th>site10</th>\n",
       "      <th>user_id</th>\n",
       "    </tr>\n",
       "  </thead>\n",
       "  <tbody>\n",
       "    <tr>\n",
       "      <th>0</th>\n",
       "      <td>4</td>\n",
       "      <td>2</td>\n",
       "      <td>2</td>\n",
       "      <td>11</td>\n",
       "      <td>2</td>\n",
       "      <td>1</td>\n",
       "      <td>8</td>\n",
       "      <td>5</td>\n",
       "      <td>9</td>\n",
       "      <td>7</td>\n",
       "      <td>1</td>\n",
       "    </tr>\n",
       "    <tr>\n",
       "      <th>1</th>\n",
       "      <td>4</td>\n",
       "      <td>1</td>\n",
       "      <td>1</td>\n",
       "      <td>1</td>\n",
       "      <td>0</td>\n",
       "      <td>0</td>\n",
       "      <td>0</td>\n",
       "      <td>0</td>\n",
       "      <td>0</td>\n",
       "      <td>0</td>\n",
       "      <td>1</td>\n",
       "    </tr>\n",
       "    <tr>\n",
       "      <th>2</th>\n",
       "      <td>4</td>\n",
       "      <td>2</td>\n",
       "      <td>6</td>\n",
       "      <td>6</td>\n",
       "      <td>2</td>\n",
       "      <td>0</td>\n",
       "      <td>0</td>\n",
       "      <td>0</td>\n",
       "      <td>0</td>\n",
       "      <td>0</td>\n",
       "      <td>2</td>\n",
       "    </tr>\n",
       "    <tr>\n",
       "      <th>3</th>\n",
       "      <td>3</td>\n",
       "      <td>1</td>\n",
       "      <td>2</td>\n",
       "      <td>1</td>\n",
       "      <td>2</td>\n",
       "      <td>1</td>\n",
       "      <td>1</td>\n",
       "      <td>5</td>\n",
       "      <td>10</td>\n",
       "      <td>3</td>\n",
       "      <td>3</td>\n",
       "    </tr>\n",
       "    <tr>\n",
       "      <th>4</th>\n",
       "      <td>3</td>\n",
       "      <td>1</td>\n",
       "      <td>2</td>\n",
       "      <td>0</td>\n",
       "      <td>0</td>\n",
       "      <td>0</td>\n",
       "      <td>0</td>\n",
       "      <td>0</td>\n",
       "      <td>0</td>\n",
       "      <td>0</td>\n",
       "      <td>3</td>\n",
       "    </tr>\n",
       "  </tbody>\n",
       "</table>\n",
       "</div>"
      ],
      "text/plain": [
       "   site1  site2  site3  site4  site5  site6  site7  site8  site9  site10  \\\n",
       "0      4      2      2     11      2      1      8      5      9       7   \n",
       "1      4      1      1      1      0      0      0      0      0       0   \n",
       "2      4      2      6      6      2      0      0      0      0       0   \n",
       "3      3      1      2      1      2      1      1      5     10       3   \n",
       "4      3      1      2      0      0      0      0      0      0       0   \n",
       "\n",
       "   user_id  \n",
       "0        1  \n",
       "1        1  \n",
       "2        2  \n",
       "3        3  \n",
       "4        3  "
      ]
     },
     "execution_count": 9,
     "metadata": {},
     "output_type": "execute_result"
    }
   ],
   "source": [
    "train_data_toy"
   ]
  },
  {
   "cell_type": "markdown",
   "metadata": {},
   "source": [
    "Частоты сайтов (второй элемент кортежа) точно должны быть такими, нумерация может быть любой (первые элементы кортежей могут отличаться)."
   ]
  },
  {
   "cell_type": "code",
   "execution_count": 10,
   "metadata": {},
   "outputs": [
    {
     "data": {
      "text/plain": [
       "[('google.com', (1, 9)),\n",
       " ('oracle.com', (2, 8)),\n",
       " ('meduza.io', (3, 3)),\n",
       " ('vk.com', (4, 3)),\n",
       " ('mail.google.com', (5, 2)),\n",
       " ('football.kulichki.ru', (6, 2)),\n",
       " ('plus.google.com', (7, 1)),\n",
       " ('accounts.google.com', (8, 1)),\n",
       " ('apis.google.com', (9, 1)),\n",
       " ('yandex.ru', (10, 1)),\n",
       " ('geo.mozilla.org', (11, 1))]"
      ]
     },
     "execution_count": 10,
     "metadata": {},
     "output_type": "execute_result"
    }
   ],
   "source": [
    "site_freq_3users"
   ]
  },
  {
   "cell_type": "markdown",
   "metadata": {},
   "source": [
    "**Применим полученную функцию к данным по 10 пользователям и посмотрим на количество уникальных сайтов**"
   ]
  },
  {
   "cell_type": "code",
   "execution_count": 11,
   "metadata": {
    "collapsed": true
   },
   "outputs": [],
   "source": [
    "train_data_10users, site_freq_10users = prepare_train_set(user_path10, session_length=10)"
   ]
  },
  {
   "cell_type": "code",
   "execution_count": 12,
   "metadata": {},
   "outputs": [
    {
     "name": "stdout",
     "output_type": "stream",
     "text": [
      "Количество уникальных сайтов в данных по 10 пользователям 4913\n"
     ]
    }
   ],
   "source": [
    "print (\"Количество уникальных сайтов в данных по 10 пользователям %s\" % len(site_freq_10users))"
   ]
  },
  {
   "cell_type": "markdown",
   "metadata": {},
   "source": [
    "**Применим полученную функцию к данным по 150 пользователям и посмотрим на количество уникальных сайтов**"
   ]
  },
  {
   "cell_type": "code",
   "execution_count": 13,
   "metadata": {},
   "outputs": [
    {
     "name": "stdout",
     "output_type": "stream",
     "text": [
      "CPU times: user 2.59 s, sys: 48 ms, total: 2.64 s\n",
      "Wall time: 2.63 s\n"
     ]
    }
   ],
   "source": [
    "%%time\n",
    "train_data_150users, site_freq_150users = prepare_train_set(user_path150, session_length=10)"
   ]
  },
  {
   "cell_type": "code",
   "execution_count": 14,
   "metadata": {},
   "outputs": [
    {
     "name": "stdout",
     "output_type": "stream",
     "text": [
      "Количество уникальных сайтов в данных по 150 пользователям 27797\n"
     ]
    }
   ],
   "source": [
    "print (\"Количество уникальных сайтов в данных по 150 пользователям %s\" % len(site_freq_150users))"
   ]
  },
  {
   "cell_type": "markdown",
   "metadata": {},
   "source": [
    "**Топ-10 самых популярных сайтов среди посещенных 150 пользователями**"
   ]
  },
  {
   "cell_type": "code",
   "execution_count": 15,
   "metadata": {},
   "outputs": [
    {
     "name": "stdout",
     "output_type": "stream",
     "text": [
      "www.google.fr\n",
      "www.google.com\n",
      "www.facebook.com\n",
      "apis.google.com\n",
      "s.youtube.com\n",
      "clients1.google.com\n",
      "mail.google.com\n",
      "plus.google.com\n",
      "safebrowsing-cache.google.com\n",
      "www.youtube.com\n"
     ]
    }
   ],
   "source": [
    "print ('\\n'.join(site_freq_150users[i][0] for i in range(10)))"
   ]
  },
  {
   "cell_type": "markdown",
   "metadata": {},
   "source": [
    "**Для дальнейшего анализа запишем полученные объекты DataFrame в csv-файлы.**"
   ]
  },
  {
   "cell_type": "code",
   "execution_count": 16,
   "metadata": {
    "collapsed": true
   },
   "outputs": [],
   "source": [
    "train_data_10users.to_csv(os.path.join(PATH_TO_DATA, \n",
    "                                       'train_data_10users.csv'), \n",
    "                        index_label='session_id', float_format='%d')\n",
    "train_data_150users.to_csv(os.path.join(PATH_TO_DATA, \n",
    "                                        'train_data_150users.csv'), \n",
    "                         index_label='session_id', float_format='%d')"
   ]
  },
  {
   "cell_type": "markdown",
   "metadata": {},
   "source": [
    "## Часть 1.2. Работа с разреженным форматом данных"
   ]
  },
  {
   "cell_type": "markdown",
   "metadata": {},
   "source": [
    "Полученные признаки *site1*, ..., *site10* смысла не имеют как признаки в задаче классификации. А вот если воспользоваться идеей мешка слов из анализа текстов – это другое дело. Создадим новые матрицы, в которых строкам будут соответствовать сессии из 10 сайтов, а столбцам – индексы сайтов. На пересечении строки $i$ и столбца $j$ будет стоять число $n_{ij}$ – cколько раз сайт $j$ встретился в сессии номер $i$.\n",
    "\n",
    "В коротких сессиях, меньше 10 сайтов, у остались нули, так что первый признак (сколько раз попался 0) по смыслу отличен от остальных (сколько раз попался сайт с индексом $i$). Поэтому первый столбец разреженной матрицы удалим. "
   ]
  },
  {
   "cell_type": "markdown",
   "metadata": {},
   "source": [
    "При этом мы модифицируем функцию *prepare_train_set* так, чтобы в дальнейшем сравнить модели классификации, обученные на разных выборках – с 5, 7, 10 и 15 сайтами в сессии. Более того, пока мы брали по 10 сайтов подряд, без пересечения. Теперь применим идею скользящего окна – сессии будут перекрываться. \n",
    "\n",
    "**Пример**: для длины сессии 10 и ширины окна 7 файл из 30 записей породит не 3 сессии, как раньше (1-10, 11-20, 21-30), а 5 (1-10, 8-17, 15-24, 22-30, 29-30). При этом в предпоследней сессии будет один ноль, а в последней – 8 нолей.\n",
    "\n",
    "Создадим несколько выборок для разных сочетаний параметров длины сессии и ширины окна. Все они представлены в таблице ниже:\n",
    "\n",
    "<style type=\"text/css\">\n",
    ".tg  {border-collapse:collapse;border-spacing:0;}\n",
    ".tg td{font-family:Arial, sans-serif;font-size:14px;padding:10px 5px;border-style:solid;border-width:1px;overflow:hidden;word-break:normal;}\n",
    ".tg th{font-family:Arial, sans-serif;font-size:14px;font-weight:normal;padding:10px 5px;border-style:solid;border-width:1px;overflow:hidden;word-break:normal;}\n",
    "</style>\n",
    "<table class=\"tg\">\n",
    "  <tr>\n",
    "    <th class=\"tg-031e\">session_length -&gt;<br>window_size <br></th>\n",
    "    <th class=\"tg-031e\">5</th>\n",
    "    <th class=\"tg-031e\">7</th>\n",
    "    <th class=\"tg-031e\">10</th>\n",
    "    <th class=\"tg-031e\">15</th>\n",
    "  </tr>\n",
    "  <tr>\n",
    "    <td class=\"tg-031e\">5</td>\n",
    "    <td class=\"tg-031e\">v</td>\n",
    "    <td class=\"tg-031e\">v</td>\n",
    "    <td class=\"tg-031e\">v</td>\n",
    "    <td class=\"tg-031e\">v</td>\n",
    "  </tr>\n",
    "  <tr>\n",
    "    <td class=\"tg-031e\">7</td>\n",
    "    <td class=\"tg-031e\"></td>\n",
    "    <td class=\"tg-031e\">v</td>\n",
    "    <td class=\"tg-031e\">v</td>\n",
    "    <td class=\"tg-031e\">v</td>\n",
    "  </tr>\n",
    "  <tr>\n",
    "    <td class=\"tg-031e\">10</td>\n",
    "    <td class=\"tg-031e\"></td>\n",
    "    <td class=\"tg-031e\"></td>\n",
    "    <td class=\"tg-031e\">v</td>\n",
    "    <td class=\"tg-031e\">v</td>\n",
    "  </tr>\n",
    "</table>\n",
    "\n",
    "Итого получится 18 разреженных матриц – указанные в таблице 9 сочетаний параметров формирования сессий для выборок из 10 и 150 пользователей."
   ]
  },
  {
   "cell_type": "code",
   "execution_count": 17,
   "metadata": {
    "collapsed": true
   },
   "outputs": [],
   "source": [
    "def prepare_sparse_train_set_window(path_to_csv_files, session_length=10, window_size=10):\n",
    "    \n",
    "    # Создание словаря сайтов\n",
    "    a = {}\n",
    "    for j in xrange(len(path_to_csv_files)):\n",
    "        data_sort = list(pd.read_csv(path_to_csv_files[j], squeeze = True, usecols=['site']))\n",
    "        for i in xrange(len(data_sort)):\n",
    "            a[data_sort[i]] = a.get(data_sort[i], 0) + 1\n",
    "    \n",
    "    # Упорядочиваем индексы в словаре сайтов по популярности сайта\n",
    "    b = sorted(a.items(), key = lambda x: x[1], reverse = True)\n",
    "    b1 = {}\n",
    "    id = 1\n",
    "    for i in range(len(b)):\n",
    "        b1[b[i][0]] = (id, b[i][1])\n",
    "        id += 1\n",
    "    \n",
    "    b2 = sorted(b1.items(), key = lambda x: x[1][1], reverse = True)\n",
    "    \n",
    "    b4 = dict(b2)\n",
    "    \n",
    "    b3 = pd.DataFrame(data = b2, columns=(['site', 'freq']))\n",
    "        \n",
    "    df_list = list([\"site%s\" % k for k in range(1, session_length + 1)])\n",
    "    df_list.append('user_id')\n",
    "    dataframe_list = []\n",
    "\n",
    "    # Преобразуем матрицу в требуемый формат с заданными длиной сессии и шириной окна\n",
    "    for i in range(len(path_to_csv_files)):\n",
    "        data = list(pd.read_csv(path_to_csv_files[i], squeeze = True, usecols=['site']))\n",
    "        if ((len(data) - window_size) % window_size) != 0:\n",
    "            n = ((len(data) - window_size) // window_size) + 2\n",
    "        else:\n",
    "            n = ((len(data) - window_size) // window_size) + 1\n",
    "\n",
    "        for j in range(n):\n",
    "            new_line = []\n",
    "            new_line = list(b4[data[window_size * j + k]][0] if (\n",
    "                j * window_size + k) < len(data) else 0 for k in range(session_length))\n",
    "            new_line.append(i + 1)\n",
    "            dataframe_list.append(new_line)\n",
    "    c = pd.DataFrame(data = dataframe_list, columns=df_list)\n",
    "    \n",
    "    # Создадим разреженную матрицу из получившейся предварительной\n",
    "    X_data, y = c.iloc[:, :-1].values, c.iloc[:, -1].values\n",
    "     \n",
    "    indptr = [0]\n",
    "    indices = []\n",
    "    data = []\n",
    "    vocabulary = {}\n",
    "    for d in X_data:\n",
    "        for k in d:\n",
    "            if k in vocabulary:\n",
    "                vocabulary[k] += 1\n",
    "                indices.append(k)\n",
    "            else:\n",
    "                vocabulary[k] = 1\n",
    "                indices.append(k)\n",
    "            data.append(1)\n",
    "        indptr.append(len(indices))\n",
    "    \n",
    "    X1 = csr_matrix((data, indices, indptr), dtype=int)\n",
    "    \n",
    "    # Удалим первый столбец, соотвутствующий несуществующему нулевому сайту\n",
    "    all_cols = np.arange(X1.shape[1])\n",
    "    cols_to_keep = np.where(np.logical_not(np.in1d(all_cols, [0])))[0]\n",
    "    X = X1[:, cols_to_keep]\n",
    "    \n",
    "    return X, y"
   ]
  },
  {
   "cell_type": "code",
   "execution_count": 18,
   "metadata": {
    "collapsed": true,
    "scrolled": true
   },
   "outputs": [],
   "source": [
    "# Проверим реализацию функции на простом примере сета из трех пользователей при длине сесс\n",
    "X_toy_s5_w3, y_s5_w3 = prepare_sparse_train_set_window(user_path3, session_length=5, window_size=3)"
   ]
  },
  {
   "cell_type": "code",
   "execution_count": 19,
   "metadata": {},
   "outputs": [
    {
     "data": {
      "text/plain": [
       "matrix([[0, 3, 0, 1, 0, 0, 0, 0, 0, 0, 1],\n",
       "        [1, 1, 0, 0, 1, 0, 0, 1, 0, 0, 1],\n",
       "        [0, 0, 0, 1, 1, 0, 1, 1, 1, 0, 0],\n",
       "        [3, 0, 0, 1, 0, 0, 1, 0, 0, 0, 0],\n",
       "        [2, 0, 0, 0, 0, 0, 0, 0, 0, 0, 0],\n",
       "        [0, 2, 0, 1, 0, 2, 0, 0, 0, 0, 0],\n",
       "        [0, 1, 0, 0, 0, 1, 0, 0, 0, 0, 0],\n",
       "        [2, 2, 1, 0, 0, 0, 0, 0, 0, 0, 0],\n",
       "        [3, 1, 0, 0, 1, 0, 0, 0, 0, 0, 0],\n",
       "        [1, 0, 2, 0, 1, 0, 0, 0, 0, 1, 0],\n",
       "        [1, 1, 2, 0, 0, 0, 0, 0, 0, 0, 0],\n",
       "        [0, 1, 0, 0, 0, 0, 0, 0, 0, 0, 0]])"
      ]
     },
     "execution_count": 19,
     "metadata": {},
     "output_type": "execute_result"
    }
   ],
   "source": [
    "X_toy_s5_w3.todense()"
   ]
  },
  {
   "cell_type": "markdown",
   "metadata": {},
   "source": [
    "**Запустим созданную функцию 16 раз с помощью циклов по значениям параметра *session_length* (15, 10, 7 или 5) и значениям параметра *window_size* (10, 7 или 5). Сериализуем все 16 разреженных матриц (обучающие выборки) и векторов (метки целевого класса – ID пользователя) в файлы `X_sparse_{num_users}users_s{session_length}_w{window_size}.pkl` и `y_{num_users}users_s{session_length}_w{window_size}.pkl`.**"
   ]
  },
  {
   "cell_type": "code",
   "execution_count": 20,
   "metadata": {},
   "outputs": [
    {
     "name": "stdout",
     "output_type": "stream",
     "text": [
      "CPU times: user 4.36 s, sys: 64 ms, total: 4.43 s\n",
      "Wall time: 4.43 s\n"
     ]
    }
   ],
   "source": [
    "%%time\n",
    "\n",
    "# Для 10 пользователей\n",
    "import itertools\n",
    "\n",
    "data_lengths = []\n",
    "\n",
    "for window_size, session_length in itertools.product([10, 7, 5], [15, 10, 7, 5]):\n",
    "    if window_size <= session_length:\n",
    "        X_sparse, y = prepare_sparse_train_set_window(user_path10,\n",
    "                                                             session_length = session_length, \n",
    "                                                             window_size = window_size)\n",
    "        with open(os.path.join(PATH_TO_DATA, 'X_sparse_%susers_s%s_w%s.pkl' % \n",
    "                                       (10, session_length, window_size)), 'wb') as X_pkl:\n",
    "                    pickle.dump(X_sparse, X_pkl, protocol=2)\n",
    "        with open(os.path.join(PATH_TO_DATA, 'y_%susers_s%s_w%s.pkl' % \n",
    "                                       (10, session_length, window_size)), 'wb') as y_pkl:\n",
    "                    pickle.dump(y, y_pkl, protocol=2)\n",
    "        data_lengths.append(X_sparse.shape[0])"
   ]
  },
  {
   "cell_type": "code",
   "execution_count": 21,
   "metadata": {},
   "outputs": [
    {
     "name": "stdout",
     "output_type": "stream",
     "text": [
      "CPU times: user 44.1 s, sys: 732 ms, total: 44.8 s\n",
      "Wall time: 45.2 s\n"
     ]
    }
   ],
   "source": [
    "%%time\n",
    "\n",
    "# Для 150 пользователей\n",
    "\n",
    "for window_size, session_length in itertools.product([10, 7, 5], [15, 10, 7, 5]):\n",
    "    if window_size <= session_length:\n",
    "        X_sparse, y = prepare_sparse_train_set_window(user_path150,\n",
    "                                                             session_length = session_length, \n",
    "                                                             window_size = window_size)\n",
    "        with open(os.path.join(PATH_TO_DATA, 'X_sparse_%susers_s%s_w%s.pkl' % \n",
    "                                       (150, session_length, window_size)), 'wb') as X_pkl:\n",
    "                    pickle.dump(X_sparse, X_pkl, protocol=2)\n",
    "        with open(os.path.join(PATH_TO_DATA, 'y_%susers_s%s_w%s.pkl' % \n",
    "                                       (150, session_length, window_size)), 'wb') as y_pkl:\n",
    "                    pickle.dump(y, y_pkl, protocol=2)\n",
    "        data_lengths.append(X_sparse.shape[0])"
   ]
  },
  {
   "cell_type": "markdown",
   "metadata": {},
   "source": [
    "# <center>Часть 2. Первичный анализ данных и проверка гипотез"
   ]
  },
  {
   "cell_type": "markdown",
   "metadata": {},
   "source": [
    "**Вернемся к подготовленному ранее датафрейму со статистикой посещения сайтов для 10 пользователей**"
   ]
  },
  {
   "cell_type": "code",
   "execution_count": 22,
   "metadata": {},
   "outputs": [
    {
     "data": {
      "text/html": [
       "<div>\n",
       "<style>\n",
       "    .dataframe thead tr:only-child th {\n",
       "        text-align: right;\n",
       "    }\n",
       "\n",
       "    .dataframe thead th {\n",
       "        text-align: left;\n",
       "    }\n",
       "\n",
       "    .dataframe tbody tr th {\n",
       "        vertical-align: top;\n",
       "    }\n",
       "</style>\n",
       "<table border=\"1\" class=\"dataframe\">\n",
       "  <thead>\n",
       "    <tr style=\"text-align: right;\">\n",
       "      <th></th>\n",
       "      <th>site1</th>\n",
       "      <th>site2</th>\n",
       "      <th>site3</th>\n",
       "      <th>site4</th>\n",
       "      <th>site5</th>\n",
       "      <th>site6</th>\n",
       "      <th>site7</th>\n",
       "      <th>site8</th>\n",
       "      <th>site9</th>\n",
       "      <th>site10</th>\n",
       "      <th>user_id</th>\n",
       "    </tr>\n",
       "  </thead>\n",
       "  <tbody>\n",
       "    <tr>\n",
       "      <th>0</th>\n",
       "      <td>192</td>\n",
       "      <td>586</td>\n",
       "      <td>134</td>\n",
       "      <td>3</td>\n",
       "      <td>134</td>\n",
       "      <td>134</td>\n",
       "      <td>3</td>\n",
       "      <td>134</td>\n",
       "      <td>204</td>\n",
       "      <td>134</td>\n",
       "      <td>1</td>\n",
       "    </tr>\n",
       "    <tr>\n",
       "      <th>1</th>\n",
       "      <td>416</td>\n",
       "      <td>193</td>\n",
       "      <td>683</td>\n",
       "      <td>256</td>\n",
       "      <td>134</td>\n",
       "      <td>31</td>\n",
       "      <td>393</td>\n",
       "      <td>3515</td>\n",
       "      <td>217</td>\n",
       "      <td>55</td>\n",
       "      <td>1</td>\n",
       "    </tr>\n",
       "    <tr>\n",
       "      <th>2</th>\n",
       "      <td>55</td>\n",
       "      <td>3</td>\n",
       "      <td>55</td>\n",
       "      <td>55</td>\n",
       "      <td>5</td>\n",
       "      <td>293</td>\n",
       "      <td>416</td>\n",
       "      <td>337</td>\n",
       "      <td>918</td>\n",
       "      <td>55</td>\n",
       "      <td>1</td>\n",
       "    </tr>\n",
       "    <tr>\n",
       "      <th>3</th>\n",
       "      <td>483</td>\n",
       "      <td>3734</td>\n",
       "      <td>483</td>\n",
       "      <td>55</td>\n",
       "      <td>55</td>\n",
       "      <td>55</td>\n",
       "      <td>55</td>\n",
       "      <td>982</td>\n",
       "      <td>201</td>\n",
       "      <td>123</td>\n",
       "      <td>1</td>\n",
       "    </tr>\n",
       "    <tr>\n",
       "      <th>4</th>\n",
       "      <td>349</td>\n",
       "      <td>55</td>\n",
       "      <td>5</td>\n",
       "      <td>4459</td>\n",
       "      <td>259</td>\n",
       "      <td>212</td>\n",
       "      <td>4217</td>\n",
       "      <td>2422</td>\n",
       "      <td>684</td>\n",
       "      <td>2422</td>\n",
       "      <td>1</td>\n",
       "    </tr>\n",
       "  </tbody>\n",
       "</table>\n",
       "</div>"
      ],
      "text/plain": [
       "   site1  site2  site3  site4  site5  site6  site7  site8  site9  site10  \\\n",
       "0    192    586    134      3    134    134      3    134    204     134   \n",
       "1    416    193    683    256    134     31    393   3515    217      55   \n",
       "2     55      3     55     55      5    293    416    337    918      55   \n",
       "3    483   3734    483     55     55     55     55    982    201     123   \n",
       "4    349     55      5   4459    259    212   4217   2422    684    2422   \n",
       "\n",
       "   user_id  \n",
       "0        1  \n",
       "1        1  \n",
       "2        1  \n",
       "3        1  \n",
       "4        1  "
      ]
     },
     "execution_count": 22,
     "metadata": {},
     "output_type": "execute_result"
    }
   ],
   "source": [
    "train_data_10users.head()"
   ]
  },
  {
   "cell_type": "code",
   "execution_count": 23,
   "metadata": {},
   "outputs": [
    {
     "data": {
      "text/plain": [
       "7     2796\n",
       "3     2204\n",
       "8     1868\n",
       "6     1712\n",
       "9     1643\n",
       "2     1022\n",
       "4      802\n",
       "1      760\n",
       "5      720\n",
       "10     534\n",
       "Name: user_id, dtype: int64"
      ]
     },
     "execution_count": 23,
     "metadata": {},
     "output_type": "execute_result"
    }
   ],
   "source": [
    "# Распределение целевого класса\n",
    "train_data_10users['user_id'].value_counts()"
   ]
  },
  {
   "cell_type": "markdown",
   "metadata": {},
   "source": [
    "**Посчитаем распределение числа уникальных сайтов в каждой сессии из 10 посещенных подряд сайтов.**"
   ]
  },
  {
   "cell_type": "code",
   "execution_count": 24,
   "metadata": {
    "collapsed": true
   },
   "outputs": [],
   "source": [
    "num_unique_sites = [np.unique(train_data_10users.values[i, :-1]).shape[0] \n",
    "                    for i in range(train_data_10users.shape[0])]"
   ]
  },
  {
   "cell_type": "code",
   "execution_count": 25,
   "metadata": {},
   "outputs": [
    {
     "data": {
      "text/plain": [
       "7     2308\n",
       "6     2197\n",
       "8     2046\n",
       "5     1735\n",
       "9     1394\n",
       "2     1246\n",
       "4     1163\n",
       "3      894\n",
       "10     651\n",
       "1      427\n",
       "dtype: int64"
      ]
     },
     "execution_count": 25,
     "metadata": {},
     "output_type": "execute_result"
    }
   ],
   "source": [
    "pd.Series(num_unique_sites).value_counts()"
   ]
  },
  {
   "cell_type": "code",
   "execution_count": 26,
   "metadata": {},
   "outputs": [
    {
     "data": {
      "image/png": "[encoded data removed]",
      "text/plain": [
       "<matplotlib.figure.Figure at 0x7f45d77a39d0>"
      ]
     },
     "metadata": {},
     "output_type": "display_data"
    }
   ],
   "source": [
    "pd.Series(num_unique_sites).hist(edgecolor = 'black')\n",
    "plt.show()"
   ]
  },
  {
   "cell_type": "markdown",
   "metadata": {},
   "source": [
    "**Проверим с помощью QQ-плота и критерия Шапиро-Уилка, что эта величина распределена нормально**"
   ]
  },
  {
   "cell_type": "code",
   "execution_count": 27,
   "metadata": {},
   "outputs": [
    {
     "data": {
      "image/png": "[encoded data removed]",
      "text/plain": [
       "<matplotlib.figure.Figure at 0x7f45d6972e90>"
      ]
     },
     "metadata": {},
     "output_type": "display_data"
    }
   ],
   "source": [
    "plt.figure(figsize=(12,8))\n",
    "stats.probplot(num_unique_sites, dist=\"norm\", plot=plt)\n",
    "plt.show()"
   ]
  },
  {
   "cell_type": "code",
   "execution_count": 28,
   "metadata": {},
   "outputs": [
    {
     "name": "stdout",
     "output_type": "stream",
     "text": [
      "Критерий Шапиро-Уилка, W-статистика: 0.954693, p-value: 0.000000\n"
     ]
    }
   ],
   "source": [
    "print (\"Критерий Шапиро-Уилка, W-статистика: %f, p-value: %f\" % stats.shapiro(num_unique_sites))"
   ]
  },
  {
   "cell_type": "markdown",
   "metadata": {},
   "source": [
    "**Проверим гипотезу о том, что пользователь хотя бы раз зайдет на сайт, который он уже ранее посетил в сессии из 10 сайтов. Проверим с помощью биномиального критерия для доли, что доля случаев, когда пользователь повторно посетил какой-то сайт (то есть число уникальных сайтов в сессии < 10) велика: больше 95%**"
   ]
  },
  {
   "cell_type": "code",
   "execution_count": 29,
   "metadata": {},
   "outputs": [
    {
     "name": "stdout",
     "output_type": "stream",
     "text": [
      "P-value = 0.022\n"
     ]
    }
   ],
   "source": [
    "has_two_similar = (np.array(num_unique_sites) < 10).astype('int')\n",
    "pi_val = stats.binom_test(sum(has_two_similar), len(has_two_similar), 0.95, alternative = 'greater')\n",
    "print ('P-value = %s' % round(pi_val, 3))"
   ]
  },
  {
   "cell_type": "markdown",
   "metadata": {},
   "source": [
    "**Построим для этой доли 95% доверительный интервал Уилсона**"
   ]
  },
  {
   "cell_type": "code",
   "execution_count": 30,
   "metadata": {},
   "outputs": [
    {
     "name": "stdout",
     "output_type": "stream",
     "text": [
      "Доверительный интервал Уилсона [0.950103, 0.957053], его ширина = 0.006950\n"
     ]
    }
   ],
   "source": [
    "wilson_interval = proportion_confint(sum(has_two_similar), len(has_two_similar), method = 'wilson')\n",
    "print ('Доверительный интервал Уилсона [%f, %f], его ширина = %f' % (wilson_interval[0],\n",
    "                                                  wilson_interval[1],\n",
    "                                                  wilson_interval[1] - wilson_interval[0]))"
   ]
  },
  {
   "cell_type": "markdown",
   "metadata": {},
   "source": [
    "**Построим распределение частоты посещения сайтов (сколько раз тот или иной сайт попадается в выборке) для сайтов, которые были посещены как минимум 1000 раз**"
   ]
  },
  {
   "cell_type": "code",
   "execution_count": 31,
   "metadata": {
    "collapsed": true
   },
   "outputs": [],
   "source": [
    "a = {}\n",
    "for j in xrange(len(user_path10)):\n",
    "    data_sort = list(pd.read_csv(user_path10[j], squeeze = True, usecols=['site']))\n",
    "    for i in xrange(len(data_sort)):\n",
    "        a[data_sort[i]] = a.get(data_sort[i], 0) + 1\n",
    "    \n",
    "b = sorted(a.items(), key = lambda x: x[1], reverse = True)\n",
    "b1 = {}\n",
    "id = 1\n",
    "for i in range(len(b)):\n",
    "    b1[b[i][0]] = (id, b[i][1])\n",
    "    id += 1\n",
    "    \n",
    "b2 = sorted(b1.items(), key = lambda x: x[1][1], reverse = True)\n",
    "    \n",
    "b3 = pd.DataFrame(data = b2, columns=(['site', 'freq']))\n",
    "\n",
    "site_freqs1 = b3.freq[:25]\n",
    "\n",
    "site_freqs = []\n",
    "for i in range(len(site_freqs1)):\n",
    "    site_freqs.append(site_freqs1[i][1])\n",
    "    \n",
    "site_freqs2 = []\n",
    "for i in range(len(b3.freq)):\n",
    "    site_freqs2.append(b3.freq[i][1])"
   ]
  },
  {
   "cell_type": "code",
   "execution_count": 32,
   "metadata": {},
   "outputs": [
    {
     "data": {
      "image/png": "[encoded data removed]",
      "text/plain": [
       "<matplotlib.figure.Figure at 0x7f45d5ad9b90>"
      ]
     },
     "metadata": {},
     "output_type": "display_data"
    }
   ],
   "source": [
    "pylab.figure(figsize(12, 5))\n",
    "pylab.hist(site_freqs, bins = 24, color = 'r', edgecolor = 'black')\n",
    "\n",
    "pylab.show()"
   ]
  },
  {
   "cell_type": "markdown",
   "metadata": {},
   "source": [
    "**Построим 95% доверительный интервал для средней частоты появления сайта в выборке (во всей, уже не только для тех сайтов, что были посещены как минимум 1000 раз) на основе bootstrap. Используем столько же bootstrap-подвыборок, сколько сайтов оказалось в исходной выборке по 10 пользователям**"
   ]
  },
  {
   "cell_type": "code",
   "execution_count": 33,
   "metadata": {
    "collapsed": true
   },
   "outputs": [],
   "source": [
    "# Подготовка бутстрап-выборки\n",
    "def get_bootstrap_samples(data, n_samples, random_seed=17):\n",
    "    np.random.seed(random_seed)\n",
    "    indices = np.random.randint(0, len(data), (n_samples, len(data)))\n",
    "    samples = data[indices]\n",
    "    return samples\n",
    "\n",
    "def stat_intervals(stat, alpha):\n",
    "    boundaries = np.percentile(stat, \n",
    "                 [100 * alpha / 2., 100 * (1 - alpha / 2.)])\n",
    "    return boundaries"
   ]
  },
  {
   "cell_type": "code",
   "execution_count": 34,
   "metadata": {},
   "outputs": [
    {
     "name": "stdout",
     "output_type": "stream",
     "text": [
      "95% доверительный интервал для средней частоты появления сайта в выборке: [ 22.51524527  35.76303684]\n"
     ]
    }
   ],
   "source": [
    "site_np = np.array(site_freqs)\n",
    "site_np2 = np.array(site_freqs2)\n",
    "\n",
    "np.random.seed(0)\n",
    "\n",
    "over1000_score = map(np.mean, get_bootstrap_samples(site_np2, len(b3)))\n",
    "\n",
    "print (\"95% доверительный интервал для средней частоты появления сайта в выборке:\",\n",
    "       stat_intervals(over1000_score, 0.05))"
   ]
  },
  {
   "cell_type": "markdown",
   "metadata": {},
   "source": [
    "# <center>Часть 3. Визуальный анализ данных и построение признаков"
   ]
  },
  {
   "cell_type": "markdown",
   "metadata": {},
   "source": [
    "## Часть 3.1. Подготовка новых признаков"
   ]
  },
  {
   "cell_type": "markdown",
   "metadata": {},
   "source": [
    "**Для анализа исходных данных создадим на основе функций *prepare_train_set* и *prepare_sparse_train_set_window*  новую – *prepare_train_set_with_fe*, и добавим следующие признаки:**\n",
    "- `session_timespan` – продолжительность сессии (разница между максимальным и минимальным временем посещения сайтов в сессии, в секундах)\n",
    "- `#unique_sites` – число уникальных сайтов в сессии \n",
    "- `start_hour` – час начала сессии (то есть час в записи минимального timestamp среди десяти)\n",
    "- `day_of_week` – день недели (то есть день недели в записи минимального timestamp среди десяти)"
   ]
  },
  {
   "cell_type": "code",
   "execution_count": 35,
   "metadata": {
    "collapsed": true
   },
   "outputs": [],
   "source": [
    "feature_names = ['session_timespan', '#unique_sites', 'start_hour', \n",
    "                 'day_of_week']"
   ]
  },
  {
   "cell_type": "code",
   "execution_count": 36,
   "metadata": {
    "collapsed": true
   },
   "outputs": [],
   "source": [
    "def prepare_train_set_with_fe(path_to_csv_files, feature_names,\n",
    "                                    session_length=10, window_size=10):\n",
    "    \n",
    "    # Создание словаря сайтов\n",
    "    a = {}\n",
    "    for j in xrange(len(path_to_csv_files)):\n",
    "        data_sort = list(pd.read_csv(path_to_csv_files[j], squeeze = True, usecols=['site']))\n",
    "        for i in xrange(len(data_sort)):\n",
    "            a[data_sort[i]] = a.get(data_sort[i], 0) + 1\n",
    "    \n",
    "    # Упорядочиваем индексы в словаре сайтов по популярности сайта\n",
    "    b = sorted(a.items(), key = lambda x: x[1], reverse = True)\n",
    "    b1 = {}\n",
    "    id = 1\n",
    "    for i in range(len(b)):\n",
    "        b1[b[i][0]] = (id, b[i][1])\n",
    "        id += 1\n",
    "    \n",
    "    b2 = sorted(b1.items(), key = lambda x: x[1][1], reverse = True)\n",
    "    \n",
    "    b4 = dict(b2)\n",
    "    \n",
    "    b3 = pd.DataFrame(data = b2, columns=(['site', 'freq']))       \n",
    "        \n",
    "    df_list = list([\"site%s\" % k for k in range(1, session_length + 1)] + feature_names)\n",
    "    df_list.append('user_id')\n",
    "    dataframe_list = []\n",
    "\n",
    "    for i in range(len(path_to_csv_files)):\n",
    "        session_start = 0\n",
    "        data = list(pd.read_csv(path_to_csv_files[i], squeeze = True, usecols=['site']))\n",
    "        datastamp = list(pd.to_datetime(pd.read_csv(path_to_csv_files[i], squeeze = True, usecols = ['timestamp'])))\n",
    "        if ((len(data) - window_size) % window_size) != 0:\n",
    "            n = ((len(data) - window_size) // window_size) + 2\n",
    "        else:\n",
    "            n = ((len(data) - window_size) // window_size) + 1\n",
    "        for j in range(n):\n",
    "            new_line = []\n",
    "            new_line = list(b4[data[window_size * j + k]][0] if (\n",
    "                j * window_size + k) < len(data) else 0 for k in range(session_length))\n",
    "            if new_line.count(0) != 0:\n",
    "                k1 = new_line.index(0)\n",
    "            else:\n",
    "                k1 = session_length\n",
    "            session_end = session_length * j + k1 - 1\n",
    "            if new_line.count(0) == 0:\n",
    "                unique = len(pd.Series(new_line).unique())\n",
    "            else:\n",
    "                unique = len(pd.Series(new_line).unique()) - 1\n",
    "            # Добавляем время начала сессии\n",
    "            new_line.append((datastamp[session_end] - datastamp[session_start]).seconds)\n",
    "            # Добавляем количество уникальных сайтов в сессии\n",
    "            new_line.append(unique)\n",
    "            # Добавляем час начала сессии\n",
    "            new_line.append(datastamp[session_start].hour)\n",
    "            # Добавляем день недели начала сессии\n",
    "            new_line.append(datastamp[session_start].dayofweek)\n",
    "            new_line.append(i + 1)\n",
    "            session_start = session_end + 1\n",
    "            dataframe_list.append(new_line)\n",
    "    c = pd.DataFrame(data = dataframe_list, columns=df_list)    \n",
    "    \n",
    "    return c"
   ]
  },
  {
   "cell_type": "markdown",
   "metadata": {},
   "source": [
    "**Применим функцию *prepare_train_set_with_fe* к данным по 10 пользователям при *session_length*=10**"
   ]
  },
  {
   "cell_type": "code",
   "execution_count": 37,
   "metadata": {},
   "outputs": [
    {
     "name": "stdout",
     "output_type": "stream",
     "text": [
      "CPU times: user 3.13 s, sys: 8 ms, total: 3.14 s\n",
      "Wall time: 3.13 s\n"
     ]
    }
   ],
   "source": [
    "%%time\n",
    "train_data_10users = prepare_train_set_with_fe(user_path10,\n",
    "                  feature_names=feature_names, session_length=10)"
   ]
  },
  {
   "cell_type": "code",
   "execution_count": 38,
   "metadata": {},
   "outputs": [
    {
     "data": {
      "text/html": [
       "<div>\n",
       "<style>\n",
       "    .dataframe thead tr:only-child th {\n",
       "        text-align: right;\n",
       "    }\n",
       "\n",
       "    .dataframe thead th {\n",
       "        text-align: left;\n",
       "    }\n",
       "\n",
       "    .dataframe tbody tr th {\n",
       "        vertical-align: top;\n",
       "    }\n",
       "</style>\n",
       "<table border=\"1\" class=\"dataframe\">\n",
       "  <thead>\n",
       "    <tr style=\"text-align: right;\">\n",
       "      <th></th>\n",
       "      <th>site1</th>\n",
       "      <th>site2</th>\n",
       "      <th>site3</th>\n",
       "      <th>site4</th>\n",
       "      <th>site5</th>\n",
       "      <th>site6</th>\n",
       "      <th>site7</th>\n",
       "      <th>site8</th>\n",
       "      <th>site9</th>\n",
       "      <th>site10</th>\n",
       "      <th>session_timespan</th>\n",
       "      <th>#unique_sites</th>\n",
       "      <th>start_hour</th>\n",
       "      <th>day_of_week</th>\n",
       "      <th>user_id</th>\n",
       "    </tr>\n",
       "  </thead>\n",
       "  <tbody>\n",
       "    <tr>\n",
       "      <th>0</th>\n",
       "      <td>192</td>\n",
       "      <td>586</td>\n",
       "      <td>134</td>\n",
       "      <td>3</td>\n",
       "      <td>134</td>\n",
       "      <td>134</td>\n",
       "      <td>3</td>\n",
       "      <td>134</td>\n",
       "      <td>204</td>\n",
       "      <td>134</td>\n",
       "      <td>33</td>\n",
       "      <td>5</td>\n",
       "      <td>8</td>\n",
       "      <td>4</td>\n",
       "      <td>1</td>\n",
       "    </tr>\n",
       "    <tr>\n",
       "      <th>1</th>\n",
       "      <td>416</td>\n",
       "      <td>193</td>\n",
       "      <td>683</td>\n",
       "      <td>256</td>\n",
       "      <td>134</td>\n",
       "      <td>31</td>\n",
       "      <td>393</td>\n",
       "      <td>3515</td>\n",
       "      <td>217</td>\n",
       "      <td>55</td>\n",
       "      <td>284</td>\n",
       "      <td>10</td>\n",
       "      <td>8</td>\n",
       "      <td>4</td>\n",
       "      <td>1</td>\n",
       "    </tr>\n",
       "    <tr>\n",
       "      <th>2</th>\n",
       "      <td>55</td>\n",
       "      <td>3</td>\n",
       "      <td>55</td>\n",
       "      <td>55</td>\n",
       "      <td>5</td>\n",
       "      <td>293</td>\n",
       "      <td>416</td>\n",
       "      <td>337</td>\n",
       "      <td>918</td>\n",
       "      <td>55</td>\n",
       "      <td>258</td>\n",
       "      <td>7</td>\n",
       "      <td>8</td>\n",
       "      <td>4</td>\n",
       "      <td>1</td>\n",
       "    </tr>\n",
       "    <tr>\n",
       "      <th>3</th>\n",
       "      <td>483</td>\n",
       "      <td>3734</td>\n",
       "      <td>483</td>\n",
       "      <td>55</td>\n",
       "      <td>55</td>\n",
       "      <td>55</td>\n",
       "      <td>55</td>\n",
       "      <td>982</td>\n",
       "      <td>201</td>\n",
       "      <td>123</td>\n",
       "      <td>30</td>\n",
       "      <td>6</td>\n",
       "      <td>8</td>\n",
       "      <td>4</td>\n",
       "      <td>1</td>\n",
       "    </tr>\n",
       "    <tr>\n",
       "      <th>4</th>\n",
       "      <td>349</td>\n",
       "      <td>55</td>\n",
       "      <td>5</td>\n",
       "      <td>4459</td>\n",
       "      <td>259</td>\n",
       "      <td>212</td>\n",
       "      <td>4217</td>\n",
       "      <td>2422</td>\n",
       "      <td>684</td>\n",
       "      <td>2422</td>\n",
       "      <td>6</td>\n",
       "      <td>9</td>\n",
       "      <td>8</td>\n",
       "      <td>4</td>\n",
       "      <td>1</td>\n",
       "    </tr>\n",
       "  </tbody>\n",
       "</table>\n",
       "</div>"
      ],
      "text/plain": [
       "   site1  site2  site3  site4  site5  site6  site7  site8  site9  site10  \\\n",
       "0    192    586    134      3    134    134      3    134    204     134   \n",
       "1    416    193    683    256    134     31    393   3515    217      55   \n",
       "2     55      3     55     55      5    293    416    337    918      55   \n",
       "3    483   3734    483     55     55     55     55    982    201     123   \n",
       "4    349     55      5   4459    259    212   4217   2422    684    2422   \n",
       "\n",
       "   session_timespan  #unique_sites  start_hour  day_of_week  user_id  \n",
       "0                33              5           8            4        1  \n",
       "1               284             10           8            4        1  \n",
       "2               258              7           8            4        1  \n",
       "3                30              6           8            4        1  \n",
       "4                 6              9           8            4        1  "
      ]
     },
     "execution_count": 38,
     "metadata": {},
     "output_type": "execute_result"
    }
   ],
   "source": [
    "train_data_10users.head()"
   ]
  },
  {
   "cell_type": "markdown",
   "metadata": {},
   "source": [
    "**Применим функцию *prepare_train_set_with_fe* к данным по 150 пользователям при *session_length*=10**"
   ]
  },
  {
   "cell_type": "code",
   "execution_count": 39,
   "metadata": {},
   "outputs": [
    {
     "name": "stdout",
     "output_type": "stream",
     "text": [
      "CPU times: user 30 s, sys: 88 ms, total: 30.1 s\n",
      "Wall time: 30.1 s\n"
     ]
    }
   ],
   "source": [
    "%%time\n",
    "train_data_150users = prepare_train_set_with_fe(user_path150,\n",
    "                  feature_names=feature_names, session_length=10)"
   ]
  },
  {
   "cell_type": "markdown",
   "metadata": {},
   "source": [
    "## Часть 3.2. Визуальный анализ данных"
   ]
  },
  {
   "cell_type": "markdown",
   "metadata": {},
   "source": [
    "**Забавы ради, потехи для дадим пользователям имена и ассоциируем с ними цвета.**"
   ]
  },
  {
   "cell_type": "code",
   "execution_count": 40,
   "metadata": {
    "collapsed": true
   },
   "outputs": [],
   "source": [
    "id_name_dict = {1: 'Mary-Kate', 2: 'Ashley', 3: 'Lindsey', 4: 'Naomi', 5: 'Avril',\n",
    "               6: 'Bob', 7: 'Bill', 8: 'John', 9: 'Dick', 10: 'Ed'}\n",
    "train_data_10users['user_id'] = train_data_10users['user_id'].map(id_name_dict)"
   ]
  },
  {
   "cell_type": "code",
   "execution_count": 41,
   "metadata": {
    "collapsed": true
   },
   "outputs": [],
   "source": [
    "color_dic = {'Mary-Kate': 'pink', 'Ashley': 'darkviolet', 'Lindsey':'blueviolet', \n",
    "             'Naomi': 'hotpink', 'Avril': 'orchid', \n",
    "             'Bob': 'firebrick', 'Bill': 'gold', 'John': 'forestgreen', \n",
    "             'Dick': 'slategrey', 'Ed':'brown'}"
   ]
  },
  {
   "cell_type": "markdown",
   "metadata": {},
   "source": [
    "**Построим гистограмму распределения длины сессии в секундах (*session_timespan*). Тяжелый хвост опустим**"
   ]
  },
  {
   "cell_type": "code",
   "execution_count": 42,
   "metadata": {},
   "outputs": [
    {
     "data": {
      "image/png": "[encoded data removed]",
      "text/plain": [
       "<matplotlib.figure.Figure at 0x7f45d7992f90>"
      ]
     },
     "metadata": {},
     "output_type": "display_data"
    }
   ],
   "source": [
    "train_data_10users.session_timespan.plot.hist(figsize = (16, 6), bins = 100, range = (0, 200),\n",
    "                        title = u'Гистограмма распределения длины сессии', color = 'darkviolet'\n",
    "                                             , edgecolor = 'black')\n",
    "plt.xlim([0, 200])\n",
    "plt.ylabel(u'Частота')\n",
    "plt.xlabel(u'Длина сессии в секундах')\n",
    "plt.show()"
   ]
  },
  {
   "cell_type": "markdown",
   "metadata": {},
   "source": [
    "**Построим гистограмму распределения числа уникальных сайтов в сессии (*#unique_sites*)**"
   ]
  },
  {
   "cell_type": "code",
   "execution_count": 43,
   "metadata": {},
   "outputs": [
    {
     "data": {
      "image/png": "[encoded data removed]",
      "text/plain": [
       "<matplotlib.figure.Figure at 0x7f45d7906190>"
      ]
     },
     "metadata": {},
     "output_type": "display_data"
    }
   ],
   "source": [
    "train_data_10users['#unique_sites'].plot.hist(figsize = (10, 8), range = (0, 10), edgecolor = 'black',\n",
    "                        title = u'Гистограмма распределения числа уникальных сайтов в сессии', color = 'aqua')\n",
    "plt.xlim([0, 10])\n",
    "plt.ylabel(u'Частота')\n",
    "plt.xlabel(u'Число уникальных сайтов в сессии')\n",
    "plt.show()"
   ]
  },
  {
   "cell_type": "markdown",
   "metadata": {},
   "source": [
    "**Построим гистограммы распределения числа уникальных сайтов в сессии (*#unique_sites*) для каждого из 10 пользователей по отдельности**"
   ]
  },
  {
   "cell_type": "code",
   "execution_count": 44,
   "metadata": {},
   "outputs": [
    {
     "data": {
      "image/png": "[encoded data removed]",
      "text/plain": [
       "<matplotlib.figure.Figure at 0x7f45d20de750>"
      ]
     },
     "metadata": {},
     "output_type": "display_data"
    }
   ],
   "source": [
    "fig, axes = plt.subplots(nrows=2, ncols=5, figsize=(15, 20))\n",
    "\n",
    "for idx, (user, sub_df) in  enumerate(pd.groupby(train_data_10users, 'user_id')): \n",
    "    plt.subplot(5, 2, idx + 1)\n",
    "    sub_df['#unique_sites'].plot.hist(color = color_dic[user], label = user, edgecolor = 'black')\n",
    "    xlim = ([0, 10])\n",
    "    plt.legend()\n",
    "    plt.ylabel(u'Частота')\n",
    "    plt.xlabel(u'Число уникальных сайтов в сессии для %s' % user)\n",
    "plt.show()"
   ]
  },
  {
   "cell_type": "markdown",
   "metadata": {},
   "source": [
    "**Построим гистограмму распределения часа начала сессии (*start_hour*)**"
   ]
  },
  {
   "cell_type": "code",
   "execution_count": 45,
   "metadata": {},
   "outputs": [
    {
     "data": {
      "image/png": "[encoded data removed]",
      "text/plain": [
       "<matplotlib.figure.Figure at 0x7f45d78c5490>"
      ]
     },
     "metadata": {},
     "output_type": "display_data"
    }
   ],
   "source": [
    "train_data_10users['start_hour'].plot.hist(figsize = (10, 8), range = (0, 24), edgecolor = 'black',\n",
    "                        title = u'Гистограмма распределения часа начала сессии', color = 'darkgreen')\n",
    "plt.ylabel(u'Частота')\n",
    "plt.xlabel(u'Час начала сессии')\n",
    "plt.show()"
   ]
  },
  {
   "cell_type": "markdown",
   "metadata": {},
   "source": [
    "**Построим гистограммы распределения часа начала сессии (*start_hour*) для каждого из 10 пользователей по отдельности**"
   ]
  },
  {
   "cell_type": "code",
   "execution_count": 46,
   "metadata": {},
   "outputs": [
    {
     "data": {
      "image/png": "[encoded data removed]",
      "text/plain": [
       "<matplotlib.figure.Figure at 0x7f45d6aa8050>"
      ]
     },
     "metadata": {},
     "output_type": "display_data"
    }
   ],
   "source": [
    "fig, axes = plt.subplots(nrows=2, ncols=5, figsize=(15, 20))\n",
    "\n",
    "for idx, (user, sub_df) in  enumerate(pd.groupby(train_data_10users, 'user_id')): \n",
    "    plt.subplot(5, 2, idx + 1)\n",
    "    sub_df['start_hour'].plot.hist(color = color_dic[user], label = user, range = (0, 24), edgecolor = 'black')\n",
    "    plt.legend()\n",
    "    plt.ylabel(u'Частота')\n",
    "    plt.xlabel(u'Час начала сессии для %s' % user)\n",
    "plt.show()"
   ]
  },
  {
   "cell_type": "markdown",
   "metadata": {},
   "source": [
    "**Построим гистограмму распределения дня недели, в который началась сессия (*day_of_week*)**"
   ]
  },
  {
   "cell_type": "code",
   "execution_count": 47,
   "metadata": {},
   "outputs": [
    {
     "data": {
      "image/png": "[encoded data removed]",
      "text/plain": [
       "<matplotlib.figure.Figure at 0x7f45d6ccdf90>"
      ]
     },
     "metadata": {},
     "output_type": "display_data"
    }
   ],
   "source": [
    "ax = train_data_10users['day_of_week'].plot.hist(figsize = (10, 8), bins = 7, edgecolor = 'black',\n",
    "                        title = u'Гистограмма распределения дня начала сессии', color = 'sienna')\n",
    "days = [0, u'Пн', u'Вт', u'Ср', u'Чт', u'Пт', u'Сб', u'Вс']\n",
    "ax.set_xticklabels(days)\n",
    "plt.ylabel(u'Частота')\n",
    "plt.xlabel(u'День начала сессии')\n",
    "plt.show()"
   ]
  },
  {
   "cell_type": "markdown",
   "metadata": {},
   "source": [
    "**Построим гистограммы распределения дня недели, в который началась сессия (*day_of_week*) для каждого из 10 пользователей по отдельности. Используйте *subplots*, чтоб разместить все 10 картинок на одной большой**"
   ]
  },
  {
   "cell_type": "code",
   "execution_count": 48,
   "metadata": {},
   "outputs": [
    {
     "data": {
      "image/png": "[encoded data removed]",
      "text/plain": [
       "<matplotlib.figure.Figure at 0x7f45d5f37910>"
      ]
     },
     "metadata": {},
     "output_type": "display_data"
    }
   ],
   "source": [
    "fig, axes = plt.subplots(nrows=2, ncols=5, figsize=(15, 20))\n",
    "\n",
    "for idx, (user, sub_df) in  enumerate(pd.groupby(train_data_10users, 'user_id')): \n",
    "    ax = plt.subplot(5, 2, idx + 1)\n",
    "    sub_df['day_of_week'].plot.hist(color = color_dic[user], label = user, edgecolor = 'black',\n",
    "                                    bins = 7, range = (0, 6))\n",
    "    plt.legend()\n",
    "    plt.ylabel(u'Частота')\n",
    "    plt.xlabel(u'День начала сессии для %s' % user)\n",
    "    ax.set_xticklabels(days)\n",
    "plt.show()"
   ]
  },
  {
   "cell_type": "markdown",
   "metadata": {},
   "source": [
    "** Некоторые выводы по построенным графикам **\n",
    "\n",
    "1. По графику распределения длины сессии видно, что продолжительно большого количества сессий (более трети) укладывается в 25 секунд. Можно предположить, что это свидетельствует либо об открытии большого количества рекламных сайтов при клике на какую-то ссылку, либо о неполных сессиях с малым количеством сайтов. Следующая выделяющаяся область на графике - до 75-100 секунд. Предположу, что эти сессии указывают на быструю рутинную \"проверку\" соцсетей, почты и других сервисов на наличие обновлений. Дальнейший длинный хвост распределения похож на вдумчивое изучение сайтов в сессии.\n",
    "\n",
    "2. Гистограмма распределения числа уникальных сайтов в сессии имеет максимум на значениях 7-8 при длине сессии в 10 сайтов. Это говорит о том, что чаще всего посещение сайтов пользователями носит характер сёрфинга, а не детальное изучение малого количества ресурсов.\n",
    "\n",
    "3. Более детальный анализ уникальности сайтов в сессии по пользователям в целом потверждает предыдущую идею. Среди пользователей можно выделить как сёрферов (Эшли, Боб, Эд, Джон), так и вдумчивых пользователей, которые более внимательно изучают определенный ресурс (Билл, Дик, Аврил).\n",
    "\n",
    "4. Гистограмма часа начала сессии предсказуемо указывает на диапазон с 7 утра до 11 вечера с максимумом в районе обеда (12-15 часов). К вечеру активность падает, что объяснимо: если человек не зашел в интернет к 15-16 часам, вероятность того, что он зайдет в него только вечером, уменьшается.\n",
    "\n",
    "5. Гистограммы отдельных пользователей описывают их поведение в интернете в течение дня. Некоторые, как Эшли или Джон активно используют интернет на работе. Причем, если Джон и Мэри активнее всего включаются в обеденное время (либо поздно просыпаются, либо в обеденный перерыв на работе сёрфят в интернете), то Линдси чаще всего начинает работу с раннего утра. Другие, как например, Билл, больше пользуются интернетом вечером, что может означать, что его работа меньше связана с сетью, а вечером он отдыхает, сидя за компьютером. Или же его график работы подразумевает вечернюю работу.\n",
    "\n",
    "6. Общая гистограмма дней недели начала сессии указывает на то, что самые активные дни для начала работы в интернете это вторник и среда.\n",
    "\n",
    "7. Для отдельных пользователей картина более детальная. Эшли и Линдси почти не заходят в интернет в выходные, что может говорить о том, что сеть им нужна только для работы, а сами они не активные пользователи. Упомянутый ранее Билл, который активничает по вечерам имеет пики выходов в интернет в выходные, что подтверждает гипотезу о том, что Билл чаще использует интернет для личных целей в свободное от работы время."
   ]
  },
  {
   "cell_type": "markdown",
   "metadata": {},
   "source": [
    "**Определим топ-10 самых посещаемых сайтов (*top10_sites*) и соответствующие кол-ва посещений (*top10_freqs*)**"
   ]
  },
  {
   "cell_type": "code",
   "execution_count": 49,
   "metadata": {
    "collapsed": true
   },
   "outputs": [],
   "source": [
    "with open(os.path.join(PATH_TO_DATA, 'site_freq_10users.pkl'), 'rb') as fin:\n",
    "    freqs10 = dict(pickle.load(fin))   \n",
    "    \n",
    "freqs10_sorted = sorted(freqs10.items(), key = lambda x: x[1][1], reverse = True)\n",
    "\n",
    "top10_freqs = list(freqs10_sorted[i][1][1] for i in range(10))\n",
    "top10_sites = list(freqs10_sorted[i][0] for i in range(10))"
   ]
  },
  {
   "cell_type": "markdown",
   "metadata": {},
   "source": [
    "**Нарисуем график частот посещений топ-10 сайтов**"
   ]
  },
  {
   "cell_type": "code",
   "execution_count": 50,
   "metadata": {},
   "outputs": [
    {
     "data": {
      "image/png": "[encoded data removed]",
      "text/plain": [
       "<matplotlib.figure.Figure at 0x7f45d6768250>"
      ]
     },
     "metadata": {},
     "output_type": "display_data"
    }
   ],
   "source": [
    "fig = plt.figure(figsize = (10, 8))\n",
    "ax = sns.barplot(top10_sites, top10_freqs)\n",
    "ax.set_xticklabels(top10_sites, rotation = 90)\n",
    "plt.show()"
   ]
  },
  {
   "cell_type": "markdown",
   "metadata": {},
   "source": [
    "## Часть 3.3. Проверка построенных признаков"
   ]
  },
  {
   "cell_type": "code",
   "execution_count": 51,
   "metadata": {},
   "outputs": [
    {
     "name": "stdout",
     "output_type": "stream",
     "text": [
      "Медианное значение продолжительности сессии для 10 пользователей = 37.0\n"
     ]
    }
   ],
   "source": [
    "print ('Медианное значение продолжительности сессии для 10 пользователей = %s' % \n",
    "    np.median(train_data_10users.session_timespan))"
   ]
  },
  {
   "cell_type": "code",
   "execution_count": 52,
   "metadata": {},
   "outputs": [
    {
     "name": "stdout",
     "output_type": "stream",
     "text": [
      "Медианный день недели начала сессии для 10 пользователей = 2.0\n"
     ]
    }
   ],
   "source": [
    "print ('Медианный день недели начала сессии для 10 пользователей = %s' % \n",
    "       np.median(train_data_10users.day_of_week))"
   ]
  },
  {
   "cell_type": "code",
   "execution_count": 53,
   "metadata": {},
   "outputs": [
    {
     "name": "stdout",
     "output_type": "stream",
     "text": [
      "Медианный час начала сессии для 10 пользователей = 14.0\n"
     ]
    }
   ],
   "source": [
    "print ('Медианный час начала сессии для 10 пользователей = %s' % np.median(train_data_10users.start_hour))"
   ]
  },
  {
   "cell_type": "code",
   "execution_count": 54,
   "metadata": {},
   "outputs": [
    {
     "name": "stdout",
     "output_type": "stream",
     "text": [
      "Медианное значение числа уникальных сайтов для 150 пользователей = 7.0\n"
     ]
    }
   ],
   "source": [
    "print ('Медианное значение числа уникальных сайтов для 150 пользователей = %s' %\n",
    "        np.median(train_data_150users['#unique_sites']))"
   ]
  },
  {
   "cell_type": "markdown",
   "metadata": {},
   "source": [
    "# <center>Часть 4. Обучение модели и сравнение алгоритмов классификации</center>"
   ]
  },
  {
   "cell_type": "markdown",
   "metadata": {
    "collapsed": true
   },
   "source": [
    "Сравним на кросс-валидации несколько алгоритмов, разберемся, какие параметры длины сессии (*session_length* и *window_size*) лучше использовать. Также для выбранного алгоритма построим кривые валидации (как качество классификации зависит от одного из гиперпараметров алгоритма) и кривые обучения (как качество классификации зависит от объема выборки).\n",
    "\n",
    "## Часть 4.1. Сравнение алгоритмов классификации"
   ]
  },
  {
   "cell_type": "markdown",
   "metadata": {},
   "source": [
    "**Разобьем обучающую выборку для 10 пользователей на 2 части. На одной будем проводить кросс-валидацию, на второй – оценивать модель, обученную после кросс-валидации.**"
   ]
  },
  {
   "cell_type": "code",
   "execution_count": 55,
   "metadata": {
    "collapsed": true
   },
   "outputs": [],
   "source": [
    "with open(os.path.join(PATH_TO_DATA, \n",
    "         'X_sparse_10users.pkl'), 'rb') as X_sparse_10users_pkl:\n",
    "    X_sparse_10users = pickle.load(X_sparse_10users_pkl)\n",
    "with open(os.path.join(PATH_TO_DATA, \n",
    "                       'y_10users.pkl'), 'rb') as y_10users_pkl:\n",
    "    y_10users = pickle.load(y_10users_pkl)"
   ]
  },
  {
   "cell_type": "code",
   "execution_count": 56,
   "metadata": {
    "collapsed": true
   },
   "outputs": [],
   "source": [
    "X_train, X_valid, y_train, y_valid = train_test_split(X_sparse_10users, y_10users, \n",
    "                                                      test_size=0.3, \n",
    "                                                     random_state=17, stratify=y_10users)"
   ]
  },
  {
   "cell_type": "markdown",
   "metadata": {},
   "source": [
    "**Зададим заранее тип кросс-валидации: 3-кратная, с перемешиванием, параметр random_state = 17 – для воспроизводимости.**"
   ]
  },
  {
   "cell_type": "code",
   "execution_count": 57,
   "metadata": {
    "collapsed": true
   },
   "outputs": [],
   "source": [
    "skf = StratifiedKFold(n_splits=3, shuffle=True, random_state=17)"
   ]
  },
  {
   "cell_type": "markdown",
   "metadata": {},
   "source": [
    "**Вспомогательная функция для отрисовки кривых валидации после запуска GridSearchCV (или RandomizedCV).**"
   ]
  },
  {
   "cell_type": "code",
   "execution_count": 58,
   "metadata": {
    "collapsed": true
   },
   "outputs": [],
   "source": [
    "def plot_validation_curves(param_values, grid_cv_results_):\n",
    "    train_mu, train_std = grid_cv_results_['mean_train_score'], grid_cv_results_['std_train_score']\n",
    "    valid_mu, valid_std = grid_cv_results_['mean_test_score'], grid_cv_results_['std_test_score']\n",
    "    train_line = plt.plot(param_values, train_mu, '-', label='train', color='green')\n",
    "    valid_line = plt.plot(param_values, valid_mu, '-', label='test', color='red')\n",
    "    plt.fill_between(param_values, train_mu - train_std, train_mu + train_std, edgecolor='none',\n",
    "                     facecolor=train_line[0].get_color(), alpha=0.2)\n",
    "    plt.fill_between(param_values, valid_mu - valid_std, valid_mu + valid_std, edgecolor='none',\n",
    "                     facecolor=valid_line[0].get_color(), alpha=0.2)\n",
    "    plt.legend()"
   ]
  },
  {
   "cell_type": "markdown",
   "metadata": {},
   "source": [
    "**Обучим `KNeighborsClassifier` со 100 ближайшими соседями и посмотрим на долю правильных ответов на 3-кратной кросс-валидации (ради воспроизводимости используем для этого объект `StratifiedKFold` `skf`) по выборке `(X_train, y_train)` и отдельно на выборке `(X_valid, y_valid)`.**"
   ]
  },
  {
   "cell_type": "code",
   "execution_count": 59,
   "metadata": {},
   "outputs": [
    {
     "data": {
      "text/plain": [
       "KNeighborsClassifier(algorithm='auto', leaf_size=30, metric='minkowski',\n",
       "           metric_params=None, n_jobs=-1, n_neighbors=100, p=2,\n",
       "           weights='uniform')"
      ]
     },
     "execution_count": 59,
     "metadata": {},
     "output_type": "execute_result"
    }
   ],
   "source": [
    "knn = KNeighborsClassifier(n_neighbors=100, n_jobs=-1)\n",
    "knn.fit(X_train, y_train)"
   ]
  },
  {
   "cell_type": "code",
   "execution_count": 60,
   "metadata": {},
   "outputs": [
    {
     "name": "stdout",
     "output_type": "stream",
     "text": [
      "Доля правильных ответов KNeighbors классификатора на кросс-валидации = 0.562\n",
      "Доля правильных ответов KNeighbors классификатора на отложенной выборке = 0.584\n"
     ]
    }
   ],
   "source": [
    "print ('Доля правильных ответов KNeighbors классификатора на кросс-валидации = %s' % \n",
    "       round(np.mean(cross_val_score(knn, X_train, y_train, cv = skf)), 3))\n",
    "print ('Доля правильных ответов KNeighbors классификатора на отложенной выборке = %s' %\n",
    "      round(accuracy_score(y_valid, knn.predict(X_valid)), 3))"
   ]
  },
  {
   "cell_type": "markdown",
   "metadata": {},
   "source": [
    "**Обучим случайный лес (`RandomForestClassifier`) из 100 деревьев (для воспроизводимости `random_state`=17). Посмотрим на OOB-оценку и на долю правильных ответов на выборке `(X_valid, y_valid)`**"
   ]
  },
  {
   "cell_type": "code",
   "execution_count": 61,
   "metadata": {},
   "outputs": [
    {
     "data": {
      "text/plain": [
       "RandomForestClassifier(bootstrap=True, class_weight=None, criterion='gini',\n",
       "            max_depth=None, max_features='auto', max_leaf_nodes=None,\n",
       "            min_impurity_split=1e-07, min_samples_leaf=1,\n",
       "            min_samples_split=2, min_weight_fraction_leaf=0.0,\n",
       "            n_estimators=100, n_jobs=-1, oob_score=True, random_state=17,\n",
       "            verbose=0, warm_start=False)"
      ]
     },
     "execution_count": 61,
     "metadata": {},
     "output_type": "execute_result"
    }
   ],
   "source": [
    "forest = RandomForestClassifier(n_estimators=100, random_state=17, oob_score=True, n_jobs=-1)\n",
    "forest.fit(X_train, y_train)"
   ]
  },
  {
   "cell_type": "code",
   "execution_count": 62,
   "metadata": {},
   "outputs": [
    {
     "name": "stdout",
     "output_type": "stream",
     "text": [
      "Доля правильных ответов RandomForest классификатора на Out-of-Bag выборке = 0.723\n",
      "Доля правильных ответов RandomForest классификатора на отложенной выборке = 0.735\n"
     ]
    }
   ],
   "source": [
    "print ('Доля правильных ответов RandomForest классификатора на Out-of-Bag выборке = %s' % \n",
    "       round(forest.oob_score_, 3))\n",
    "print ('Доля правильных ответов RandomForest классификатора на отложенной выборке = %s' %\n",
    "      round(accuracy_score(y_valid, forest.predict(X_valid)), 3))"
   ]
  },
  {
   "cell_type": "markdown",
   "metadata": {},
   "source": [
    "**Обучим логистическую регрессию (`LogisticRegression`) с параметром `C` по умолчанию и `random_state`=17 (для воспроизводимости). Посмотрим на долю правильных ответов на кросс-валидации (используем объект `skf`, созданный ранее) и на выборке `(X_valid, y_valid)`**"
   ]
  },
  {
   "cell_type": "code",
   "execution_count": 63,
   "metadata": {},
   "outputs": [
    {
     "data": {
      "text/plain": [
       "LogisticRegression(C=1.0, class_weight=None, dual=False, fit_intercept=True,\n",
       "          intercept_scaling=1, max_iter=100, multi_class='ovr', n_jobs=1,\n",
       "          penalty='l2', random_state=17, solver='liblinear', tol=0.0001,\n",
       "          verbose=0, warm_start=False)"
      ]
     },
     "execution_count": 63,
     "metadata": {},
     "output_type": "execute_result"
    }
   ],
   "source": [
    "logit = LogisticRegression(random_state=17)\n",
    "logit.fit(X_train, y_train)"
   ]
  },
  {
   "cell_type": "code",
   "execution_count": 64,
   "metadata": {},
   "outputs": [
    {
     "name": "stdout",
     "output_type": "stream",
     "text": [
      "Доля правильных ответов LogisticRegression классификатора на кросс-валидации = 0.763\n",
      "Доля правильных ответов LogisticRegression классификатора на отложенной выборке = 0.782\n"
     ]
    }
   ],
   "source": [
    "print ('Доля правильных ответов LogisticRegression классификатора на кросс-валидации = %s' % \n",
    "       round(np.mean(cross_val_score(logit, X_train, y_train, cv = skf)), 3))\n",
    "print ('Доля правильных ответов LogisticRegression классификатора на отложенной выборке = %s' %\n",
    "      round(accuracy_score(y_valid, logit.predict(X_valid)), 3))"
   ]
  },
  {
   "cell_type": "markdown",
   "metadata": {},
   "source": [
    "**С помощью `LogisticRegressionCV` подберем параметр `C` для `LogisticRegression` сначала в широком диапазоне: 10 значений от 1e-4 до 1e2**"
   ]
  },
  {
   "cell_type": "code",
   "execution_count": 65,
   "metadata": {},
   "outputs": [
    {
     "name": "stdout",
     "output_type": "stream",
     "text": [
      "CPU times: user 48.3 s, sys: 112 ms, total: 48.4 s\n",
      "Wall time: 24.2 s\n"
     ]
    }
   ],
   "source": [
    "%%time\n",
    "logit_c_values1 = np.logspace(-4, 2, 10)\n",
    "\n",
    "logit_grid_searcher1 = LogisticRegressionCV(multi_class='multinomial', random_state=17, Cs=logit_c_values1, \n",
    "                                            cv = skf, tol = 1e-4)\n",
    "logit_grid_searcher1.fit(X_train, y_train)"
   ]
  },
  {
   "cell_type": "code",
   "execution_count": 66,
   "metadata": {},
   "outputs": [
    {
     "name": "stdout",
     "output_type": "stream",
     "text": [
      "Максимальное С = 4.642 при доле правильных ответов = 0.7623\n"
     ]
    }
   ],
   "source": [
    "logit_mean_cv_scores1 = logit_grid_searcher1.scores_[1].mean(axis = 0)\n",
    "maxnumber = max(itertools.izip(logit_mean_cv_scores1, itertools.count()))[1]\n",
    "print ('Максимальное С = %s при доле правильных ответов = %s' % (round(logit_grid_searcher1.Cs[maxnumber], 3), \n",
    "                                                                round(logit_mean_cv_scores1[maxnumber], 4)))"
   ]
  },
  {
   "cell_type": "code",
   "execution_count": 67,
   "metadata": {},
   "outputs": [
    {
     "data": {
      "image/png": "[encoded data removed]",
      "text/plain": [
       "<matplotlib.figure.Figure at 0x7f45d76f1e10>"
      ]
     },
     "metadata": {},
     "output_type": "display_data"
    }
   ],
   "source": [
    "# График зависимости доли правильных ответов на кросс-валидации от `C`\n",
    "plt.plot(logit_c_values1, logit_mean_cv_scores1);"
   ]
  },
  {
   "cell_type": "markdown",
   "metadata": {},
   "source": [
    "**Теперь то же самое, только значения параметра `C` перебираем в диапазоне `np.linspace`(3, 7, 20)**"
   ]
  },
  {
   "cell_type": "code",
   "execution_count": 68,
   "metadata": {},
   "outputs": [
    {
     "name": "stdout",
     "output_type": "stream",
     "text": [
      "CPU times: user 2min 20s, sys: 544 ms, total: 2min 21s\n",
      "Wall time: 1min 10s\n"
     ]
    }
   ],
   "source": [
    "%%time\n",
    "logit_c_values2 = np.linspace(3, 7, 20)\n",
    "\n",
    "logit_grid_searcher2 = LogisticRegressionCV(multi_class='multinomial', random_state=17, Cs=logit_c_values2, \n",
    "                                            cv = skf, tol = 1e-4)\n",
    "logit_grid_searcher2.fit(X_train, y_train)"
   ]
  },
  {
   "cell_type": "code",
   "execution_count": 69,
   "metadata": {},
   "outputs": [
    {
     "name": "stdout",
     "output_type": "stream",
     "text": [
      "Уточненное максимальное С = 3.421 при доле правильных ответов = 0.7633\n"
     ]
    }
   ],
   "source": [
    "logit_mean_cv_scores2 = logit_grid_searcher2.scores_[1].mean(axis = 0)\n",
    "maxnumber2 = max(itertools.izip(logit_mean_cv_scores2, itertools.count()))[1]\n",
    "print ('Уточненное максимальное С = %s при доле правильных ответов = %s' % (\n",
    "    round(logit_grid_searcher2.Cs[maxnumber2], 3), round(logit_mean_cv_scores2[maxnumber2], 4)))"
   ]
  },
  {
   "cell_type": "code",
   "execution_count": 70,
   "metadata": {},
   "outputs": [
    {
     "data": {
      "image/png": "[encoded data removed]",
      "text/plain": [
       "<matplotlib.figure.Figure at 0x7f45d5dd57d0>"
      ]
     },
     "metadata": {},
     "output_type": "display_data"
    }
   ],
   "source": [
    "# График зависимости доли правильных ответов на кросс-валидации от `C`\n",
    "plt.plot(logit_c_values2, logit_mean_cv_scores2);"
   ]
  },
  {
   "cell_type": "markdown",
   "metadata": {},
   "source": [
    "** Выведем долю правильных ответов на выборке `(X_valid, y_valid)` для логистической регрессии с лучшим найденным значением `C`.**"
   ]
  },
  {
   "cell_type": "code",
   "execution_count": 71,
   "metadata": {},
   "outputs": [
    {
     "name": "stdout",
     "output_type": "stream",
     "text": [
      "Доля правильных ответов на кросс-валидации для логистической регрессии с лучшим значение С = 0.766\n",
      "Доля правильных ответов на отложенной выборке для логистической регрессии с лучшим значением С = 0.782\n"
     ]
    }
   ],
   "source": [
    "log2 = LogisticRegression(C = logit_grid_searcher2.Cs[maxnumber2], random_state=17)\n",
    "log2.fit(X_train, y_train)\n",
    "print ('Доля правильных ответов на кросс-валидации для логистической регрессии с лучшим значение С = %s'\n",
    "      % round(np.mean(cross_val_score(log2, X_train, y_train, cv = skf)), 3))\n",
    "print ('Доля правильных ответов на отложенной выборке для логистической регрессии с лучшим значением С = %s'\n",
    "       % round(accuracy_score(y_valid, logit.predict(X_valid)), 3))"
   ]
  },
  {
   "cell_type": "markdown",
   "metadata": {},
   "source": [
    "**Обучим линейный SVM (`LinearSVC`) с параметром `C`=1 и `random_state`=17 (для воспроизводимости)**"
   ]
  },
  {
   "cell_type": "code",
   "execution_count": 72,
   "metadata": {},
   "outputs": [
    {
     "name": "stdout",
     "output_type": "stream",
     "text": [
      "Доля правильных ответов SVM классификатора на кросс-валидации = 0.708\n"
     ]
    }
   ],
   "source": [
    "svm = LinearSVC(C = 1, random_state = 17)\n",
    "svm.fit(X_train, y_train)\n",
    "print ('Доля правильных ответов SVM классификатора на кросс-валидации = %s'\n",
    "       % round(cross_val_score(svm, X_valid, y_valid, cv = skf).mean(), 3))"
   ]
  },
  {
   "cell_type": "markdown",
   "metadata": {},
   "source": [
    "**С помощью `GridSearchCV` подберем параметр `C` для SVM сначала в широком диапазоне: 10 значений от 1e-4 до 1e4**"
   ]
  },
  {
   "cell_type": "code",
   "execution_count": 73,
   "metadata": {},
   "outputs": [
    {
     "name": "stdout",
     "output_type": "stream",
     "text": [
      "CPU times: user 58.9 s, sys: 0 ns, total: 58.9 s\n",
      "Wall time: 58.9 s\n"
     ]
    }
   ],
   "source": [
    "%%time\n",
    "svm_params1 = {'C': np.linspace(1e-4, 1e4, 10)}\n",
    "\n",
    "svm_grid_searcher1 = GridSearchCV(svm, param_grid=svm_params1)\n",
    "svm_grid_searcher1.fit(X_train, y_train)"
   ]
  },
  {
   "cell_type": "code",
   "execution_count": 74,
   "metadata": {},
   "outputs": [
    {
     "name": "stdout",
     "output_type": "stream",
     "text": [
      "Лучшее значение доли правильных ответов на кросс-валидации = 0.685\n",
      "При С = 7777.778\n"
     ]
    }
   ],
   "source": [
    "svm_score1 = svm_grid_searcher1.best_score_\n",
    "print ('Лучшее значение доли правильных ответов на кросс-валидации = %s' % round(svm_score1, 3))\n",
    "svm_param1 = svm_grid_searcher1.best_params_['C']\n",
    "print ('При С = %s' % round(svm_param1, 3))"
   ]
  },
  {
   "cell_type": "code",
   "execution_count": 75,
   "metadata": {},
   "outputs": [
    {
     "data": {
      "image/png": "[encoded data removed]",
      "text/plain": [
       "<matplotlib.figure.Figure at 0x7f45d6b570d0>"
      ]
     },
     "metadata": {},
     "output_type": "display_data"
    }
   ],
   "source": [
    "# График зависимости доли правильных ответов на кросс-валидации от C\n",
    "plot_validation_curves(svm_params1['C'], svm_grid_searcher1.cv_results_)"
   ]
  },
  {
   "cell_type": "markdown",
   "metadata": {},
   "source": [
    "**Но мы помним, что с параметром регуляризации по умолчанию (С=1) на кросс-валидации доля правильных ответов выше. Это тот случай, когда можно ошибиться и перебирать параметры не в том диапазоне (причина в том, что мы взяли равномерную сетку на большом интервале и упустили действительно хороший интервал значений `C`). Здесь намного осмысленней подбирать `C` в районе 1, к тому же, так модель быстрее обучается, чем при больших `C`. **\n",
    "\n",
    "**С помощью `GridSearchCV` подберем параметр `C` для SVM в диапазоне (1e-3, 1), 30 значений**"
   ]
  },
  {
   "cell_type": "code",
   "execution_count": 76,
   "metadata": {},
   "outputs": [
    {
     "name": "stdout",
     "output_type": "stream",
     "text": [
      "CPU times: user 1min 45s, sys: 504 ms, total: 1min 46s\n",
      "Wall time: 1min 46s\n"
     ]
    }
   ],
   "source": [
    "%%time\n",
    "svm_params2 = {'C': np.linspace(1e-3, 1, 30)}\n",
    "\n",
    "svm_grid_searcher2 = GridSearchCV(svm, param_grid=svm_params2)\n",
    "svm_grid_searcher2.fit(X_train, y_train)"
   ]
  },
  {
   "cell_type": "code",
   "execution_count": 77,
   "metadata": {},
   "outputs": [
    {
     "name": "stdout",
     "output_type": "stream",
     "text": [
      "Лучшее значение доли правильных ответов на кросс-валидации = 0.766\n",
      "При С = 0.139\n"
     ]
    }
   ],
   "source": [
    "svm_score2 = svm_grid_searcher2.best_score_\n",
    "print ('Лучшее значение доли правильных ответов на кросс-валидации = %s' % round(svm_score2, 3))\n",
    "svm_param2 = svm_grid_searcher2.best_params_['C']\n",
    "print ('При С = %s' % round(svm_param2, 3))"
   ]
  },
  {
   "cell_type": "code",
   "execution_count": 78,
   "metadata": {},
   "outputs": [
    {
     "data": {
      "image/png": "[encoded data removed]",
      "text/plain": [
       "<matplotlib.figure.Figure at 0x7f45d6181f10>"
      ]
     },
     "metadata": {},
     "output_type": "display_data"
    }
   ],
   "source": [
    "# График зависимости доли правильных ответов на кросс-валидации от C\n",
    "plot_validation_curves(svm_params2['C'], svm_grid_searcher2.cv_results_)"
   ]
  },
  {
   "cell_type": "code",
   "execution_count": 79,
   "metadata": {},
   "outputs": [
    {
     "name": "stdout",
     "output_type": "stream",
     "text": [
      "Доля правильных ответов на отложенной выборке для нового лучшего С = 0.777\n"
     ]
    }
   ],
   "source": [
    "print ('Доля правильных ответов на отложенной выборке для нового лучшего С = %s'\n",
    "       % round(accuracy_score(y_valid, svm.predict(X_valid)), 3))"
   ]
  },
  {
   "cell_type": "markdown",
   "metadata": {},
   "source": [
    "## Часть 4.2. Выбор параметров - длины сессии и ширины окна"
   ]
  },
  {
   "cell_type": "markdown",
   "metadata": {},
   "source": [
    "**Возьмем `LinearSVC`, показавший лучшее качество на кросс-валидации в 1 части, и проверим его работу еще на 8 выборках для 10 пользователей (с разными сочетаниями параметров *session_length* и *window_size*). Поскольку тут уже вычислений побольше, мы не будем каждый раз заново подбирать параметр регуляризации `C`**"
   ]
  },
  {
   "cell_type": "code",
   "execution_count": 80,
   "metadata": {
    "collapsed": true
   },
   "outputs": [],
   "source": [
    "# Определим функцию, которая вычисляет долю правильных ответов на кросс-валидации для (1 - тестовая_выборка) \n",
    "# обучающей выборки, а также долю правильных ответов на отложенной выборке\n",
    "\n",
    "def model_assessment(estimator, path_to_X_pickle, path_to_y_pickle, cv, random_state=17, test_size=0.3):\n",
    "    \n",
    "    with open(os.path.join(path_to_X_pickle), 'rb') as X_sparse_pkl:\n",
    "        X_sparse = pickle.load(X_sparse_pkl)\n",
    "    with open(os.path.join(path_to_y_pickle), 'rb') as y_pkl:\n",
    "        y = pickle.load(y_pkl)\n",
    "        \n",
    "    X_train, X_test, y_train, y_test = train_test_split(X_sparse, y, test_size = test_size, \n",
    "                                                        random_state = random_state, stratify = y)\n",
    "    \n",
    "    train_acc = cross_val_score(estimator, X_train, y_train, cv = cv).mean()\n",
    "    test_acc = accuracy_score(y_test, estimator.predict(X_test))\n",
    "    \n",
    "    return train_acc, test_acc"
   ]
  },
  {
   "cell_type": "markdown",
   "metadata": {},
   "source": [
    "**Применим функцию *model_assessment* для лучшего алгоритма из предыдущей части (а именно, `svm_grid_searcher2.best_estimator_`) и 9 выборок вида с разными сочетаниями параметров *session_length* и *window_size* для 10 пользователей**"
   ]
  },
  {
   "cell_type": "code",
   "execution_count": 81,
   "metadata": {},
   "outputs": [
    {
     "name": "stdout",
     "output_type": "stream",
     "text": [
      "For session length 15 and window size 10\n",
      "(0.82595319827253111, 0.83076558426167335)\n",
      "For session length 10 and window size 10\n",
      "(0.76417363642629177, 0.78170182507703245)\n",
      "For session length 15 and window size 7\n",
      "(0.85049518520747569, 0.86344781815165095)\n",
      "For session length 10 and window size 7\n",
      "(0.80013853854774963, 0.83242077318732366)\n",
      "For session length 7 and window size 7\n",
      "(0.75120696889755278, 0.79757756761241083)\n",
      "For session length 15 and window size 5\n",
      "(0.87069486530504658, 0.86913229018492177)\n",
      "For session length 10 and window size 5\n",
      "(0.81643144923195299, 0.83985301090564246)\n",
      "For session length 7 and window size 5\n",
      "(0.77309267746369503, 0.80275011853959222)\n",
      "For session length 5 and window size 5\n",
      "(0.72309700526189014, 0.76078710289236606)\n",
      "CPU times: user 25.6 s, sys: 28 ms, total: 25.7 s\n",
      "Wall time: 25.7 s\n"
     ]
    }
   ],
   "source": [
    "%%time\n",
    "estimator = svm_grid_searcher2.best_estimator_\n",
    "\n",
    "for window_size, session_length in itertools.product([10, 7, 5], [15, 10, 7, 5]):\n",
    "    if window_size <= session_length:\n",
    "        path_to_X_pkl = os.path.join(PATH_TO_DATA, 'X_sparse_10users_s%s_w%s.pkl' % (session_length, window_size))\n",
    "        path_to_y_pkl = os.path.join(PATH_TO_DATA, 'y_10users_s%s_w%s.pkl' % (session_length, window_size))\n",
    "        print ('For session length %s and window size %s' % (session_length, window_size))\n",
    "        print (model_assessment(estimator, path_to_X_pkl, path_to_y_pkl, skf, random_state=17, test_size=0.3))"
   ]
  },
  {
   "cell_type": "markdown",
   "metadata": {
    "collapsed": true
   },
   "source": [
    "## Часть 4.3. Идентификация конечного пользователя"
   ]
  },
  {
   "cell_type": "markdown",
   "metadata": {},
   "source": [
    "**Поскольку может разочаровать, что многоклассовая доля правильных ответов на выборке из 150 пользовалей невелика, порадуемся тому, что конкретного пользователя можно идентифицировать достаточно хорошо**"
   ]
  },
  {
   "cell_type": "markdown",
   "metadata": {},
   "source": [
    "**Загрузим сериализованные ранее объекты *X_sparse_150users* и *y_150users*, соответствующие обучающей выборке для 150 пользователей с параметрами (*session_length, window_size*) = (10,10). Так же точно разобьем их на 70% и 30%.**"
   ]
  },
  {
   "cell_type": "code",
   "execution_count": 82,
   "metadata": {
    "collapsed": true
   },
   "outputs": [],
   "source": [
    "with open(os.path.join(PATH_TO_DATA, 'X_sparse_150users.pkl'), 'rb') as X_sparse_150users_pkl:\n",
    "     X_sparse_150users = pickle.load(X_sparse_150users_pkl)\n",
    "with open(os.path.join(PATH_TO_DATA, 'y_150users.pkl'), 'rb') as y_150users_pkl:\n",
    "    y_150users = pickle.load(y_150users_pkl)"
   ]
  },
  {
   "cell_type": "code",
   "execution_count": 83,
   "metadata": {
    "collapsed": true
   },
   "outputs": [],
   "source": [
    "X_train_150, X_valid_150, y_train_150, y_valid_150 = train_test_split(X_sparse_150users, \n",
    "                                                                      y_150users, test_size=0.3, \n",
    "                                                     random_state=17, stratify=y_150users)"
   ]
  },
  {
   "cell_type": "markdown",
   "metadata": {},
   "source": [
    "**Обучим `LogisticRegressionCV` для одного значения параметра `C` (лучшего на кросс-валидации в 1 части). Теперь будем решать 150 задач \"Один-против-Всех\"**"
   ]
  },
  {
   "cell_type": "code",
   "execution_count": 84,
   "metadata": {},
   "outputs": [
    {
     "name": "stdout",
     "output_type": "stream",
     "text": [
      "CPU times: user 3min 34s, sys: 964 ms, total: 3min 35s\n",
      "Wall time: 5min 12s\n"
     ]
    }
   ],
   "source": [
    "%%time\n",
    "logit_cv_150users = LogisticRegressionCV(Cs = [0.13879310344827586], \n",
    "                                         multi_class = 'ovr', n_jobs = -1, random_state = 17)\n",
    "logit_cv_150users.fit(X_train_150, y_train_150)"
   ]
  },
  {
   "cell_type": "markdown",
   "metadata": {},
   "source": [
    "**Посмотрим на средние доли правильных ответов на кросс-валидации в задаче идентификации каждого пользователя по отдельности.**"
   ]
  },
  {
   "cell_type": "code",
   "execution_count": 85,
   "metadata": {},
   "outputs": [
    {
     "name": "stdout",
     "output_type": "stream",
     "text": [
      "User 1, CV score: 0.995391318841\n",
      "User 2, CV score: 0.995996421663\n",
      "User 3, CV score: 0.994880887618\n",
      "User 4, CV score: 0.991210928449\n",
      "User 5, CV score: 0.989458954529\n",
      "User 6, CV score: 0.994578470355\n",
      "User 7, CV score: 0.993337781052\n",
      "User 8, CV score: 0.985528453269\n",
      "User 9, CV score: 0.997768712011\n",
      "User 10, CV score: 0.99442210693\n",
      "User 11, CV score: 0.994192777373\n",
      "User 12, CV score: 0.99339009849\n",
      "User 13, CV score: 0.996934749889\n",
      "User 14, CV score: 0.994974647742\n",
      "User 15, CV score: 0.99636128288\n",
      "User 16, CV score: 0.996277889477\n",
      "User 17, CV score: 0.990355876892\n",
      "User 18, CV score: 0.994213604299\n",
      "User 19, CV score: 0.994734801323\n",
      "User 20, CV score: 0.990866843289\n",
      "User 21, CV score: 0.97874141854\n",
      "User 22, CV score: 0.996507289738\n",
      "User 23, CV score: 0.993692120565\n",
      "User 24, CV score: 0.990136885965\n",
      "User 25, CV score: 0.996288264931\n",
      "User 26, CV score: 0.994046747263\n",
      "User 27, CV score: 0.994839055058\n",
      "User 28, CV score: 0.990188375257\n",
      "User 29, CV score: 0.983996208357\n",
      "User 30, CV score: 0.997257886549\n",
      "User 31, CV score: 0.997018204317\n",
      "User 32, CV score: 0.996601148185\n",
      "User 33, CV score: 0.997216245795\n",
      "User 34, CV score: 0.996517768828\n",
      "User 35, CV score: 0.996694926248\n",
      "User 36, CV score: 0.996944946636\n",
      "User 37, CV score: 0.986904939113\n",
      "User 38, CV score: 0.996475949841\n",
      "User 39, CV score: 0.996246592192\n",
      "User 40, CV score: 0.996747046567\n",
      "User 41, CV score: 0.989938882259\n",
      "User 42, CV score: 0.988854292449\n",
      "User 43, CV score: 0.996246550054\n",
      "User 44, CV score: 0.99577740217\n",
      "User 45, CV score: 0.996121511531\n",
      "User 46, CV score: 0.99480784689\n",
      "User 47, CV score: 0.995850467098\n",
      "User 48, CV score: 0.997122387347\n",
      "User 49, CV score: 0.995130997596\n",
      "User 50, CV score: 0.996403064095\n",
      "User 51, CV score: 0.991294041404\n",
      "User 52, CV score: 0.996027624517\n",
      "User 53, CV score: 0.995860696303\n",
      "User 54, CV score: 0.995120536918\n",
      "User 55, CV score: 0.997143270932\n",
      "User 56, CV score: 0.989438564453\n",
      "User 57, CV score: 0.992534791732\n",
      "User 58, CV score: 0.996601129299\n",
      "User 59, CV score: 0.986654527904\n",
      "User 60, CV score: 0.988312475772\n",
      "User 61, CV score: 0.994328248008\n",
      "User 62, CV score: 0.990272126548\n",
      "User 63, CV score: 0.995954625928\n",
      "User 64, CV score: 0.990835777952\n",
      "User 65, CV score: 0.996861652504\n",
      "User 66, CV score: 0.995548143318\n",
      "User 67, CV score: 0.997330847366\n",
      "User 68, CV score: 0.995548095866\n",
      "User 69, CV score: 0.996653244304\n",
      "User 70, CV score: 0.996819960405\n",
      "User 71, CV score: 0.995912773535\n",
      "User 72, CV score: 0.996601053755\n",
      "User 73, CV score: 0.996674104636\n",
      "User 74, CV score: 0.99213868505\n",
      "User 75, CV score: 0.996747051407\n",
      "User 76, CV score: 0.992180532129\n",
      "User 77, CV score: 0.997257909801\n",
      "User 78, CV score: 0.996621984791\n",
      "User 79, CV score: 0.996215163179\n",
      "User 80, CV score: 0.990240998765\n",
      "User 81, CV score: 0.996715791894\n",
      "User 82, CV score: 0.994203049664\n",
      "User 83, CV score: 0.995933822254\n",
      "User 84, CV score: 0.99716414531\n",
      "User 85, CV score: 0.995068388981\n",
      "User 86, CV score: 0.997070277183\n",
      "User 87, CV score: 0.997216274361\n",
      "User 88, CV score: 0.989281960822\n",
      "User 89, CV score: 0.996643028197\n",
      "User 90, CV score: 0.995224762087\n",
      "User 91, CV score: 0.994098706812\n",
      "User 92, CV score: 0.993421273251\n",
      "User 93, CV score: 0.984381425768\n",
      "User 94, CV score: 0.996861633617\n",
      "User 95, CV score: 0.995204009757\n",
      "User 96, CV score: 0.991825938364\n",
      "User 97, CV score: 0.988917259901\n",
      "User 98, CV score: 0.998060824524\n",
      "User 99, CV score: 0.99096042518\n",
      "User 100, CV score: 0.989574011362\n",
      "User 101, CV score: 0.99432820587\n",
      "User 102, CV score: 0.986143871943\n",
      "User 103, CV score: 0.979585115409\n",
      "User 104, CV score: 0.980961671957\n",
      "User 105, CV score: 0.991033673181\n",
      "User 106, CV score: 0.995401990685\n",
      "User 107, CV score: 0.99680975787\n",
      "User 108, CV score: 0.997059849437\n",
      "User 109, CV score: 0.996934721797\n",
      "User 110, CV score: 0.997278751247\n",
      "User 111, CV score: 0.995120532078\n",
      "User 112, CV score: 0.996913837739\n",
      "User 113, CV score: 0.9963508595\n",
      "User 114, CV score: 0.996872141274\n",
      "User 115, CV score: 0.995547870654\n",
      "User 116, CV score: 0.996455127755\n",
      "User 117, CV score: 0.99418225083\n",
      "User 118, CV score: 0.996569940491\n",
      "User 119, CV score: 0.997049501601\n",
      "User 120, CV score: 0.995495806994\n",
      "User 121, CV score: 0.996225765266\n",
      "User 122, CV score: 0.996340342637\n",
      "User 123, CV score: 0.997216137792\n",
      "User 124, CV score: 0.99564185599\n",
      "User 125, CV score: 0.994119670307\n",
      "User 126, CV score: 0.996893123655\n",
      "User 127, CV score: 0.997799980729\n",
      "User 128, CV score: 0.996767934991\n",
      "User 129, CV score: 0.994453361602\n",
      "User 130, CV score: 0.98955279893\n",
      "User 131, CV score: 0.991825787749\n",
      "User 132, CV score: 0.996663540321\n",
      "User 133, CV score: 0.996663728234\n",
      "User 134, CV score: 0.996361418501\n",
      "User 135, CV score: 0.997581220328\n",
      "User 136, CV score: 0.997247543553\n",
      "User 137, CV score: 0.996924289211\n",
      "User 138, CV score: 0.993139669343\n",
      "User 139, CV score: 0.993733921141\n",
      "User 140, CV score: 0.995808741593\n",
      "User 141, CV score: 0.996371513033\n",
      "User 142, CV score: 0.997289202245\n",
      "User 143, CV score: 0.995308390855\n",
      "User 144, CV score: 0.994964201584\n",
      "User 145, CV score: 0.997403944751\n",
      "User 146, CV score: 0.995026978278\n",
      "User 147, CV score: 0.993025006274\n",
      "User 148, CV score: 0.996455155847\n",
      "User 149, CV score: 0.995662781713\n",
      "User 150, CV score: 0.996892808379\n"
     ]
    }
   ],
   "source": [
    "cv_scores_by_user = {}\n",
    "for user_id in logit_cv_150users.scores_:\n",
    "    print('User {}, CV score: {}'.format(user_id, logit_cv_150users.scores_[user_id].mean()))"
   ]
  },
  {
   "cell_type": "markdown",
   "metadata": {},
   "source": [
    "**Результаты кажутся впечатляющими, но возможно, мы забываем про дисбаланс классов, и высокую долю правильных ответов можно получить константным прогнозом. Посчитаем для каждого пользователя разницу между долей правильных ответов на кросс-валидации (только что посчитанную с помощью `LogisticRegressionCV`) и долей меток в *y_train_150*, отличных от ID этого пользователя (именно такую долю правильных ответов можно получить, если классификатор всегда \"говорит\", что это не пользователь с номером $i$ в задаче классификации $i$-vs-All).**"
   ]
  },
  {
   "cell_type": "code",
   "execution_count": 86,
   "metadata": {
    "collapsed": true
   },
   "outputs": [],
   "source": [
    "class_distr = np.bincount(y_train_150.astype('int'))\n",
    "acc_diff_vs_constant = {}\n",
    "\n",
    "for user_id in np.unique(y_train_150):\n",
    "    acc_diff_vs_constant[user_id] = logit_cv_150users.scores_[user_id].mean(axis = 0) - (1 - class_distr[user_id] / len(y_train_150))"
   ]
  },
  {
   "cell_type": "code",
   "execution_count": 87,
   "metadata": {},
   "outputs": [
    {
     "name": "stdout",
     "output_type": "stream",
     "text": [
      "Доля пользователей, для которых модель дает прогноз лучше константного = 0.873\n"
     ]
    }
   ],
   "source": [
    "print ('Доля пользователей, для которых модель дает прогноз лучше константного = %s'\n",
    "      % round((np.array(list(acc_diff_vs_constant.values())) > 0).sum() / 150, 3))"
   ]
  },
  {
   "cell_type": "markdown",
   "metadata": {},
   "source": [
    "**Дальше будем строить кривые обучения для конкретного пользователя, допустим, для 128-го. Составим новый бинарный вектор на основе *y_150users*, его значения будут 1 или 0 в зависимости от того, равен ли ID пользователя 128.**"
   ]
  },
  {
   "cell_type": "code",
   "execution_count": 88,
   "metadata": {
    "collapsed": true
   },
   "outputs": [],
   "source": [
    "y_binary_128 = []\n",
    "for i in range(len(y_150users)):\n",
    "    if y_150users[i] == 128:\n",
    "        y_binary_128.append(1)\n",
    "    else:\n",
    "        y_binary_128.append(0)"
   ]
  },
  {
   "cell_type": "code",
   "execution_count": 89,
   "metadata": {
    "collapsed": true
   },
   "outputs": [],
   "source": [
    "def plot_learning_curve(val_train, val_test, train_sizes, \n",
    "                        xlabel='Training Set Size', ylabel='score'):\n",
    "    def plot_with_err(x, data, **kwargs):\n",
    "        mu, std = data.mean(1), data.std(1)\n",
    "        lines = plt.plot(x, mu, '-', **kwargs)\n",
    "        plt.fill_between(x, mu - std, mu + std, edgecolor='none',\n",
    "                         facecolor=lines[0].get_color(), alpha=0.2)\n",
    "    plot_with_err(train_sizes, val_train, label='train')\n",
    "    plot_with_err(train_sizes, val_test, label='valid')\n",
    "    plt.xlabel(xlabel); plt.ylabel(ylabel)\n",
    "    plt.legend(loc='lower right');"
   ]
  },
  {
   "cell_type": "markdown",
   "metadata": {},
   "source": [
    "**Посчитаем доли правильных ответов на кросс-валидации в задаче классификации \"user128-vs-All\" в зависимости от размера выборки**"
   ]
  },
  {
   "cell_type": "code",
   "execution_count": 90,
   "metadata": {},
   "outputs": [
    {
     "name": "stdout",
     "output_type": "stream",
     "text": [
      "CPU times: user 12min 10s, sys: 412 ms, total: 12min 10s\n",
      "Wall time: 12min 10s\n"
     ]
    }
   ],
   "source": [
    "%%time\n",
    "train_sizes = np.linspace(0.25, 1, 20)\n",
    "estimator = svm_grid_searcher2.best_estimator_\n",
    "n_train, val_train, val_test = learning_curve(estimator, X_sparse_150users, y_150users)"
   ]
  },
  {
   "cell_type": "code",
   "execution_count": 91,
   "metadata": {},
   "outputs": [
    {
     "data": {
      "image/png": "[encoded data removed]",
      "text/plain": [
       "<matplotlib.figure.Figure at 0x7f45d5e2b190>"
      ]
     },
     "metadata": {},
     "output_type": "display_data"
    }
   ],
   "source": [
    "fig = plt.figure(figsize = (12, 8))\n",
    "\n",
    "plot_learning_curve(val_train, val_test, n_train, \n",
    "                    xlabel='Train_size', ylabel='Accuracy')"
   ]
  },
  {
   "cell_type": "markdown",
   "metadata": {},
   "source": [
    "** В проекте были исследованы несколько методов построения модели для решения задачи идентафикации интернет-пользователей по их поведению: метод k ближайших соседей, случайный лес, логистическая регрессия и метод опорных векторов. Из них лучшими для конкретной задачи себя показали последние два, для которых был осуществлен более детальный подбор параметров. В итоге немного лучше себя показал метод опорных векторов, который и был выбран в качестве финального. **\n",
    "\n",
    "** Полученная модель позволяет хорошо решить задачу идентификации интернет-пользователей. Достигаемый уровень точности по доле правильных ответов для каждого пользователя в среднем составляет около 0.99, при этом, учитывая дисбаланс классов, доля пользователей, для которых прогноз модели лучше константного составляет 0.87.**\n",
    "\n",
    "** Хорошим способо дальнейшей проверки работоспособности модели был бы анализ выборки из 3000 пользователей. Но вычислительные способности рабочей техники не позволяют произвести этот анализ за разумное время.**\n",
    "\n",
    "** Дальнейшими шагами по улучшению модели могли бы быть более детальная работа с дисбалансом классов, а также углубленный подбор параметров модели.**"
   ]
  }
 ],
 "metadata": {
  "anaconda-cloud": {},
  "kernelspec": {
   "display_name": "Python 2",
   "language": "python",
   "name": "python2"
  },
  "language_info": {
   "codemirror_mode": {
    "name": "ipython",
    "version": 2
   },
   "file_extension": ".py",
   "mimetype": "text/x-python",
   "name": "python",
   "nbconvert_exporter": "python",
   "pygments_lexer": "ipython2",
   "version": "2.7.13"
  }
 },
 "nbformat": 4,
 "nbformat_minor": 1
}
