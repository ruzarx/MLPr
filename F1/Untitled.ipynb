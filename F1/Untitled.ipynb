{
 "cells": [
  {
   "cell_type": "code",
   "execution_count": 1,
   "metadata": {},
   "outputs": [],
   "source": [
    "import matplotlib.pyplot as plt\n",
    "from itertools import combinations, permutations, product, chain\n",
    "import numpy as np\n",
    "import gc, csv"
   ]
  },
  {
   "cell_type": "code",
   "execution_count": 37,
   "metadata": {},
   "outputs": [],
   "source": [
    "'''\n",
    "Function for Sharpe ration calculation for various number of drivers in one calculation\n",
    "\n",
    "Input is \n",
    "- an array of possibilities for all the drivers to score\n",
    "- an array of money stakes for each driver (generates later to gen a distribution)\n",
    "- an array of bookmaker coefficients for each driver\n",
    "\n",
    "The dimentions obviously should be the same and equal to number on drivers in a run\n",
    "\n",
    "'''\n",
    "\n",
    "def sharpe(pos, mon, koef):\n",
    "\n",
    "    p_temp = []\n",
    "    m_temp = []\n",
    "    k_temp = []\n",
    "    \n",
    "    # Calculating a list of possible intersections for each instance\n",
    "    for i in range(len(pos)):\n",
    "        p_temp.append([pos[i], 1 - pos[i]])\n",
    "        m_temp.append([mon[i], mon[i] - mon[i]])\n",
    "        k_temp.append([koef[i], koef[i] - koef[i]])\n",
    "\n",
    "    # Generating all the combinations\n",
    "    p = list(product(*p_temp))\n",
    "    m = list(product(*m_temp))\n",
    "    k = list(product(*k_temp))\n",
    "\n",
    "    # Calculating probabilities for each income\n",
    "    p_list = []\n",
    "    for i in range(len(p)):\n",
    "        p_item = p[i][0]\n",
    "        for j in range(1, len(p[0])):\n",
    "            p_item *= p[i][j]\n",
    "        p_list.append(p_item)\n",
    "\n",
    "    # Overall stake sum\n",
    "    cost = sum(mon)\n",
    "\n",
    "    # Profit weighted with probability for each income\n",
    "    prof = []\n",
    "    for i in range(len(p)):\n",
    "        prof.append(sum([(m[i][j] * k[i][j]) for j in range(len(m[i]))]) - cost)\n",
    "\n",
    "    # Mean expectation\n",
    "    mex = sum([pr * p for pr, p in zip(prof, p_list)])\n",
    "\n",
    "    # Dispersion\n",
    "    disp = 0\n",
    "    for i in range(len(p)):\n",
    "        disp += (len(mon) / (len(mon) - 1)) * p_list[i] * ((prof[i] - mex) ** 2)\n",
    "\n",
    "    # Returning Sharpe ratio\n",
    "    return mex / disp"
   ]
  },
  {
   "cell_type": "code",
   "execution_count": 25,
   "metadata": {},
   "outputs": [
    {
     "name": "stdout",
     "output_type": "stream",
     "text": [
      "ME is -0.058000000000000024\n",
      "Dispersion is 0.24507600000000002\n"
     ]
    },
    {
     "data": {
      "text/plain": [
       "-0.23666128058235006"
      ]
     },
     "execution_count": 25,
     "metadata": {},
     "output_type": "execute_result"
    }
   ],
   "source": [
    "sharpe([0.6, 0.7], [0.4, 0.6], [2, 1.1])"
   ]
  },
  {
   "cell_type": "code",
   "execution_count": 26,
   "metadata": {},
   "outputs": [
    {
     "name": "stdout",
     "output_type": "stream",
     "text": [
      "ME is -0.058\n",
      "Dispersion is 0.24507600000000002\n"
     ]
    },
    {
     "data": {
      "text/plain": [
       "-0.23666128058234995"
      ]
     },
     "execution_count": 26,
     "metadata": {},
     "output_type": "execute_result"
    }
   ],
   "source": [
    "sharpe([0.6, 0.7, 0.8], [0.4, 0.6, 0], [2, 1.1, 1.5])"
   ]
  },
  {
   "cell_type": "code",
   "execution_count": 38,
   "metadata": {},
   "outputs": [],
   "source": [
    "drivers = [['Kvyat', 2, 0.6], ['Lewis', 1.1, 0.9], ['Seb', 1.2, 0.85], ['Kubica', 5, 0.3], ['Sergio', 1.8, 0.7],\n",
    "          ['Filipe', 1.6, 0.65], ['Marcus', 3.5, 0.4]]"
   ]
  },
  {
   "cell_type": "code",
   "execution_count": 68,
   "metadata": {},
   "outputs": [],
   "source": [
    "def challenger(drivers):\n",
    "    \n",
    "    gc.collect()\n",
    "    \n",
    "    combs = []\n",
    "    for num_drivers in [2, 3, 4, 5, 6]:\n",
    "        combs.append(list(combinations(drivers, num_drivers)))\n",
    "\n",
    "    combs = list(chain(*combs))\n",
    "\n",
    "    overall_max = [0]\n",
    "    stakes_no = 0\n",
    "    for run in combs:\n",
    "        \n",
    "        stakes_no_old = stakes_no\n",
    "        stakes_no = len(run)\n",
    "\n",
    "        if stakes_no_old != stakes_no:\n",
    "            \n",
    "            mon = np.genfromtxt(r'./Money_sets/money_set_' + str(len(run)) + '.txt', delimiter=';')\n",
    "\n",
    "        pos = []\n",
    "        koef = []\n",
    "        driver = []\n",
    "\n",
    "        for i in range(len(run)):\n",
    "            pos.append(run[i][2])\n",
    "            koef.append(run[i][1])\n",
    "            driver.append(run[i][0])\n",
    "\n",
    "        local_max = [0]\n",
    "        for m in mon:\n",
    "            sh = sharpe(pos, m, koef)\n",
    "            if sh > local_max[0]:\n",
    "                local_max = [sh]\n",
    "                local_max.append(m)\n",
    "                local_max.append(driver)\n",
    "        print(f\"For pair {driver} maximum profit is {round(local_max[0],2)} at money spent like {local_max[1]}\")\n",
    "        if local_max[0] > overall_max[0]:\n",
    "            overall_max = [local_max[0]]\n",
    "            overall_max.append(local_max[2])\n",
    "            overall_max.append(local_max[1])\n",
    "\n",
    "    print(f\"Overall maximum is for pair {overall_max[1]} maximum profit is {round(overall_max[0],2)} at money spent like {overall_max[2]}\")"
   ]
  },
  {
   "cell_type": "code",
   "execution_count": 67,
   "metadata": {},
   "outputs": [
    {
     "name": "stdout",
     "output_type": "stream",
     "text": [
      "For pair ['Kvyat', 'Lewis'] maximum profit is 0.19 at money spent like [0.4 0.6]\n",
      "For pair ['Kvyat', 'Seb'] maximum profit is 0.21 at money spent like [0.3 0.7]\n",
      "For pair ['Kvyat', 'Kubica'] maximum profit is 0.16 at money spent like [0.8 0.2]\n",
      "For pair ['Kvyat', 'Sergio'] maximum profit is 0.3 at money spent like [0.4 0.6]\n",
      "For pair ['Kvyat', 'Filipe'] maximum profit is 0.16 at money spent like [0.5 0.5]\n",
      "For pair ['Kvyat', 'Marcus'] maximum profit is 0.18 at money spent like [0.7 0.3]\n",
      "For pair ['Lewis', 'Seb'] maximum profit is 0.06 at money spent like [0.2 0.8]\n",
      "For pair ['Lewis', 'Kubica'] maximum profit is 0.16 at money spent like [0.8 0.2]\n",
      "For pair ['Lewis', 'Sergio'] maximum profit is 0.33 at money spent like [0.6 0.4]\n",
      "For pair ['Lewis', 'Filipe'] maximum profit is 0.04 at money spent like [0.4 0.6]\n",
      "For pair ['Lewis', 'Marcus'] maximum profit is 0.19 at money spent like [0.8 0.2]\n",
      "For pair ['Seb', 'Kubica'] maximum profit is 0.18 at money spent like [0.8 0.2]\n",
      "For pair ['Seb', 'Sergio'] maximum profit is 0.33 at money spent like [0.6 0.4]\n",
      "For pair ['Seb', 'Filipe'] maximum profit is 0.09 at money spent like [0.7 0.3]\n",
      "For pair ['Seb', 'Marcus'] maximum profit is 0.2 at money spent like [0.8 0.2]\n",
      "For pair ['Kubica', 'Sergio'] maximum profit is 0.24 at money spent like [0.2 0.8]\n",
      "For pair ['Kubica', 'Filipe'] maximum profit is 0.12 at money spent like [0.3 0.7]\n",
      "For pair ['Kubica', 'Marcus'] maximum profit is 0.12 at money spent like [0.4 0.6]\n",
      "For pair ['Sergio', 'Filipe'] maximum profit is 0.25 at money spent like [0.6 0.4]\n",
      "For pair ['Sergio', 'Marcus'] maximum profit is 0.26 at money spent like [0.8 0.2]\n",
      "For pair ['Filipe', 'Marcus'] maximum profit is 0.14 at money spent like [0.6 0.4]\n",
      "For pair ['Kvyat', 'Lewis', 'Seb'] maximum profit is 0.35 at money spent like [0.3 0.3 0.4]\n",
      "For pair ['Kvyat', 'Lewis', 'Kubica'] maximum profit is 0.36 at money spent like [0.4 0.5 0.1]\n",
      "For pair ['Kvyat', 'Lewis', 'Sergio'] maximum profit is 0.59 at money spent like [0.2 0.5 0.3]\n",
      "For pair ['Kvyat', 'Lewis', 'Filipe'] maximum profit is 0.31 at money spent like [0.3 0.5 0.2]\n",
      "For pair ['Kvyat', 'Lewis', 'Marcus'] maximum profit is 0.39 at money spent like [0.2 0.6 0.2]\n",
      "For pair ['Kvyat', 'Seb', 'Kubica'] maximum profit is 0.37 at money spent like [0.4 0.5 0.1]\n",
      "For pair ['Kvyat', 'Seb', 'Sergio'] maximum profit is 0.59 at money spent like [0.2 0.5 0.3]\n",
      "For pair ['Kvyat', 'Seb', 'Filipe'] maximum profit is 0.33 at money spent like [0.3 0.5 0.2]\n",
      "For pair ['Kvyat', 'Seb', 'Marcus'] maximum profit is 0.4 at money spent like [0.3 0.5 0.2]\n",
      "For pair ['Kvyat', 'Kubica', 'Sergio'] maximum profit is 0.46 at money spent like [0.3 0.1 0.6]\n",
      "For pair ['Kvyat', 'Kubica', 'Filipe'] maximum profit is 0.29 at money spent like [0.5 0.1 0.4]\n",
      "For pair ['Kvyat', 'Kubica', 'Marcus'] maximum profit is 0.3 at money spent like [0.5 0.2 0.3]\n",
      "For pair ['Kvyat', 'Sergio', 'Filipe'] maximum profit is 0.47 at money spent like [0.3 0.4 0.3]\n",
      "For pair ['Kvyat', 'Sergio', 'Marcus'] maximum profit is 0.48 at money spent like [0.3 0.5 0.2]\n",
      "For pair ['Kvyat', 'Filipe', 'Marcus'] maximum profit is 0.32 at money spent like [0.4 0.4 0.2]\n",
      "For pair ['Lewis', 'Seb', 'Kubica'] maximum profit is 0.32 at money spent like [0.5 0.4 0.1]\n",
      "For pair ['Lewis', 'Seb', 'Sergio'] maximum profit is 0.56 at money spent like [0.4 0.3 0.3]\n",
      "For pair ['Lewis', 'Seb', 'Filipe'] maximum profit is 0.13 at money spent like [0.2 0.5 0.3]\n",
      "For pair ['Lewis', 'Seb', 'Marcus'] maximum profit is 0.34 at money spent like [0.4 0.4 0.2]\n",
      "For pair ['Lewis', 'Kubica', 'Sergio'] maximum profit is 0.53 at money spent like [0.6 0.1 0.3]\n",
      "For pair ['Lewis', 'Kubica', 'Filipe'] maximum profit is 0.26 at money spent like [0.7 0.1 0.2]\n",
      "For pair ['Lewis', 'Kubica', 'Marcus'] maximum profit is 0.37 at money spent like [0.7 0.1 0.2]\n",
      "For pair ['Lewis', 'Sergio', 'Filipe'] maximum profit is 0.48 at money spent like [0.5 0.4 0.1]\n",
      "For pair ['Lewis', 'Sergio', 'Marcus'] maximum profit is 0.56 at money spent like [0.5 0.4 0.1]\n",
      "For pair ['Lewis', 'Filipe', 'Marcus'] maximum profit is 0.3 at money spent like [0.6 0.2 0.2]\n",
      "For pair ['Seb', 'Kubica', 'Sergio'] maximum profit is 0.53 at money spent like [0.5 0.1 0.4]\n",
      "For pair ['Seb', 'Kubica', 'Filipe'] maximum profit is 0.29 at money spent like [0.7 0.1 0.2]\n",
      "For pair ['Seb', 'Kubica', 'Marcus'] maximum profit is 0.37 at money spent like [0.7 0.1 0.2]\n",
      "For pair ['Seb', 'Sergio', 'Filipe'] maximum profit is 0.5 at money spent like [0.4 0.4 0.2]\n",
      "For pair ['Seb', 'Sergio', 'Marcus'] maximum profit is 0.56 at money spent like [0.5 0.4 0.1]\n",
      "For pair ['Seb', 'Filipe', 'Marcus'] maximum profit is 0.32 at money spent like [0.6 0.2 0.2]\n",
      "For pair ['Kubica', 'Sergio', 'Filipe'] maximum profit is 0.42 at money spent like [0.1 0.6 0.3]\n",
      "For pair ['Kubica', 'Sergio', 'Marcus'] maximum profit is 0.41 at money spent like [0.1 0.7 0.2]\n",
      "For pair ['Kubica', 'Filipe', 'Marcus'] maximum profit is 0.26 at money spent like [0.2 0.5 0.3]\n",
      "For pair ['Sergio', 'Filipe', 'Marcus'] maximum profit is 0.44 at money spent like [0.5 0.3 0.2]\n",
      "For pair ['Kvyat', 'Lewis', 'Seb', 'Kubica'] maximum profit is 0.55 at money spent like [0.2 0.3 0.4 0.1]\n",
      "For pair ['Kvyat', 'Lewis', 'Seb', 'Sergio'] maximum profit is 0.78 at money spent like [0.1 0.4 0.3 0.2]\n",
      "For pair ['Kvyat', 'Lewis', 'Seb', 'Filipe'] maximum profit is 0.44 at money spent like [0.2 0.3 0.4 0.1]\n",
      "For pair ['Kvyat', 'Lewis', 'Seb', 'Marcus'] maximum profit is 0.6 at money spent like [0.2 0.3 0.4 0.1]\n",
      "For pair ['Kvyat', 'Lewis', 'Kubica', 'Sergio'] maximum profit is 0.73 at money spent like [0.2 0.4 0.1 0.3]\n",
      "For pair ['Kvyat', 'Lewis', 'Kubica', 'Filipe'] maximum profit is 0.49 at money spent like [0.2 0.5 0.1 0.2]\n",
      "For pair ['Kvyat', 'Lewis', 'Kubica', 'Marcus'] maximum profit is 0.58 at money spent like [0.2 0.6 0.1 0.1]\n",
      "For pair ['Kvyat', 'Lewis', 'Sergio', 'Filipe'] maximum profit is 0.7 at money spent like [0.1 0.5 0.3 0.1]\n",
      "For pair ['Kvyat', 'Lewis', 'Sergio', 'Marcus'] maximum profit is 0.78 at money spent like [0.1 0.5 0.3 0.1]\n",
      "For pair ['Kvyat', 'Lewis', 'Filipe', 'Marcus'] maximum profit is 0.52 at money spent like [0.2 0.6 0.1 0.1]\n",
      "For pair ['Kvyat', 'Seb', 'Kubica', 'Sergio'] maximum profit is 0.73 at money spent like [0.2 0.4 0.1 0.3]\n",
      "For pair ['Kvyat', 'Seb', 'Kubica', 'Filipe'] maximum profit is 0.51 at money spent like [0.2 0.5 0.1 0.2]\n",
      "For pair ['Kvyat', 'Seb', 'Kubica', 'Marcus'] maximum profit is 0.57 at money spent like [0.2 0.6 0.1 0.1]\n",
      "For pair ['Kvyat', 'Seb', 'Sergio', 'Filipe'] maximum profit is 0.71 at money spent like [0.2 0.3 0.3 0.2]\n",
      "For pair ['Kvyat', 'Seb', 'Sergio', 'Marcus'] maximum profit is 0.76 at money spent like [0.1 0.5 0.3 0.1]\n",
      "For pair ['Kvyat', 'Seb', 'Filipe', 'Marcus'] maximum profit is 0.52 at money spent like [0.2 0.6 0.1 0.1]\n",
      "For pair ['Kvyat', 'Kubica', 'Sergio', 'Filipe'] maximum profit is 0.61 at money spent like [0.3 0.1 0.4 0.2]\n",
      "For pair ['Kvyat', 'Kubica', 'Sergio', 'Marcus'] maximum profit is 0.62 at money spent like [0.3 0.1 0.5 0.1]\n",
      "For pair ['Kvyat', 'Kubica', 'Filipe', 'Marcus'] maximum profit is 0.44 at money spent like [0.4 0.1 0.3 0.2]\n",
      "For pair ['Kvyat', 'Sergio', 'Filipe', 'Marcus'] maximum profit is 0.6 at money spent like [0.2 0.4 0.2 0.2]\n",
      "For pair ['Lewis', 'Seb', 'Kubica', 'Sergio'] maximum profit is 0.7 at money spent like [0.3 0.3 0.1 0.3]\n",
      "For pair ['Lewis', 'Seb', 'Kubica', 'Filipe'] maximum profit is 0.41 at money spent like [0.4 0.4 0.1 0.1]\n",
      "For pair ['Lewis', 'Seb', 'Kubica', 'Marcus'] maximum profit is 0.55 at money spent like [0.4 0.4 0.1 0.1]\n",
      "For pair ['Lewis', 'Seb', 'Sergio', 'Filipe'] maximum profit is 0.64 at money spent like [0.3 0.2 0.3 0.2]\n",
      "For pair ['Lewis', 'Seb', 'Sergio', 'Marcus'] maximum profit is 0.72 at money spent like [0.5 0.1 0.3 0.1]\n",
      "For pair ['Lewis', 'Seb', 'Filipe', 'Marcus'] maximum profit is 0.44 at money spent like [0.4 0.4 0.1 0.1]\n",
      "For pair ['Lewis', 'Kubica', 'Sergio', 'Filipe'] maximum profit is 0.65 at money spent like [0.5 0.1 0.3 0.1]\n",
      "For pair ['Lewis', 'Kubica', 'Sergio', 'Marcus'] maximum profit is 0.72 at money spent like [0.5 0.1 0.3 0.1]\n",
      "For pair ['Lewis', 'Kubica', 'Filipe', 'Marcus'] maximum profit is 0.46 at money spent like [0.7 0.1 0.1 0.1]\n",
      "For pair ['Lewis', 'Sergio', 'Filipe', 'Marcus'] maximum profit is 0.71 at money spent like [0.5 0.3 0.1 0.1]\n",
      "For pair ['Seb', 'Kubica', 'Sergio', 'Filipe'] maximum profit is 0.65 at money spent like [0.4 0.1 0.3 0.2]\n",
      "For pair ['Seb', 'Kubica', 'Sergio', 'Marcus'] maximum profit is 0.71 at money spent like [0.5 0.1 0.3 0.1]\n",
      "For pair ['Seb', 'Kubica', 'Filipe', 'Marcus'] maximum profit is 0.47 at money spent like [0.5 0.1 0.3 0.1]\n",
      "For pair ['Seb', 'Sergio', 'Filipe', 'Marcus'] maximum profit is 0.7 at money spent like [0.5 0.3 0.1 0.1]\n",
      "For pair ['Kubica', 'Sergio', 'Filipe', 'Marcus'] maximum profit is 0.57 at money spent like [0.1 0.5 0.3 0.1]\n"
     ]
    },
    {
     "name": "stdout",
     "output_type": "stream",
     "text": [
      "For pair ['Kvyat', 'Lewis', 'Seb', 'Kubica', 'Sergio'] maximum profit is 0.86 at money spent like [0.1 0.3 0.3 0.1 0.2]\n",
      "For pair ['Kvyat', 'Lewis', 'Seb', 'Kubica', 'Filipe'] maximum profit is 0.63 at money spent like [0.2 0.3 0.3 0.1 0.1]\n",
      "For pair ['Kvyat', 'Lewis', 'Seb', 'Kubica', 'Marcus'] maximum profit is 0.73 at money spent like [0.2 0.3 0.3 0.1 0.1]\n",
      "For pair ['Kvyat', 'Lewis', 'Seb', 'Sergio', 'Filipe'] maximum profit is 0.84 at money spent like [0.1 0.3 0.2 0.2 0.2]\n",
      "For pair ['Kvyat', 'Lewis', 'Seb', 'Sergio', 'Marcus'] maximum profit is 0.91 at money spent like [0.1 0.4 0.1 0.3 0.1]\n",
      "For pair ['Kvyat', 'Lewis', 'Seb', 'Filipe', 'Marcus'] maximum profit is 0.7 at money spent like [0.2 0.3 0.3 0.1 0.1]\n",
      "For pair ['Kvyat', 'Lewis', 'Kubica', 'Sergio', 'Filipe'] maximum profit is 0.81 at money spent like [0.1 0.4 0.1 0.3 0.1]\n",
      "For pair ['Kvyat', 'Lewis', 'Kubica', 'Sergio', 'Marcus'] maximum profit is 0.87 at money spent like [0.1 0.4 0.1 0.3 0.1]\n",
      "For pair ['Kvyat', 'Lewis', 'Kubica', 'Filipe', 'Marcus'] maximum profit is 0.63 at money spent like [0.1 0.6 0.1 0.1 0.1]\n",
      "For pair ['Kvyat', 'Lewis', 'Sergio', 'Filipe', 'Marcus'] maximum profit is 0.89 at money spent like [0.1 0.5 0.2 0.1 0.1]\n",
      "For pair ['Kvyat', 'Seb', 'Kubica', 'Sergio', 'Filipe'] maximum profit is 0.82 at money spent like [0.2 0.3 0.1 0.3 0.1]\n",
      "For pair ['Kvyat', 'Seb', 'Kubica', 'Sergio', 'Marcus'] maximum profit is 0.86 at money spent like [0.2 0.3 0.1 0.3 0.1]\n",
      "For pair ['Kvyat', 'Seb', 'Kubica', 'Filipe', 'Marcus'] maximum profit is 0.64 at money spent like [0.3 0.4 0.1 0.1 0.1]\n",
      "For pair ['Kvyat', 'Seb', 'Sergio', 'Filipe', 'Marcus'] maximum profit is 0.89 at money spent like [0.2 0.3 0.3 0.1 0.1]\n",
      "For pair ['Kvyat', 'Kubica', 'Sergio', 'Filipe', 'Marcus'] maximum profit is 0.73 at money spent like [0.3 0.1 0.4 0.1 0.1]\n",
      "For pair ['Lewis', 'Seb', 'Kubica', 'Sergio', 'Filipe'] maximum profit is 0.78 at money spent like [0.3 0.2 0.1 0.3 0.1]\n",
      "For pair ['Lewis', 'Seb', 'Kubica', 'Sergio', 'Marcus'] maximum profit is 0.84 at money spent like [0.3 0.2 0.1 0.3 0.1]\n",
      "For pair ['Lewis', 'Seb', 'Kubica', 'Filipe', 'Marcus'] maximum profit is 0.63 at money spent like [0.4 0.3 0.1 0.1 0.1]\n",
      "For pair ['Lewis', 'Seb', 'Sergio', 'Filipe', 'Marcus'] maximum profit is 0.89 at money spent like [0.3 0.3 0.2 0.1 0.1]\n",
      "For pair ['Lewis', 'Kubica', 'Sergio', 'Filipe', 'Marcus'] maximum profit is 0.81 at money spent like [0.4 0.1 0.3 0.1 0.1]\n",
      "For pair ['Seb', 'Kubica', 'Sergio', 'Filipe', 'Marcus'] maximum profit is 0.81 at money spent like [0.4 0.1 0.3 0.1 0.1]\n",
      "For pair ['Kvyat', 'Lewis', 'Seb', 'Kubica', 'Sergio', 'Filipe'] maximum profit is 0.91 at money spent like [0.1 0.2 0.2 0.1 0.3 0.1]\n",
      "For pair ['Kvyat', 'Lewis', 'Seb', 'Kubica', 'Sergio', 'Marcus'] maximum profit is 0.96 at money spent like [0.1 0.2 0.2 0.1 0.3 0.1]\n",
      "For pair ['Kvyat', 'Lewis', 'Seb', 'Kubica', 'Filipe', 'Marcus'] maximum profit is 0.79 at money spent like [0.1 0.3 0.3 0.1 0.1 0.1]\n",
      "For pair ['Kvyat', 'Lewis', 'Seb', 'Sergio', 'Filipe', 'Marcus'] maximum profit is 1.09 at money spent like [0.1 0.3 0.2 0.2 0.1 0.1]\n",
      "For pair ['Kvyat', 'Lewis', 'Kubica', 'Sergio', 'Filipe', 'Marcus'] maximum profit is 0.95 at money spent like [0.1 0.4 0.1 0.2 0.1 0.1]\n",
      "For pair ['Kvyat', 'Seb', 'Kubica', 'Sergio', 'Filipe', 'Marcus'] maximum profit is 0.94 at money spent like [0.1 0.3 0.1 0.3 0.1 0.1]\n",
      "For pair ['Lewis', 'Seb', 'Kubica', 'Sergio', 'Filipe', 'Marcus'] maximum profit is 0.93 at money spent like [0.3 0.3 0.  0.2 0.1 0.1]\n",
      "Overall maximum is for pair ['Kvyat', 'Lewis', 'Seb', 'Sergio', 'Filipe', 'Marcus'] maximum profit is 1.09 at money spent like [0.1 0.3 0.2 0.2 0.1 0.1]\n"
     ]
    }
   ],
   "source": [
    "challenger(drivers)"
   ]
  }
 ],
 "metadata": {
  "kernelspec": {
   "display_name": "Python 3",
   "language": "python",
   "name": "python3"
  },
  "language_info": {
   "codemirror_mode": {
    "name": "ipython",
    "version": 3
   },
   "file_extension": ".py",
   "mimetype": "text/x-python",
   "name": "python",
   "nbconvert_exporter": "python",
   "pygments_lexer": "ipython3",
   "version": "3.7.1"
  }
 },
 "nbformat": 4,
 "nbformat_minor": 2
}
