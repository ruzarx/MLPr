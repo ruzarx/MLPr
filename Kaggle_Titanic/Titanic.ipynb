{
 "cells": [
  {
   "cell_type": "markdown",
   "metadata": {},
   "source": [
    "# Задача прогнозирования выживания пассажиров Титаника"
   ]
  },
  {
   "cell_type": "code",
   "execution_count": 621,
   "metadata": {},
   "outputs": [],
   "source": [
    "import warnings\n",
    "warnings.filterwarnings('ignore')\n",
    "import pandas as pd\n",
    "import numpy as np\n",
    "from sklearn.neighbors import KNeighborsClassifier\n",
    "from sklearn.model_selection import train_test_split, GridSearchCV, StratifiedKFold, cross_val_score\n",
    "from sklearn.feature_selection import SelectKBest, f_classif, chi2, mutual_info_classif\n",
    "from sklearn.preprocessing import OneHotEncoder, LabelEncoder, LabelBinarizer, MinMaxScaler\n",
    "from sklearn.metrics import accuracy_score\n",
    "from sklearn.ensemble import RandomForestClassifier, AdaBoostClassifier, GradientBoostingClassifier\n",
    "from sklearn.linear_model import LogisticRegression, LogisticRegressionCV\n",
    "from sklearn.svm import LinearSVC\n",
    "from matplotlib import pyplot as plt\n",
    "import itertools\n",
    "% matplotlib inline"
   ]
  },
  {
   "cell_type": "code",
   "execution_count": 342,
   "metadata": {
    "collapsed": true
   },
   "outputs": [],
   "source": [
    "train = pd.read_csv('train.csv')\n",
    "test = pd.read_csv('test.csv')"
   ]
  },
  {
   "cell_type": "code",
   "execution_count": 4,
   "metadata": {},
   "outputs": [
    {
     "data": {
      "text/html": [
       "<div>\n",
       "<style>\n",
       "    .dataframe thead tr:only-child th {\n",
       "        text-align: right;\n",
       "    }\n",
       "\n",
       "    .dataframe thead th {\n",
       "        text-align: left;\n",
       "    }\n",
       "\n",
       "    .dataframe tbody tr th {\n",
       "        vertical-align: top;\n",
       "    }\n",
       "</style>\n",
       "<table border=\"1\" class=\"dataframe\">\n",
       "  <thead>\n",
       "    <tr style=\"text-align: right;\">\n",
       "      <th></th>\n",
       "      <th>PassengerId</th>\n",
       "      <th>Survived</th>\n",
       "      <th>Pclass</th>\n",
       "      <th>Name</th>\n",
       "      <th>Sex</th>\n",
       "      <th>Age</th>\n",
       "      <th>SibSp</th>\n",
       "      <th>Parch</th>\n",
       "      <th>Ticket</th>\n",
       "      <th>Fare</th>\n",
       "      <th>Cabin</th>\n",
       "      <th>Embarked</th>\n",
       "    </tr>\n",
       "  </thead>\n",
       "  <tbody>\n",
       "    <tr>\n",
       "      <th>0</th>\n",
       "      <td>1</td>\n",
       "      <td>0</td>\n",
       "      <td>3</td>\n",
       "      <td>Braund, Mr. Owen Harris</td>\n",
       "      <td>male</td>\n",
       "      <td>22.0</td>\n",
       "      <td>1</td>\n",
       "      <td>0</td>\n",
       "      <td>A/5 21171</td>\n",
       "      <td>7.2500</td>\n",
       "      <td>NaN</td>\n",
       "      <td>S</td>\n",
       "    </tr>\n",
       "    <tr>\n",
       "      <th>1</th>\n",
       "      <td>2</td>\n",
       "      <td>1</td>\n",
       "      <td>1</td>\n",
       "      <td>Cumings, Mrs. John Bradley (Florence Briggs Th...</td>\n",
       "      <td>female</td>\n",
       "      <td>38.0</td>\n",
       "      <td>1</td>\n",
       "      <td>0</td>\n",
       "      <td>PC 17599</td>\n",
       "      <td>71.2833</td>\n",
       "      <td>C85</td>\n",
       "      <td>C</td>\n",
       "    </tr>\n",
       "    <tr>\n",
       "      <th>2</th>\n",
       "      <td>3</td>\n",
       "      <td>1</td>\n",
       "      <td>3</td>\n",
       "      <td>Heikkinen, Miss. Laina</td>\n",
       "      <td>female</td>\n",
       "      <td>26.0</td>\n",
       "      <td>0</td>\n",
       "      <td>0</td>\n",
       "      <td>STON/O2. 3101282</td>\n",
       "      <td>7.9250</td>\n",
       "      <td>NaN</td>\n",
       "      <td>S</td>\n",
       "    </tr>\n",
       "    <tr>\n",
       "      <th>3</th>\n",
       "      <td>4</td>\n",
       "      <td>1</td>\n",
       "      <td>1</td>\n",
       "      <td>Futrelle, Mrs. Jacques Heath (Lily May Peel)</td>\n",
       "      <td>female</td>\n",
       "      <td>35.0</td>\n",
       "      <td>1</td>\n",
       "      <td>0</td>\n",
       "      <td>113803</td>\n",
       "      <td>53.1000</td>\n",
       "      <td>C123</td>\n",
       "      <td>S</td>\n",
       "    </tr>\n",
       "    <tr>\n",
       "      <th>4</th>\n",
       "      <td>5</td>\n",
       "      <td>0</td>\n",
       "      <td>3</td>\n",
       "      <td>Allen, Mr. William Henry</td>\n",
       "      <td>male</td>\n",
       "      <td>35.0</td>\n",
       "      <td>0</td>\n",
       "      <td>0</td>\n",
       "      <td>373450</td>\n",
       "      <td>8.0500</td>\n",
       "      <td>NaN</td>\n",
       "      <td>S</td>\n",
       "    </tr>\n",
       "  </tbody>\n",
       "</table>\n",
       "</div>"
      ],
      "text/plain": [
       "   PassengerId  Survived  Pclass  \\\n",
       "0            1         0       3   \n",
       "1            2         1       1   \n",
       "2            3         1       3   \n",
       "3            4         1       1   \n",
       "4            5         0       3   \n",
       "\n",
       "                                                Name     Sex   Age  SibSp  \\\n",
       "0                            Braund, Mr. Owen Harris    male  22.0      1   \n",
       "1  Cumings, Mrs. John Bradley (Florence Briggs Th...  female  38.0      1   \n",
       "2                             Heikkinen, Miss. Laina  female  26.0      0   \n",
       "3       Futrelle, Mrs. Jacques Heath (Lily May Peel)  female  35.0      1   \n",
       "4                           Allen, Mr. William Henry    male  35.0      0   \n",
       "\n",
       "   Parch            Ticket     Fare Cabin Embarked  \n",
       "0      0         A/5 21171   7.2500   NaN        S  \n",
       "1      0          PC 17599  71.2833   C85        C  \n",
       "2      0  STON/O2. 3101282   7.9250   NaN        S  \n",
       "3      0            113803  53.1000  C123        S  \n",
       "4      0            373450   8.0500   NaN        S  "
      ]
     },
     "execution_count": 4,
     "metadata": {},
     "output_type": "execute_result"
    }
   ],
   "source": [
    "train.head()"
   ]
  },
  {
   "cell_type": "code",
   "execution_count": 4,
   "metadata": {
    "collapsed": true
   },
   "outputs": [],
   "source": [
    "# Целевая метка\n",
    "target = train[\"Survived\"]"
   ]
  },
  {
   "cell_type": "code",
   "execution_count": 6,
   "metadata": {},
   "outputs": [
    {
     "data": {
      "text/html": [
       "<div>\n",
       "<style>\n",
       "    .dataframe thead tr:only-child th {\n",
       "        text-align: right;\n",
       "    }\n",
       "\n",
       "    .dataframe thead th {\n",
       "        text-align: left;\n",
       "    }\n",
       "\n",
       "    .dataframe tbody tr th {\n",
       "        vertical-align: top;\n",
       "    }\n",
       "</style>\n",
       "<table border=\"1\" class=\"dataframe\">\n",
       "  <thead>\n",
       "    <tr style=\"text-align: right;\">\n",
       "      <th></th>\n",
       "      <th>PassengerId</th>\n",
       "      <th>Survived</th>\n",
       "      <th>Pclass</th>\n",
       "      <th>Age</th>\n",
       "      <th>SibSp</th>\n",
       "      <th>Parch</th>\n",
       "      <th>Fare</th>\n",
       "    </tr>\n",
       "  </thead>\n",
       "  <tbody>\n",
       "    <tr>\n",
       "      <th>count</th>\n",
       "      <td>891.000000</td>\n",
       "      <td>891.000000</td>\n",
       "      <td>891.000000</td>\n",
       "      <td>714.000000</td>\n",
       "      <td>891.000000</td>\n",
       "      <td>891.000000</td>\n",
       "      <td>891.000000</td>\n",
       "    </tr>\n",
       "    <tr>\n",
       "      <th>mean</th>\n",
       "      <td>446.000000</td>\n",
       "      <td>0.383838</td>\n",
       "      <td>2.308642</td>\n",
       "      <td>29.699118</td>\n",
       "      <td>0.523008</td>\n",
       "      <td>0.381594</td>\n",
       "      <td>32.204208</td>\n",
       "    </tr>\n",
       "    <tr>\n",
       "      <th>std</th>\n",
       "      <td>257.353842</td>\n",
       "      <td>0.486592</td>\n",
       "      <td>0.836071</td>\n",
       "      <td>14.526497</td>\n",
       "      <td>1.102743</td>\n",
       "      <td>0.806057</td>\n",
       "      <td>49.693429</td>\n",
       "    </tr>\n",
       "    <tr>\n",
       "      <th>min</th>\n",
       "      <td>1.000000</td>\n",
       "      <td>0.000000</td>\n",
       "      <td>1.000000</td>\n",
       "      <td>0.420000</td>\n",
       "      <td>0.000000</td>\n",
       "      <td>0.000000</td>\n",
       "      <td>0.000000</td>\n",
       "    </tr>\n",
       "    <tr>\n",
       "      <th>25%</th>\n",
       "      <td>223.500000</td>\n",
       "      <td>0.000000</td>\n",
       "      <td>2.000000</td>\n",
       "      <td>20.125000</td>\n",
       "      <td>0.000000</td>\n",
       "      <td>0.000000</td>\n",
       "      <td>7.910400</td>\n",
       "    </tr>\n",
       "    <tr>\n",
       "      <th>50%</th>\n",
       "      <td>446.000000</td>\n",
       "      <td>0.000000</td>\n",
       "      <td>3.000000</td>\n",
       "      <td>28.000000</td>\n",
       "      <td>0.000000</td>\n",
       "      <td>0.000000</td>\n",
       "      <td>14.454200</td>\n",
       "    </tr>\n",
       "    <tr>\n",
       "      <th>75%</th>\n",
       "      <td>668.500000</td>\n",
       "      <td>1.000000</td>\n",
       "      <td>3.000000</td>\n",
       "      <td>38.000000</td>\n",
       "      <td>1.000000</td>\n",
       "      <td>0.000000</td>\n",
       "      <td>31.000000</td>\n",
       "    </tr>\n",
       "    <tr>\n",
       "      <th>max</th>\n",
       "      <td>891.000000</td>\n",
       "      <td>1.000000</td>\n",
       "      <td>3.000000</td>\n",
       "      <td>80.000000</td>\n",
       "      <td>8.000000</td>\n",
       "      <td>6.000000</td>\n",
       "      <td>512.329200</td>\n",
       "    </tr>\n",
       "  </tbody>\n",
       "</table>\n",
       "</div>"
      ],
      "text/plain": [
       "       PassengerId    Survived      Pclass         Age       SibSp  \\\n",
       "count   891.000000  891.000000  891.000000  714.000000  891.000000   \n",
       "mean    446.000000    0.383838    2.308642   29.699118    0.523008   \n",
       "std     257.353842    0.486592    0.836071   14.526497    1.102743   \n",
       "min       1.000000    0.000000    1.000000    0.420000    0.000000   \n",
       "25%     223.500000    0.000000    2.000000   20.125000    0.000000   \n",
       "50%     446.000000    0.000000    3.000000   28.000000    0.000000   \n",
       "75%     668.500000    1.000000    3.000000   38.000000    1.000000   \n",
       "max     891.000000    1.000000    3.000000   80.000000    8.000000   \n",
       "\n",
       "            Parch        Fare  \n",
       "count  891.000000  891.000000  \n",
       "mean     0.381594   32.204208  \n",
       "std      0.806057   49.693429  \n",
       "min      0.000000    0.000000  \n",
       "25%      0.000000    7.910400  \n",
       "50%      0.000000   14.454200  \n",
       "75%      0.000000   31.000000  \n",
       "max      6.000000  512.329200  "
      ]
     },
     "execution_count": 6,
     "metadata": {},
     "output_type": "execute_result"
    }
   ],
   "source": [
    "train.describe()"
   ]
  },
  {
   "cell_type": "markdown",
   "metadata": {},
   "source": [
    "Видим, что записи полные почти по всем характеристикам. И в тестовой, и в обучающей выборке не хватает записей в графе возраст, а также одной записи в тестовой выборке в столбце стоимость билета. При этом минимальное значение стоимости билета равно 0. Это могут быть бесплатные билеты для детей. Проверим этот момент."
   ]
  },
  {
   "cell_type": "code",
   "execution_count": 11,
   "metadata": {},
   "outputs": [
    {
     "data": {
      "text/html": [
       "<div>\n",
       "<style>\n",
       "    .dataframe thead tr:only-child th {\n",
       "        text-align: right;\n",
       "    }\n",
       "\n",
       "    .dataframe thead th {\n",
       "        text-align: left;\n",
       "    }\n",
       "\n",
       "    .dataframe tbody tr th {\n",
       "        vertical-align: top;\n",
       "    }\n",
       "</style>\n",
       "<table border=\"1\" class=\"dataframe\">\n",
       "  <thead>\n",
       "    <tr style=\"text-align: right;\">\n",
       "      <th></th>\n",
       "      <th>Pclass</th>\n",
       "      <th>Age</th>\n",
       "      <th>Fare</th>\n",
       "      <th>Survived</th>\n",
       "    </tr>\n",
       "  </thead>\n",
       "  <tbody>\n",
       "    <tr>\n",
       "      <th>179</th>\n",
       "      <td>3</td>\n",
       "      <td>36.0</td>\n",
       "      <td>0.0</td>\n",
       "      <td>0</td>\n",
       "    </tr>\n",
       "    <tr>\n",
       "      <th>263</th>\n",
       "      <td>1</td>\n",
       "      <td>40.0</td>\n",
       "      <td>0.0</td>\n",
       "      <td>0</td>\n",
       "    </tr>\n",
       "    <tr>\n",
       "      <th>271</th>\n",
       "      <td>3</td>\n",
       "      <td>25.0</td>\n",
       "      <td>0.0</td>\n",
       "      <td>1</td>\n",
       "    </tr>\n",
       "    <tr>\n",
       "      <th>277</th>\n",
       "      <td>2</td>\n",
       "      <td>28.0</td>\n",
       "      <td>0.0</td>\n",
       "      <td>0</td>\n",
       "    </tr>\n",
       "    <tr>\n",
       "      <th>302</th>\n",
       "      <td>3</td>\n",
       "      <td>19.0</td>\n",
       "      <td>0.0</td>\n",
       "      <td>0</td>\n",
       "    </tr>\n",
       "    <tr>\n",
       "      <th>413</th>\n",
       "      <td>2</td>\n",
       "      <td>28.0</td>\n",
       "      <td>0.0</td>\n",
       "      <td>0</td>\n",
       "    </tr>\n",
       "    <tr>\n",
       "      <th>466</th>\n",
       "      <td>2</td>\n",
       "      <td>28.0</td>\n",
       "      <td>0.0</td>\n",
       "      <td>0</td>\n",
       "    </tr>\n",
       "    <tr>\n",
       "      <th>481</th>\n",
       "      <td>2</td>\n",
       "      <td>28.0</td>\n",
       "      <td>0.0</td>\n",
       "      <td>0</td>\n",
       "    </tr>\n",
       "    <tr>\n",
       "      <th>597</th>\n",
       "      <td>3</td>\n",
       "      <td>49.0</td>\n",
       "      <td>0.0</td>\n",
       "      <td>0</td>\n",
       "    </tr>\n",
       "    <tr>\n",
       "      <th>633</th>\n",
       "      <td>1</td>\n",
       "      <td>28.0</td>\n",
       "      <td>0.0</td>\n",
       "      <td>0</td>\n",
       "    </tr>\n",
       "    <tr>\n",
       "      <th>674</th>\n",
       "      <td>2</td>\n",
       "      <td>28.0</td>\n",
       "      <td>0.0</td>\n",
       "      <td>0</td>\n",
       "    </tr>\n",
       "    <tr>\n",
       "      <th>732</th>\n",
       "      <td>2</td>\n",
       "      <td>28.0</td>\n",
       "      <td>0.0</td>\n",
       "      <td>0</td>\n",
       "    </tr>\n",
       "    <tr>\n",
       "      <th>806</th>\n",
       "      <td>1</td>\n",
       "      <td>39.0</td>\n",
       "      <td>0.0</td>\n",
       "      <td>0</td>\n",
       "    </tr>\n",
       "    <tr>\n",
       "      <th>815</th>\n",
       "      <td>1</td>\n",
       "      <td>28.0</td>\n",
       "      <td>0.0</td>\n",
       "      <td>0</td>\n",
       "    </tr>\n",
       "    <tr>\n",
       "      <th>822</th>\n",
       "      <td>1</td>\n",
       "      <td>38.0</td>\n",
       "      <td>0.0</td>\n",
       "      <td>0</td>\n",
       "    </tr>\n",
       "  </tbody>\n",
       "</table>\n",
       "</div>"
      ],
      "text/plain": [
       "     Pclass   Age  Fare  Survived\n",
       "179       3  36.0   0.0         0\n",
       "263       1  40.0   0.0         0\n",
       "271       3  25.0   0.0         1\n",
       "277       2  28.0   0.0         0\n",
       "302       3  19.0   0.0         0\n",
       "413       2  28.0   0.0         0\n",
       "466       2  28.0   0.0         0\n",
       "481       2  28.0   0.0         0\n",
       "597       3  49.0   0.0         0\n",
       "633       1  28.0   0.0         0\n",
       "674       2  28.0   0.0         0\n",
       "732       2  28.0   0.0         0\n",
       "806       1  39.0   0.0         0\n",
       "815       1  28.0   0.0         0\n",
       "822       1  38.0   0.0         0"
      ]
     },
     "execution_count": 11,
     "metadata": {},
     "output_type": "execute_result"
    }
   ],
   "source": [
    "train[['Pclass', 'Age', 'Fare', 'Survived']][train['Fare'] == 0]"
   ]
  },
  {
   "cell_type": "markdown",
   "metadata": {},
   "source": [
    "Предположение не подтвердилось: бесплатные билеты оказались у пассажиров разных классов обслуживания и разных возрастов. Возможно это были некие рекламные или акционные билеты. Для нашего анализа такие данные неиформативны, поэтому чуть позже мы заменим эти нулевые значения на более репрезентативные."
   ]
  },
  {
   "cell_type": "markdown",
   "metadata": {},
   "source": [
    "## Визуальный анализ признаков"
   ]
  },
  {
   "cell_type": "code",
   "execution_count": 19,
   "metadata": {},
   "outputs": [
    {
     "data": {
      "image/png": "[encoded data removed]",
      "text/plain": [
       "<matplotlib.figure.Figure at 0x7f4f6fa5d710>"
      ]
     },
     "metadata": {},
     "output_type": "display_data"
    }
   ],
   "source": [
    "# Распределение выживаемости в зависимости от пола\n",
    "\n",
    "survived_sex = train[train['Survived'] == 1][\"Sex\"].value_counts()\n",
    "dead_sex = train[train['Survived'] == 0]['Sex'].value_counts()\n",
    "sex_df = pd.DataFrame([survived_sex, dead_sex], index = [u'Выжили', u'Погибли'])\n",
    "sex_df.columns = [u'Женщины', u'Мужчины']\n",
    "sex_df.plot(kind = 'bar', stacked = True, figsize = (12, 6));"
   ]
  },
  {
   "cell_type": "markdown",
   "metadata": {},
   "source": [
    "Очевидна корреляция между полом и выживаемостью"
   ]
  },
  {
   "cell_type": "code",
   "execution_count": 20,
   "metadata": {
    "collapsed": true
   },
   "outputs": [],
   "source": [
    "# Для первичного анализа признаков заменим пропущенные значения возраста на медианные\n",
    "train['Age'] = train['Age'].fillna(train['Age'].median())"
   ]
  },
  {
   "cell_type": "code",
   "execution_count": 21,
   "metadata": {},
   "outputs": [
    {
     "data": {
      "image/png": "[encoded data removed]",
      "text/plain": [
       "<matplotlib.figure.Figure at 0x7f4f6fa8a790>"
      ]
     },
     "metadata": {},
     "output_type": "display_data"
    }
   ],
   "source": [
    "figure = plt.figure(figsize = (15, 8))\n",
    "plt.hist([train['Age'][train['Survived'] == 1], train['Age'][train['Survived'] == 0]], \n",
    "         stacked = True, bins = 30, label = [u'Выжили', u'Погибли'], color = ['g', 'r'], edgecolor = 'black')\n",
    "plt.xlabel(u'Возраст')\n",
    "plt.ylabel(u'Количество пассажиров')\n",
    "plt.legend();"
   ]
  },
  {
   "cell_type": "code",
   "execution_count": 514,
   "metadata": {},
   "outputs": [
    {
     "data": {
      "image/png": "[encoded data removed]",
      "text/plain": [
       "<matplotlib.figure.Figure at 0x7f4f6e925f10>"
      ]
     },
     "metadata": {},
     "output_type": "display_data"
    }
   ],
   "source": [
    "figure = plt.figure(figsize = (15, 8))\n",
    "plt.hist([train['Fare'][train['Survived'] == 1], train['Fare'][train['Survived'] == 0]], \n",
    "         stacked = True, bins = 30, label = [u'Выжили', u'Погибли'], color = ['g', 'r'], edgecolor = 'black')\n",
    "plt.xlabel(u'Возраст')\n",
    "plt.ylabel(u'Количество пассажиров')\n",
    "plt.legend();"
   ]
  },
  {
   "cell_type": "markdown",
   "metadata": {},
   "source": [
    "По диаграмме видно, что у детей шанс выжить гораздо больше, чем у людей среднего возраста. Скачок количества пассажиров медианного возраста вызван нашим недавним заполнением пустых значений. Вернемся к этому позже"
   ]
  },
  {
   "cell_type": "code",
   "execution_count": 344,
   "metadata": {},
   "outputs": [
    {
     "data": {
      "image/png": "[encoded data removed]",
      "text/plain": [
       "<matplotlib.figure.Figure at 0x7f4f6e639a10>"
      ]
     },
     "metadata": {},
     "output_type": "display_data"
    }
   ],
   "source": [
    "# Введем новый признак - размер семьи и посмотрим на его распределение\n",
    "\n",
    "train['FamilySize'] = train['SibSp'] + train['Parch'] + 1\n",
    "test['FamilySize'] = test['SibSp'] + test['Parch'] + 1\n",
    "\n",
    "figure = plt.figure(figsize = (12, 8))\n",
    "plt.hist([train['FamilySize'][train['Survived'] == 0], train['FamilySize'][train['Survived'] == 1]], \n",
    "         stacked = True, label = [u'Выжили', u'Погибли'], color = ['g', 'r'], edgecolor = 'black')\n",
    "plt.xlabel(u'Размер семьи')\n",
    "plt.ylabel(u'Количество пассажиров')\n",
    "plt.legend();"
   ]
  },
  {
   "cell_type": "code",
   "execution_count": 345,
   "metadata": {},
   "outputs": [
    {
     "data": {
      "text/plain": [
       "<matplotlib.figure.Figure at 0x7f4f6d03dc50>"
      ]
     },
     "metadata": {},
     "output_type": "display_data"
    },
    {
     "data": {
      "image/png": "[encoded data removed]",
      "text/plain": [
       "<matplotlib.figure.Figure at 0x7f4f6e90ee10>"
      ]
     },
     "metadata": {},
     "output_type": "display_data"
    }
   ],
   "source": [
    "# Отдельно взглянем тяжело ли выжить одному\n",
    "\n",
    "train['Alone'] = 1\n",
    "train['Alone'][train['FamilySize'] > 1] = 0\n",
    "\n",
    "test['Alone'] = 1\n",
    "test['Alone'][test['FamilySize'] > 1] = 0\n",
    "\n",
    "plt.figure(figsize = (12, 8))\n",
    "survived_alone = train[train['Survived'] == 1]['Alone'].value_counts()\n",
    "dead_alone = train[train['Survived'] == 0]['Alone'].value_counts()\n",
    "alone_df = pd.DataFrame([survived_alone, dead_alone])\n",
    "alone_df.index = [u'Выжил', u'Погиб']\n",
    "alone_df.columns = [u'Один', u'С семьей']\n",
    "alone_df.plot(kind = 'bar', figsize = (12, 8), color = ['g', 'r'], stacked = True);"
   ]
  },
  {
   "cell_type": "markdown",
   "metadata": {},
   "source": [
    "У пассажиров, которые путешествовали большими семьями шанс выжить больше, что объяснимо: группе людей выжить проще."
   ]
  },
  {
   "cell_type": "code",
   "execution_count": 68,
   "metadata": {},
   "outputs": [
    {
     "data": {
      "image/png": "[encoded data removed]",
      "text/plain": [
       "<matplotlib.figure.Figure at 0x7f4f6fd94dd0>"
      ]
     },
     "metadata": {},
     "output_type": "display_data"
    }
   ],
   "source": [
    "# Разделим эту статистику на женщин и мужчин\n",
    "\n",
    "fig, (ax1, ax2) = plt.subplots(1, 2, sharey = True)\n",
    "\n",
    "#plt.figure(figsize = (12, 8))\n",
    "survived_alone_men = train[train['Survived'] == 1][train['Sex'] == 'male']['Alone'].value_counts()\n",
    "dead_alone_men = train[train['Survived'] == 0][train['Sex'] == 'male']['Alone'].value_counts()\n",
    "survived_alone_women = train[train['Survived'] == 1][train['Sex'] == 'female']['Alone'].value_counts()\n",
    "dead_alone_women = train[train['Survived'] == 0][train['Sex'] == 'female']['Alone'].value_counts()\n",
    "alone_men = pd.DataFrame([survived_alone_men, dead_alone_men])\n",
    "alone_women = pd.DataFrame([survived_alone_women, dead_alone_women])\n",
    "alone_men.index = [u'Выжили', u'Погибли']\n",
    "alone_men.columns = [u'Один', u'С семьей']\n",
    "alone_women.index = [u'Выжили', u'Погибли']\n",
    "alone_women.columns = [u'Одна', u'С семьей']\n",
    "alone_men.plot(ax = ax1, kind = 'bar', figsize = (12, 8), color = ['g', 'r'], stacked = True)\n",
    "alone_women.plot(ax = ax2, kind = 'bar', figsize = (12, 8), color = ['g', 'r'], stacked = True)\n",
    "ax1.set_title(u'Мужчины')\n",
    "ax2.set_title(u'Женщины');"
   ]
  },
  {
   "cell_type": "code",
   "execution_count": 151,
   "metadata": {},
   "outputs": [],
   "source": [
    "# Процент выживаемости\n",
    "\n",
    "def share(value, feature):\n",
    "    people_survived = float(train[train[value] == feature]['Survived'].value_counts().get_value(1))\n",
    "    people_dead = float(train[train[value] == feature]['Survived'].value_counts().get_value(0))\n",
    "    people_survived_share = people_survived / (people_survived + people_dead)\n",
    "    return people_survived_share"
   ]
  },
  {
   "cell_type": "code",
   "execution_count": 152,
   "metadata": {},
   "outputs": [
    {
     "name": "stdout",
     "output_type": "stream",
     "text": [
      "('Men ', 0.18890814558058924)\n",
      "('Women ', 0.7420382165605095)\n"
     ]
    }
   ],
   "source": [
    "# Процент выживаемости мужчин и женщин\n",
    "\n",
    "print ('Men ', share('Sex', 'male'))\n",
    "print ('Women ', share('Sex', 'female'))\n",
    "print ('Men alone ', share('Sex',  ))"
   ]
  },
  {
   "cell_type": "code",
   "execution_count": 130,
   "metadata": {},
   "outputs": [
    {
     "data": {
      "text/plain": [
       "<matplotlib.axes._subplots.AxesSubplot at 0x7f4f6ee088d0>"
      ]
     },
     "execution_count": 130,
     "metadata": {},
     "output_type": "execute_result"
    },
    {
     "data": {
      "image/png": "[encoded data removed]",
      "text/plain": [
       "<matplotlib.figure.Figure at 0x7f4f6ecf7050>"
      ]
     },
     "metadata": {},
     "output_type": "display_data"
    }
   ],
   "source": [
    "train.pivot_table('PassengerId', 'Pclass', 'Survived', 'count').plot(kind='bar', stacked=True)"
   ]
  },
  {
   "cell_type": "code",
   "execution_count": 346,
   "metadata": {
    "collapsed": true
   },
   "outputs": [],
   "source": [
    "df = train\n",
    "df = df.append(test)"
   ]
  },
  {
   "cell_type": "code",
   "execution_count": 347,
   "metadata": {
    "collapsed": true
   },
   "outputs": [],
   "source": [
    "# Выделим титул каждого пассажира\n",
    "\n",
    "df['Title'] = df['Name'].str.split(\", \", expand=True)[1].str.split(\".\", expand=True)[0]"
   ]
  },
  {
   "cell_type": "code",
   "execution_count": 167,
   "metadata": {},
   "outputs": [
    {
     "data": {
      "text/plain": [
       "Mr              757\n",
       "Miss            260\n",
       "Mrs             197\n",
       "Master           61\n",
       "Rev               8\n",
       "Dr                8\n",
       "Col               4\n",
       "Major             2\n",
       "Mlle              2\n",
       "Ms                2\n",
       "Mme               1\n",
       "the Countess      1\n",
       "Don               1\n",
       "Lady              1\n",
       "Sir               1\n",
       "Jonkheer          1\n",
       "Dona              1\n",
       "Capt              1\n",
       "Name: Title, dtype: int64"
      ]
     },
     "execution_count": 167,
     "metadata": {},
     "output_type": "execute_result"
    }
   ],
   "source": [
    "df.Title.value_counts()"
   ]
  },
  {
   "cell_type": "code",
   "execution_count": 348,
   "metadata": {},
   "outputs": [
    {
     "data": {
      "text/plain": [
       "Mr         757\n",
       "Miss       261\n",
       "Mrs        201\n",
       "Master      61\n",
       "Officer     23\n",
       "Royalty      6\n",
       "Name: Title, dtype: int64"
      ]
     },
     "execution_count": 348,
     "metadata": {},
     "output_type": "execute_result"
    }
   ],
   "source": [
    "# Объединим разнородные титулы в несколько категорий\n",
    "\n",
    "Titles = {\n",
    "    'Mr': 'Mr',\n",
    "    'Miss': 'Miss',\n",
    "    'Mrs': 'Mrs',\n",
    "    'Master': 'Master',\n",
    "    'Rev': 'Officer',\n",
    "    'Dr': 'Officer',\n",
    "    'Col': 'Officer',\n",
    "    'Major': 'Officer',\n",
    "    'Mlle': 'Mrs',\n",
    "    'Ms': 'Mrs',\n",
    "    'Mme': 'Miss',\n",
    "    'the Countess': 'Royalty',\n",
    "    'Don': 'Royalty',\n",
    "    'Lady': 'Royalty',\n",
    "    'Sir': 'Royalty',\n",
    "    'Jonkheer': 'Royalty',\n",
    "    'Dona': 'Royalty',\n",
    "    'Capt': 'Officer'\n",
    "}\n",
    "\n",
    "df.Title = df.Title.map(Titles)\n",
    "df.Title.value_counts()"
   ]
  },
  {
   "cell_type": "code",
   "execution_count": 169,
   "metadata": {},
   "outputs": [
    {
     "data": {
      "text/html": [
       "<div>\n",
       "<style>\n",
       "    .dataframe thead tr:only-child th {\n",
       "        text-align: right;\n",
       "    }\n",
       "\n",
       "    .dataframe thead th {\n",
       "        text-align: left;\n",
       "    }\n",
       "\n",
       "    .dataframe tbody tr th {\n",
       "        vertical-align: top;\n",
       "    }\n",
       "</style>\n",
       "<table border=\"1\" class=\"dataframe\">\n",
       "  <thead>\n",
       "    <tr style=\"text-align: right;\">\n",
       "      <th></th>\n",
       "      <th></th>\n",
       "      <th></th>\n",
       "      <th>Age</th>\n",
       "      <th>Alone</th>\n",
       "      <th>FamilySize</th>\n",
       "      <th>Fare</th>\n",
       "      <th>Parch</th>\n",
       "      <th>PassengerId</th>\n",
       "      <th>SibSp</th>\n",
       "      <th>Survived</th>\n",
       "    </tr>\n",
       "    <tr>\n",
       "      <th>Sex</th>\n",
       "      <th>Pclass</th>\n",
       "      <th>Title</th>\n",
       "      <th></th>\n",
       "      <th></th>\n",
       "      <th></th>\n",
       "      <th></th>\n",
       "      <th></th>\n",
       "      <th></th>\n",
       "      <th></th>\n",
       "      <th></th>\n",
       "    </tr>\n",
       "  </thead>\n",
       "  <tbody>\n",
       "    <tr>\n",
       "      <th rowspan=\"8\" valign=\"top\">female</th>\n",
       "      <th rowspan=\"4\" valign=\"top\">1</th>\n",
       "      <th>Miss</th>\n",
       "      <td>30.0</td>\n",
       "      <td>1.0</td>\n",
       "      <td>1.0</td>\n",
       "      <td>106.4250</td>\n",
       "      <td>0.0</td>\n",
       "      <td>505.0</td>\n",
       "      <td>0.0</td>\n",
       "      <td>1.0</td>\n",
       "    </tr>\n",
       "    <tr>\n",
       "      <th>Mrs</th>\n",
       "      <td>45.0</td>\n",
       "      <td>0.0</td>\n",
       "      <td>2.0</td>\n",
       "      <td>77.9583</td>\n",
       "      <td>0.0</td>\n",
       "      <td>850.0</td>\n",
       "      <td>1.0</td>\n",
       "      <td>1.0</td>\n",
       "    </tr>\n",
       "    <tr>\n",
       "      <th>Officer</th>\n",
       "      <td>49.0</td>\n",
       "      <td>1.0</td>\n",
       "      <td>1.0</td>\n",
       "      <td>25.9292</td>\n",
       "      <td>0.0</td>\n",
       "      <td>797.0</td>\n",
       "      <td>0.0</td>\n",
       "      <td>1.0</td>\n",
       "    </tr>\n",
       "    <tr>\n",
       "      <th>Royalty</th>\n",
       "      <td>39.0</td>\n",
       "      <td>1.0</td>\n",
       "      <td>1.0</td>\n",
       "      <td>86.5000</td>\n",
       "      <td>0.0</td>\n",
       "      <td>760.0</td>\n",
       "      <td>0.0</td>\n",
       "      <td>1.0</td>\n",
       "    </tr>\n",
       "    <tr>\n",
       "      <th rowspan=\"2\" valign=\"top\">2</th>\n",
       "      <th>Miss</th>\n",
       "      <td>20.0</td>\n",
       "      <td>0.5</td>\n",
       "      <td>1.5</td>\n",
       "      <td>20.2500</td>\n",
       "      <td>0.0</td>\n",
       "      <td>606.5</td>\n",
       "      <td>0.0</td>\n",
       "      <td>1.0</td>\n",
       "    </tr>\n",
       "    <tr>\n",
       "      <th>Mrs</th>\n",
       "      <td>30.0</td>\n",
       "      <td>0.0</td>\n",
       "      <td>2.0</td>\n",
       "      <td>26.0000</td>\n",
       "      <td>0.0</td>\n",
       "      <td>533.0</td>\n",
       "      <td>1.0</td>\n",
       "      <td>1.0</td>\n",
       "    </tr>\n",
       "    <tr>\n",
       "      <th rowspan=\"2\" valign=\"top\">3</th>\n",
       "      <th>Miss</th>\n",
       "      <td>18.0</td>\n",
       "      <td>1.0</td>\n",
       "      <td>1.0</td>\n",
       "      <td>8.0500</td>\n",
       "      <td>0.0</td>\n",
       "      <td>603.5</td>\n",
       "      <td>0.0</td>\n",
       "      <td>0.5</td>\n",
       "    </tr>\n",
       "    <tr>\n",
       "      <th>Mrs</th>\n",
       "      <td>31.0</td>\n",
       "      <td>0.0</td>\n",
       "      <td>3.0</td>\n",
       "      <td>15.5000</td>\n",
       "      <td>1.0</td>\n",
       "      <td>668.5</td>\n",
       "      <td>1.0</td>\n",
       "      <td>0.5</td>\n",
       "    </tr>\n",
       "    <tr>\n",
       "      <th rowspan=\"9\" valign=\"top\">male</th>\n",
       "      <th rowspan=\"4\" valign=\"top\">1</th>\n",
       "      <th>Master</th>\n",
       "      <td>6.0</td>\n",
       "      <td>0.0</td>\n",
       "      <td>4.0</td>\n",
       "      <td>134.5000</td>\n",
       "      <td>2.0</td>\n",
       "      <td>803.0</td>\n",
       "      <td>1.0</td>\n",
       "      <td>1.0</td>\n",
       "    </tr>\n",
       "    <tr>\n",
       "      <th>Mr</th>\n",
       "      <td>41.5</td>\n",
       "      <td>1.0</td>\n",
       "      <td>1.0</td>\n",
       "      <td>47.1000</td>\n",
       "      <td>0.0</td>\n",
       "      <td>634.0</td>\n",
       "      <td>0.0</td>\n",
       "      <td>0.0</td>\n",
       "    </tr>\n",
       "    <tr>\n",
       "      <th>Officer</th>\n",
       "      <td>52.0</td>\n",
       "      <td>1.0</td>\n",
       "      <td>1.0</td>\n",
       "      <td>37.5500</td>\n",
       "      <td>0.0</td>\n",
       "      <td>678.0</td>\n",
       "      <td>0.0</td>\n",
       "      <td>0.0</td>\n",
       "    </tr>\n",
       "    <tr>\n",
       "      <th>Royalty</th>\n",
       "      <td>40.0</td>\n",
       "      <td>1.0</td>\n",
       "      <td>1.0</td>\n",
       "      <td>27.7208</td>\n",
       "      <td>0.0</td>\n",
       "      <td>600.0</td>\n",
       "      <td>0.0</td>\n",
       "      <td>0.0</td>\n",
       "    </tr>\n",
       "    <tr>\n",
       "      <th rowspan=\"3\" valign=\"top\">2</th>\n",
       "      <th>Master</th>\n",
       "      <td>2.0</td>\n",
       "      <td>0.0</td>\n",
       "      <td>3.0</td>\n",
       "      <td>26.0000</td>\n",
       "      <td>1.0</td>\n",
       "      <td>550.0</td>\n",
       "      <td>1.0</td>\n",
       "      <td>1.0</td>\n",
       "    </tr>\n",
       "    <tr>\n",
       "      <th>Mr</th>\n",
       "      <td>30.0</td>\n",
       "      <td>1.0</td>\n",
       "      <td>1.0</td>\n",
       "      <td>13.0000</td>\n",
       "      <td>0.0</td>\n",
       "      <td>723.5</td>\n",
       "      <td>0.0</td>\n",
       "      <td>0.0</td>\n",
       "    </tr>\n",
       "    <tr>\n",
       "      <th>Officer</th>\n",
       "      <td>41.5</td>\n",
       "      <td>1.0</td>\n",
       "      <td>1.0</td>\n",
       "      <td>13.0000</td>\n",
       "      <td>0.0</td>\n",
       "      <td>513.0</td>\n",
       "      <td>0.0</td>\n",
       "      <td>0.0</td>\n",
       "    </tr>\n",
       "    <tr>\n",
       "      <th rowspan=\"2\" valign=\"top\">3</th>\n",
       "      <th>Master</th>\n",
       "      <td>6.0</td>\n",
       "      <td>0.0</td>\n",
       "      <td>5.0</td>\n",
       "      <td>22.3583</td>\n",
       "      <td>1.0</td>\n",
       "      <td>789.0</td>\n",
       "      <td>3.0</td>\n",
       "      <td>0.0</td>\n",
       "    </tr>\n",
       "    <tr>\n",
       "      <th>Mr</th>\n",
       "      <td>26.0</td>\n",
       "      <td>1.0</td>\n",
       "      <td>1.0</td>\n",
       "      <td>7.8958</td>\n",
       "      <td>0.0</td>\n",
       "      <td>640.5</td>\n",
       "      <td>0.0</td>\n",
       "      <td>0.0</td>\n",
       "    </tr>\n",
       "  </tbody>\n",
       "</table>\n",
       "</div>"
      ],
      "text/plain": [
       "                        Age  Alone  FamilySize      Fare  Parch  PassengerId  \\\n",
       "Sex    Pclass Title                                                            \n",
       "female 1      Miss     30.0    1.0         1.0  106.4250    0.0        505.0   \n",
       "              Mrs      45.0    0.0         2.0   77.9583    0.0        850.0   \n",
       "              Officer  49.0    1.0         1.0   25.9292    0.0        797.0   \n",
       "              Royalty  39.0    1.0         1.0   86.5000    0.0        760.0   \n",
       "       2      Miss     20.0    0.5         1.5   20.2500    0.0        606.5   \n",
       "              Mrs      30.0    0.0         2.0   26.0000    0.0        533.0   \n",
       "       3      Miss     18.0    1.0         1.0    8.0500    0.0        603.5   \n",
       "              Mrs      31.0    0.0         3.0   15.5000    1.0        668.5   \n",
       "male   1      Master    6.0    0.0         4.0  134.5000    2.0        803.0   \n",
       "              Mr       41.5    1.0         1.0   47.1000    0.0        634.0   \n",
       "              Officer  52.0    1.0         1.0   37.5500    0.0        678.0   \n",
       "              Royalty  40.0    1.0         1.0   27.7208    0.0        600.0   \n",
       "       2      Master    2.0    0.0         3.0   26.0000    1.0        550.0   \n",
       "              Mr       30.0    1.0         1.0   13.0000    0.0        723.5   \n",
       "              Officer  41.5    1.0         1.0   13.0000    0.0        513.0   \n",
       "       3      Master    6.0    0.0         5.0   22.3583    1.0        789.0   \n",
       "              Mr       26.0    1.0         1.0    7.8958    0.0        640.5   \n",
       "\n",
       "                       SibSp  Survived  \n",
       "Sex    Pclass Title                     \n",
       "female 1      Miss       0.0       1.0  \n",
       "              Mrs        1.0       1.0  \n",
       "              Officer    0.0       1.0  \n",
       "              Royalty    0.0       1.0  \n",
       "       2      Miss       0.0       1.0  \n",
       "              Mrs        1.0       1.0  \n",
       "       3      Miss       0.0       0.5  \n",
       "              Mrs        1.0       0.5  \n",
       "male   1      Master     1.0       1.0  \n",
       "              Mr         0.0       0.0  \n",
       "              Officer    0.0       0.0  \n",
       "              Royalty    0.0       0.0  \n",
       "       2      Master     1.0       1.0  \n",
       "              Mr         0.0       0.0  \n",
       "              Officer    0.0       0.0  \n",
       "       3      Master     3.0       0.0  \n",
       "              Mr         0.0       0.0  "
      ]
     },
     "execution_count": 169,
     "metadata": {},
     "output_type": "execute_result"
    }
   ],
   "source": [
    "# Теперь вернемся к возрастам. Составим сводную таблицу по медианному возрасту для каждого титула и группы\n",
    "\n",
    "group_age = df.groupby(['Sex', 'Pclass', 'Title'])\n",
    "group_age_median = group_age.median()\n",
    "\n",
    "group_age_median"
   ]
  },
  {
   "cell_type": "code",
   "execution_count": 349,
   "metadata": {
    "collapsed": true
   },
   "outputs": [],
   "source": [
    "# Заменим пустые значения возраста на медианные для соответствующего пола, титула и класса обслуживания\n",
    "\n",
    "def fillAges(row, grouped_median):\n",
    "    if row['Sex']=='female' and row['Pclass'] == 1:\n",
    "        if row['Title'] == 'Miss':\n",
    "            return grouped_median.loc['female', 1, 'Miss']['Age']\n",
    "        elif row['Title'] == 'Mrs':\n",
    "            return grouped_median.loc['female', 1, 'Mrs']['Age']\n",
    "        elif row['Title'] == 'Officer':\n",
    "             return grouped_median.loc['female', 1, 'Officer']['Age']\n",
    "        elif row['Title'] == 'Royalty':\n",
    "             return grouped_median.loc['female', 1, 'Royalty']['Age']\n",
    "\n",
    "    elif row['Sex']=='female' and row['Pclass'] == 2:\n",
    "         if row['Title'] == 'Miss':\n",
    "            return grouped_median.loc['female', 2, 'Miss']['Age']\n",
    "         elif row['Title'] == 'Mrs':\n",
    "            return grouped_median.loc['female', 2, 'Mrs']['Age']\n",
    "\n",
    "    elif row['Sex']=='female' and row['Pclass'] == 3:\n",
    "         if row['Title'] == 'Miss':\n",
    "            return grouped_median.loc['female', 3, 'Miss']['Age']\n",
    "         elif row['Title'] == 'Mrs':\n",
    "            return grouped_median.loc['female', 3, 'Mrs']['Age']\n",
    "\n",
    "    elif row['Sex']=='male' and row['Pclass'] == 1:\n",
    "         if row['Title'] == 'Master':\n",
    "            return grouped_median.loc['male', 1, 'Master']['Age']\n",
    "         elif row['Title'] == 'Mr':\n",
    "            return grouped_median.loc['male', 1, 'Mr']['Age']\n",
    "         elif row['Title'] == 'Officer':\n",
    "            return grouped_median.loc['male', 1, 'Officer']['Age']\n",
    "         elif row['Title'] == 'Royalty':\n",
    "            return grouped_median.loc['male', 1, 'Royalty']['Age']\n",
    "\n",
    "    elif row['Sex']=='male' and row['Pclass'] == 2:\n",
    "         if row['Title'] == 'Master':\n",
    "            return grouped_median.loc['male', 2, 'Master']['Age']\n",
    "         elif row['Title'] == 'Mr':\n",
    "            return grouped_median.loc['male', 2, 'Mr']['Age']\n",
    "         elif row['Title'] == 'Officer':\n",
    "            return grouped_median.loc['male', 2, 'Officer']['Age']\n",
    "\n",
    "    elif row['Sex']=='male' and row['Pclass'] == 3:\n",
    "         if row['Title'] == 'Master':\n",
    "            return grouped_median.loc['male', 3, 'Master']['Age']\n",
    "         elif row['Title'] == 'Mr':\n",
    "            return grouped_median.loc['male', 3, 'Mr']['Age']\n",
    "    \n",
    "df.Age = df.apply(lambda r : fillAges(r, group_age_median) if np.isnan(r['Age']) \n",
    "                                                      else r['Age'], axis=1)"
   ]
  },
  {
   "cell_type": "code",
   "execution_count": 350,
   "metadata": {
    "collapsed": true
   },
   "outputs": [],
   "source": [
    "# Заменим пустые значения стоимости билета на медианные для соответствующего пола, титула и класса обслуживания\n",
    "\n",
    "def fillFares(row, grouped_median):\n",
    "    if row['Sex']=='female' and row['Pclass'] == 1:\n",
    "        if row['Title'] == 'Miss':\n",
    "            return grouped_median.loc['female', 1, 'Miss']['Fare']\n",
    "        elif row['Title'] == 'Mrs':\n",
    "            return grouped_median.loc['female', 1, 'Mrs']['Fare']\n",
    "        elif row['Title'] == 'Officer':\n",
    "             return grouped_median.loc['female', 1, 'Officer']['Fare']\n",
    "        elif row['Title'] == 'Royalty':\n",
    "             return grouped_median.loc['female', 1, 'Royalty']['Fare']\n",
    "\n",
    "    elif row['Sex']=='female' and row['Pclass'] == 2:\n",
    "         if row['Title'] == 'Miss':\n",
    "            return grouped_median.loc['female', 2, 'Miss']['Fare']\n",
    "         elif row['Title'] == 'Mrs':\n",
    "            return grouped_median.loc['female', 2, 'Mrs']['Fare']\n",
    "\n",
    "    elif row['Sex']=='female' and row['Pclass'] == 3:\n",
    "         if row['Title'] == 'Miss':\n",
    "            return grouped_median.loc['female', 3, 'Miss']['Fare']\n",
    "         elif row['Title'] == 'Mrs':\n",
    "            return grouped_median.loc['female', 3, 'Mrs']['Fare']\n",
    "\n",
    "    elif row['Sex']=='male' and row['Pclass'] == 1:\n",
    "         if row['Title'] == 'Master':\n",
    "            return grouped_median.loc['male', 1, 'Master']['Fare']\n",
    "         elif row['Title'] == 'Mr':\n",
    "            return grouped_median.loc['male', 1, 'Mr']['Fare']\n",
    "         elif row['Title'] == 'Officer':\n",
    "            return grouped_median.loc['male', 1, 'Officer']['Fare']\n",
    "         elif row['Title'] == 'Royalty':\n",
    "            return grouped_median.loc['male', 1, 'Royalty']['Fare']\n",
    "\n",
    "    elif row['Sex']=='male' and row['Pclass'] == 2:\n",
    "         if row['Title'] == 'Master':\n",
    "            return grouped_median.loc['male', 2, 'Master']['Fare']\n",
    "         elif row['Title'] == 'Mr':\n",
    "            return grouped_median.loc['male', 2, 'Mr']['Fare']\n",
    "         elif row['Title'] == 'Officer':\n",
    "            return grouped_median.loc['male', 2, 'Officer']['Fare']\n",
    "\n",
    "    elif row['Sex']=='male' and row['Pclass'] == 3:\n",
    "         if row['Title'] == 'Master':\n",
    "            return grouped_median.loc['male', 3, 'Master']['Fare']\n",
    "         elif row['Title'] == 'Mr':\n",
    "            return grouped_median.loc['male', 3, 'Mr']['Fare']\n",
    "    \n",
    "df.Fare = df.apply(lambda r : fillFares(r, group_age_median) if (r['Fare'] == 0 or np.isnan(r['Fare'])) \n",
    "                                                      else r['Fare'], axis=1)"
   ]
  },
  {
   "cell_type": "code",
   "execution_count": 351,
   "metadata": {
    "collapsed": true
   },
   "outputs": [],
   "source": [
    "df[\"Embarked\"] = df[\"Embarked\"].fillna('S')"
   ]
  },
  {
   "cell_type": "code",
   "execution_count": null,
   "metadata": {
    "collapsed": true
   },
   "outputs": [],
   "source": [
    "test[\"Fare\"] = pd.cut(test['Fare'], 4)"
   ]
  },
  {
   "cell_type": "code",
   "execution_count": 352,
   "metadata": {
    "collapsed": true
   },
   "outputs": [],
   "source": [
    "data = df.drop(['Survived', 'PassengerId', 'Name', 'Ticket', 'Cabin'], axis = 1)"
   ]
  },
  {
   "cell_type": "code",
   "execution_count": 320,
   "metadata": {
    "collapsed": true
   },
   "outputs": [],
   "source": [
    "class_dummie = pd.get_dummies(data['Pclass'], prefix = 'Class')"
   ]
  },
  {
   "cell_type": "code",
   "execution_count": 527,
   "metadata": {},
   "outputs": [
    {
     "name": "stdout",
     "output_type": "stream",
     "text": [
      "<class 'pandas.core.frame.DataFrame'>\n",
      "Int64Index: 1309 entries, 0 to 417\n",
      "Data columns (total 70 columns):\n",
      "Alone              1309 non-null int64\n",
      "Embarked_C         1309 non-null uint8\n",
      "Embarked_Q         1309 non-null uint8\n",
      "Embarked_S         1309 non-null uint8\n",
      "Sex_female         1309 non-null uint8\n",
      "Sex_male           1309 non-null uint8\n",
      "Title_Master       1309 non-null uint8\n",
      "Title_Miss         1309 non-null uint8\n",
      "Title_Mr           1309 non-null uint8\n",
      "Title_Mrs          1309 non-null uint8\n",
      "Title_Officer      1309 non-null uint8\n",
      "Title_Royalty      1309 non-null uint8\n",
      "Class_1            1309 non-null uint8\n",
      "Class_2            1309 non-null uint8\n",
      "Class_3            1309 non-null uint8\n",
      "FamilySize_1       1309 non-null uint8\n",
      "FamilySize_2       1309 non-null uint8\n",
      "FamilySize_3       1309 non-null uint8\n",
      "FamilySize_4       1309 non-null uint8\n",
      "FamilySize_5       1309 non-null uint8\n",
      "FamilySize_6       1309 non-null uint8\n",
      "FamilySize_7       1309 non-null uint8\n",
      "FamilySize_8       1309 non-null uint8\n",
      "FamilySize_11      1309 non-null uint8\n",
      "Parch_0            1309 non-null uint8\n",
      "Parch_1            1309 non-null uint8\n",
      "Parch_2            1309 non-null uint8\n",
      "Parch_3            1309 non-null uint8\n",
      "Parch_4            1309 non-null uint8\n",
      "Parch_5            1309 non-null uint8\n",
      "Parch_6            1309 non-null uint8\n",
      "Parch_9            1309 non-null uint8\n",
      "SibSp_0            1309 non-null uint8\n",
      "SibSp_1            1309 non-null uint8\n",
      "SibSp_2            1309 non-null uint8\n",
      "SibSp_3            1309 non-null uint8\n",
      "SibSp_4            1309 non-null uint8\n",
      "SibSp_5            1309 non-null uint8\n",
      "SibSp_8            1309 non-null uint8\n",
      "CabinType_0        1309 non-null uint8\n",
      "CabinType_1        1309 non-null uint8\n",
      "CabinType_2        1309 non-null uint8\n",
      "CabinType_3        1309 non-null uint8\n",
      "CabinType_4        1309 non-null uint8\n",
      "CabinType_5        1309 non-null uint8\n",
      "CabinType_6        1309 non-null uint8\n",
      "CabinType_7        1309 non-null uint8\n",
      "CabinType_8        1309 non-null uint8\n",
      "Age_(0, 5]         1309 non-null uint8\n",
      "Age_(5, 10]        1309 non-null uint8\n",
      "Age_(10, 15]       1309 non-null uint8\n",
      "Age_(15, 20]       1309 non-null uint8\n",
      "Age_(20, 25]       1309 non-null uint8\n",
      "Age_(25, 30]       1309 non-null uint8\n",
      "Age_(30, 40]       1309 non-null uint8\n",
      "Age_(40, 50]       1309 non-null uint8\n",
      "Age_(50, 60]       1309 non-null uint8\n",
      "Age_(60, 70]       1309 non-null uint8\n",
      "Age_(70, 80]       1309 non-null uint8\n",
      "Fare_(0, 20]       1309 non-null uint8\n",
      "Fare_(20, 40]      1309 non-null uint8\n",
      "Fare_(40, 60]      1309 non-null uint8\n",
      "Fare_(60, 80]      1309 non-null uint8\n",
      "Fare_(80, 100]     1309 non-null uint8\n",
      "Fare_(100, 130]    1309 non-null uint8\n",
      "Fare_(130, 160]    1309 non-null uint8\n",
      "Fare_(160, 190]    1309 non-null uint8\n",
      "Fare_(190, 250]    1309 non-null uint8\n",
      "Fare_(250, 350]    1309 non-null uint8\n",
      "Fare_(350, 500]    1309 non-null uint8\n",
      "dtypes: int64(1), uint8(69)\n",
      "memory usage: 108.7 KB\n"
     ]
    }
   ],
   "source": [
    "# Сумма работы с признаками (для леса)\n",
    "\n",
    "train = pd.read_csv('train.csv')\n",
    "test = pd.read_csv('test.csv')\n",
    "df = pd.concat([train, test])\n",
    "df['FamilySize'] = df['SibSp'] + df['Parch'] + 1\n",
    "df['Alone'] = 1\n",
    "df['Alone'][df['FamilySize'] > 1] = 0\n",
    "df['Title'] = df['Name'].str.split(\", \", expand=True)[1].str.split(\".\", expand=True)[0]\n",
    "df.Title = df.Title.map(Titles)\n",
    "df.Age = df.apply(lambda r : fillAges(r, group_age_median) if np.isnan(r['Age']) \n",
    "                                                      else r['Age'], axis=1)\n",
    "df.Fare = df.apply(lambda r : fillFares(r, group_age_median) if (r['Fare'] == 0 or np.isnan(r['Fare'])) \n",
    "                                                      else r['Fare'], axis=1)\n",
    "df[\"Embarked\"] = df[\"Embarked\"].fillna('S')\n",
    "df['Cabin'].fillna('U', inplace = True)\n",
    "decks = {'U': 0, 'A': 1, 'B': 2, 'C': 3, 'D': 4, 'E': 5, 'F': 6, 'G': 7, 'T': 8}\n",
    "df['CabinType'] = df['Cabin'].fillna('U').apply(lambda c: decks.get(c[0]))\n",
    "dfdrop = df.drop(['Cabin', 'Name', 'PassengerId', 'Survived', 'Ticket'], axis = 1)\n",
    "data = pd.get_dummies(dfdrop)\n",
    "Pclass_d = pd.get_dummies(df.Pclass, prefix = \"Class\")\n",
    "Family_d = pd.get_dummies(df.FamilySize, prefix = 'FamilySize')\n",
    "Parch_d = pd.get_dummies(df.Parch, prefix = 'Parch')\n",
    "SibSp_d = pd.get_dummies(df.SibSp, prefix = 'SibSp')\n",
    "Cabin_d = pd.get_dummies(df.CabinType, prefix = 'CabinType')\n",
    "age_bins = [0, 5, 10, 15, 20, 25, 30, 40, 50, 60, 70, 80]\n",
    "fare_bins = [0, 20, 40, 60, 80, 100, 130, 160, 190, 250, 350, 500]\n",
    "Age_bins = pd.cut(df['Age'], bins = age_bins)\n",
    "Fare_bins = pd.cut(df['Fare'], bins = fare_bins)\n",
    "Age_d = pd.get_dummies(Age_bins, prefix = \"Age\")\n",
    "Fare_d = pd.get_dummies(Fare_bins, prefix = \"Fare\")\n",
    "data = pd.concat([data, Pclass_d, Family_d, Parch_d, SibSp_d, Cabin_d, Age_d, Fare_d], axis = 1)\n",
    "data = data.drop(['Pclass', 'FamilySize', 'Parch', 'SibSp', 'CabinType', 'Age', 'Fare'], axis = 1)\n",
    "\n",
    "train_data_full = data.iloc[:891]\n",
    "test_data_full = data.iloc[891:]"
   ]
  },
  {
   "cell_type": "code",
   "execution_count": 624,
   "metadata": {},
   "outputs": [],
   "source": [
    "# Сумма работы с признаками (для линейных моделей)\n",
    "\n",
    "train = pd.read_csv('train.csv')\n",
    "test = pd.read_csv('test.csv')\n",
    "df = pd.concat([train, test])\n",
    "df['FamilySize'] = df['SibSp'] + df['Parch'] + 1\n",
    "df['Alone'] = 1\n",
    "df['Alone'][df['FamilySize'] > 1] = 0\n",
    "df['Title'] = df['Name'].str.split(\", \", expand=True)[1].str.split(\".\", expand=True)[0]\n",
    "df.Title = df.Title.map(Titles)\n",
    "df.Age = df.apply(lambda r : fillAges(r, group_age_median) if np.isnan(r['Age']) \n",
    "                                                      else r['Age'], axis=1)\n",
    "df.Fare = df.apply(lambda r : fillFares(r, group_age_median) if (r['Fare'] == 0 or np.isnan(r['Fare'])) \n",
    "                                                      else r['Fare'], axis=1)\n",
    "df[\"Embarked\"] = df[\"Embarked\"].fillna('S')\n",
    "df['Cabin'].fillna('U', inplace = True)\n",
    "decks = {'U': 0, 'A': 1, 'B': 2, 'C': 3, 'D': 4, 'E': 5, 'F': 6, 'G': 7, 'T': 8}\n",
    "df['CabinType'] = df['Cabin'].fillna('U').apply(lambda c: decks.get(c[0]))\n",
    "dfdrop = df.drop(['Cabin', 'Name', 'PassengerId', 'Survived', 'Ticket'], axis = 1)\n",
    "data = pd.get_dummies(dfdrop)\n",
    "Pclass_d = pd.get_dummies(df.Pclass, prefix = \"Class\")\n",
    "Family_d = pd.get_dummies(df.FamilySize, prefix = 'FamilySize')\n",
    "Parch_d = pd.get_dummies(df.Parch, prefix = 'Parch')\n",
    "SibSp_d = pd.get_dummies(df.SibSp, prefix = 'SibSp')\n",
    "Cabin_d = pd.get_dummies(df.CabinType, prefix = 'CabinType')\n",
    "#age_bins = [0, 10, 20, 30, 40, 60, 80]\n",
    "#fare_bins = [0, 50, 100, 150, 200, 500]\n",
    "#Age_bins = pd.cut(df['Age'], bins = age_bins)\n",
    "#Fare_bins = pd.cut(df['Fare'], bins = fare_bins)\n",
    "#Age_d = pd.get_dummies(Age_bins, prefix = \"Age\")\n",
    "#Fare_d = pd.get_dummies(Fare_bins, prefix = \"Fare\")\n",
    "data = pd.concat([data, Pclass_d, Family_d, Parch_d, SibSp_d, Cabin_d], axis = 1)\n",
    "data = data.drop(['Pclass', 'FamilySize', 'Parch', 'SibSp', 'CabinType'], axis = 1)\n",
    "\n",
    "scaler = MinMaxScaler()\n",
    "data['Age'] = scaler.fit_transform(data['Age'])\n",
    "data['Fare'] = scaler.fit_transform(data['Fare'])\n",
    "\n",
    "train_data_full = data.iloc[:891]\n",
    "test_data_full = data.iloc[891:]"
   ]
  },
  {
   "cell_type": "code",
   "execution_count": 601,
   "metadata": {
    "collapsed": true
   },
   "outputs": [],
   "source": [
    "train_data_full = data.iloc[:891]\n",
    "test_data_full = data.iloc[891:]"
   ]
  },
  {
   "cell_type": "code",
   "execution_count": 626,
   "metadata": {},
   "outputs": [],
   "source": [
    "train_data, test_data, train_target, test_target = train_test_split(train_data_full, \n",
    "                                                                    target, test_size = 0.25, \n",
    "                                                                    random_state = 1, stratify = target)"
   ]
  },
  {
   "cell_type": "code",
   "execution_count": 627,
   "metadata": {
    "collapsed": true
   },
   "outputs": [],
   "source": [
    "n = np.arange(1, 15)\n",
    "knn_score = []\n",
    "for i in n:\n",
    "    knn = KNeighborsClassifier(n_neighbors = i, n_jobs = -1)\n",
    "    knn.fit(train_data, train_target)\n",
    "    knn_score.append(accuracy_score(test_target, knn.predict(test_data)))"
   ]
  },
  {
   "cell_type": "code",
   "execution_count": 628,
   "metadata": {},
   "outputs": [
    {
     "data": {
      "text/plain": [
       "[0.7623318385650224,\n",
       " 0.80717488789237668,\n",
       " 0.82959641255605376,\n",
       " 0.820627802690583,\n",
       " 0.820627802690583,\n",
       " 0.82511210762331844,\n",
       " 0.81165919282511212,\n",
       " 0.8340807174887892,\n",
       " 0.820627802690583,\n",
       " 0.81614349775784756,\n",
       " 0.80717488789237668,\n",
       " 0.80717488789237668,\n",
       " 0.81614349775784756,\n",
       " 0.82959641255605376]"
      ]
     },
     "execution_count": 628,
     "metadata": {},
     "output_type": "execute_result"
    }
   ],
   "source": [
    "knn_score"
   ]
  },
  {
   "cell_type": "code",
   "execution_count": 535,
   "metadata": {},
   "outputs": [
    {
     "name": "stdout",
     "output_type": "stream",
     "text": [
      "F_classif\n"
     ]
    },
    {
     "ename": "ValueError",
     "evalue": "Number of features of the model must match the input. Model n_features is 70 and input n_features is 60 ",
     "output_type": "error",
     "traceback": [
      "\u001b[0;31m---------------------------------------------------------------------------\u001b[0m",
      "\u001b[0;31mValueError\u001b[0m                                Traceback (most recent call last)",
      "\u001b[0;32m<ipython-input-535-ee0a3ddae2c5>\u001b[0m in \u001b[0;36m<module>\u001b[0;34m()\u001b[0m\n\u001b[1;32m      2\u001b[0m \u001b[0mforest\u001b[0m\u001b[0;34m.\u001b[0m\u001b[0mfit\u001b[0m\u001b[0;34m(\u001b[0m\u001b[0mtrain_data_full\u001b[0m\u001b[0;34m,\u001b[0m \u001b[0mtarget\u001b[0m\u001b[0;34m)\u001b[0m\u001b[0;34m\u001b[0m\u001b[0m\n\u001b[1;32m      3\u001b[0m \u001b[0;32mprint\u001b[0m \u001b[0;34m(\u001b[0m\u001b[0;34m'F_classif'\u001b[0m\u001b[0;34m)\u001b[0m\u001b[0;34m\u001b[0m\u001b[0m\n\u001b[0;32m----> 4\u001b[0;31m \u001b[0maccuracy_score\u001b[0m\u001b[0;34m(\u001b[0m\u001b[0mtest_target\u001b[0m\u001b[0;34m,\u001b[0m \u001b[0mforest\u001b[0m\u001b[0;34m.\u001b[0m\u001b[0mpredict\u001b[0m\u001b[0;34m(\u001b[0m\u001b[0mtest_data\u001b[0m\u001b[0;34m)\u001b[0m\u001b[0;34m)\u001b[0m\u001b[0;34m\u001b[0m\u001b[0m\n\u001b[0m",
      "\u001b[0;32m/home/demi/anaconda/lib/python2.7/site-packages/sklearn/ensemble/forest.pyc\u001b[0m in \u001b[0;36mpredict\u001b[0;34m(self, X)\u001b[0m\n\u001b[1;32m    532\u001b[0m             \u001b[0mThe\u001b[0m \u001b[0mpredicted\u001b[0m \u001b[0mclasses\u001b[0m\u001b[0;34m.\u001b[0m\u001b[0;34m\u001b[0m\u001b[0m\n\u001b[1;32m    533\u001b[0m         \"\"\"\n\u001b[0;32m--> 534\u001b[0;31m         \u001b[0mproba\u001b[0m \u001b[0;34m=\u001b[0m \u001b[0mself\u001b[0m\u001b[0;34m.\u001b[0m\u001b[0mpredict_proba\u001b[0m\u001b[0;34m(\u001b[0m\u001b[0mX\u001b[0m\u001b[0;34m)\u001b[0m\u001b[0;34m\u001b[0m\u001b[0m\n\u001b[0m\u001b[1;32m    535\u001b[0m \u001b[0;34m\u001b[0m\u001b[0m\n\u001b[1;32m    536\u001b[0m         \u001b[0;32mif\u001b[0m \u001b[0mself\u001b[0m\u001b[0;34m.\u001b[0m\u001b[0mn_outputs_\u001b[0m \u001b[0;34m==\u001b[0m \u001b[0;36m1\u001b[0m\u001b[0;34m:\u001b[0m\u001b[0;34m\u001b[0m\u001b[0m\n",
      "\u001b[0;32m/home/demi/anaconda/lib/python2.7/site-packages/sklearn/ensemble/forest.pyc\u001b[0m in \u001b[0;36mpredict_proba\u001b[0;34m(self, X)\u001b[0m\n\u001b[1;32m    571\u001b[0m         \"\"\"\n\u001b[1;32m    572\u001b[0m         \u001b[0;31m# Check data\u001b[0m\u001b[0;34m\u001b[0m\u001b[0;34m\u001b[0m\u001b[0m\n\u001b[0;32m--> 573\u001b[0;31m         \u001b[0mX\u001b[0m \u001b[0;34m=\u001b[0m \u001b[0mself\u001b[0m\u001b[0;34m.\u001b[0m\u001b[0m_validate_X_predict\u001b[0m\u001b[0;34m(\u001b[0m\u001b[0mX\u001b[0m\u001b[0;34m)\u001b[0m\u001b[0;34m\u001b[0m\u001b[0m\n\u001b[0m\u001b[1;32m    574\u001b[0m \u001b[0;34m\u001b[0m\u001b[0m\n\u001b[1;32m    575\u001b[0m         \u001b[0;31m# Assign chunk of trees to jobs\u001b[0m\u001b[0;34m\u001b[0m\u001b[0;34m\u001b[0m\u001b[0m\n",
      "\u001b[0;32m/home/demi/anaconda/lib/python2.7/site-packages/sklearn/ensemble/forest.pyc\u001b[0m in \u001b[0;36m_validate_X_predict\u001b[0;34m(self, X)\u001b[0m\n\u001b[1;32m    353\u001b[0m                                  \"call `fit` before exploiting the model.\")\n\u001b[1;32m    354\u001b[0m \u001b[0;34m\u001b[0m\u001b[0m\n\u001b[0;32m--> 355\u001b[0;31m         \u001b[0;32mreturn\u001b[0m \u001b[0mself\u001b[0m\u001b[0;34m.\u001b[0m\u001b[0mestimators_\u001b[0m\u001b[0;34m[\u001b[0m\u001b[0;36m0\u001b[0m\u001b[0;34m]\u001b[0m\u001b[0;34m.\u001b[0m\u001b[0m_validate_X_predict\u001b[0m\u001b[0;34m(\u001b[0m\u001b[0mX\u001b[0m\u001b[0;34m,\u001b[0m \u001b[0mcheck_input\u001b[0m\u001b[0;34m=\u001b[0m\u001b[0mTrue\u001b[0m\u001b[0;34m)\u001b[0m\u001b[0;34m\u001b[0m\u001b[0m\n\u001b[0m\u001b[1;32m    356\u001b[0m \u001b[0;34m\u001b[0m\u001b[0m\n\u001b[1;32m    357\u001b[0m     \u001b[0;34m@\u001b[0m\u001b[0mproperty\u001b[0m\u001b[0;34m\u001b[0m\u001b[0m\n",
      "\u001b[0;32m/home/demi/anaconda/lib/python2.7/site-packages/sklearn/tree/tree.pyc\u001b[0m in \u001b[0;36m_validate_X_predict\u001b[0;34m(self, X, check_input)\u001b[0m\n\u001b[1;32m    374\u001b[0m                              \u001b[0;34m\"match the input. Model n_features is %s and \"\u001b[0m\u001b[0;34m\u001b[0m\u001b[0m\n\u001b[1;32m    375\u001b[0m                              \u001b[0;34m\"input n_features is %s \"\u001b[0m\u001b[0;34m\u001b[0m\u001b[0m\n\u001b[0;32m--> 376\u001b[0;31m                              % (self.n_features_, n_features))\n\u001b[0m\u001b[1;32m    377\u001b[0m \u001b[0;34m\u001b[0m\u001b[0m\n\u001b[1;32m    378\u001b[0m         \u001b[0;32mreturn\u001b[0m \u001b[0mX\u001b[0m\u001b[0;34m\u001b[0m\u001b[0m\n",
      "\u001b[0;31mValueError\u001b[0m: Number of features of the model must match the input. Model n_features is 70 and input n_features is 60 "
     ]
    }
   ],
   "source": [
    "forest = RandomForestClassifier(n_estimators = 100, random_state = 1)\n",
    "forest.fit(train_data_full, target)\n",
    "print ('F_classif')\n",
    "accuracy_score(test_target, forest.predict(test_data))"
   ]
  },
  {
   "cell_type": "code",
   "execution_count": 546,
   "metadata": {},
   "outputs": [
    {
     "name": "stdout",
     "output_type": "stream",
     "text": [
      "Chi2\n"
     ]
    },
    {
     "data": {
      "text/plain": [
       "0.90134529147982068"
      ]
     },
     "execution_count": 546,
     "metadata": {},
     "output_type": "execute_result"
    }
   ],
   "source": [
    "forest = RandomForestClassifier()\n",
    "forest.fit(train_data_full.drop(bad_features, axis = 1), target)\n",
    "print ('Chi2')\n",
    "accuracy_score(test_target, forest.predict(test_data))"
   ]
  },
  {
   "cell_type": "code",
   "execution_count": 547,
   "metadata": {},
   "outputs": [
    {
     "data": {
      "text/plain": [
       "0.82379349046015715"
      ]
     },
     "execution_count": 547,
     "metadata": {},
     "output_type": "execute_result"
    }
   ],
   "source": [
    "cross_val_score(forest, train_data_full.drop(bad_features, axis = 1), y = target, cv = skf).mean()"
   ]
  },
  {
   "cell_type": "code",
   "execution_count": 549,
   "metadata": {},
   "outputs": [
    {
     "data": {
      "image/png": "[encoded data removed]",
      "text/plain": [
       "<matplotlib.figure.Figure at 0x7f4f6cdf65d0>"
      ]
     },
     "metadata": {},
     "output_type": "display_data"
    }
   ],
   "source": [
    "selector = SelectKBest(chi2, k=3)\n",
    "selector.fit(train_data_full, target)\n",
    "\n",
    "plt.figure(figsize = (12, 8))\n",
    "plt.bar(range(len(test_data_full.columns)), selector.pvalues_)\n",
    "plt.xticks(range(len(test_data_full.columns)), test_data_full.columns, rotation='vertical')\n",
    "plt.plot([0, 70], [0.05, 0.05])\n",
    "plt.show()"
   ]
  },
  {
   "cell_type": "code",
   "execution_count": 329,
   "metadata": {},
   "outputs": [
    {
     "name": "stdout",
     "output_type": "stream",
     "text": [
      "[False  True False False  True False  True False False False False False\n",
      " False False  True  True False False  True  True False False False False\n",
      " False False]\n"
     ]
    }
   ],
   "source": [
    "print (selector.pvalues_ > 0.05)"
   ]
  },
  {
   "cell_type": "code",
   "execution_count": 537,
   "metadata": {
    "collapsed": true
   },
   "outputs": [],
   "source": [
    "bad_features = ['Embarked_Q', 'Title_Officer', 'Title_Royalty', 'FamilySize_5',\n",
    "               'FamilySize_7', 'Parch_3', 'Parch_4', 'Parch_5', 'Parch_6', 'SibSp_2', 'SibSp_3', 'CabinType_1',\n",
    "               'CabinType_7', 'CabinType_8', 'Age_(5, 10]', 'Age_(15, 20]', 'Age_(20, 25]', 'Age_(40, 50]',\n",
    "               'Age_(50, 60]', 'Age_(60, 70]', 'Age_(70, 80]']"
   ]
  },
  {
   "cell_type": "code",
   "execution_count": 282,
   "metadata": {},
   "outputs": [
    {
     "data": {
      "text/plain": [
       "0.84753363228699552"
      ]
     },
     "execution_count": 282,
     "metadata": {},
     "output_type": "execute_result"
    }
   ],
   "source": [
    "forest = RandomForestClassifier(n_estimators = 80, random_state = 1, max_depth = 5)\n",
    "forest.fit(train_data_full_forest, target)\n",
    "accuracy_score(test_target, forest.predict(test_data))"
   ]
  },
  {
   "cell_type": "code",
   "execution_count": 542,
   "metadata": {},
   "outputs": [],
   "source": [
    "d = {'Survived': forest.predict(test_data_full.drop(bad_features, axis = 1))}\n",
    "predictions = pd.DataFrame(data = d, index = test['PassengerId'])"
   ]
  },
  {
   "cell_type": "code",
   "execution_count": 543,
   "metadata": {
    "collapsed": true
   },
   "outputs": [],
   "source": [
    "predictions.to_csv('prediction_forest.csv')"
   ]
  },
  {
   "cell_type": "code",
   "execution_count": 629,
   "metadata": {},
   "outputs": [
    {
     "data": {
      "text/plain": [
       "0.82511210762331844"
      ]
     },
     "execution_count": 629,
     "metadata": {},
     "output_type": "execute_result"
    }
   ],
   "source": [
    "logit = LogisticRegression(random_state = 1, penalty = 'l2')\n",
    "logit.fit(train_data, train_target)\n",
    "accuracy_score(test_target, logit.predict(test_data))"
   ]
  },
  {
   "cell_type": "code",
   "execution_count": 512,
   "metadata": {
    "collapsed": true
   },
   "outputs": [],
   "source": [
    "skf = StratifiedKFold(n_splits=3, shuffle=True, random_state=17)"
   ]
  },
  {
   "cell_type": "code",
   "execution_count": 631,
   "metadata": {},
   "outputs": [
    {
     "data": {
      "text/plain": [
       "LogisticRegressionCV(Cs=array([ 2.    ,  2.0404, ...,  5.9596,  6.    ]),\n",
       "           class_weight=None,\n",
       "           cv=StratifiedKFold(n_splits=3, random_state=17, shuffle=True),\n",
       "           dual=False, fit_intercept=True, intercept_scaling=1.0,\n",
       "           max_iter=100, multi_class='ovr', n_jobs=-1, penalty='l2',\n",
       "           random_state=1, refit=True, scoring=None, solver='lbfgs',\n",
       "           tol=0.0001, verbose=0)"
      ]
     },
     "execution_count": 631,
     "metadata": {},
     "output_type": "execute_result"
    }
   ],
   "source": [
    "Cs = np.linspace(2, 6, 100)\n",
    "\n",
    "logit_search = LogisticRegressionCV(Cs = Cs, random_state = 1, cv = skf, n_jobs = -1)\n",
    "logit_search.fit(train_data, train_target)"
   ]
  },
  {
   "cell_type": "code",
   "execution_count": 632,
   "metadata": {},
   "outputs": [
    {
     "name": "stdout",
     "output_type": "stream",
     "text": [
      "Максимальное С = 6.0 при доле правильных ответов = 0.8203\n"
     ]
    }
   ],
   "source": [
    "maxnumber = max(itertools.izip(logit_search.scores_[1].mean(axis = 0), itertools.count()))[1]\n",
    "print ('Максимальное С = %s при доле правильных ответов = %s' % (round(logit_search.Cs[maxnumber], 3), \n",
    "                                                round(logit_search.scores_[1].mean(axis = 0)[maxnumber], 4)))"
   ]
  },
  {
   "cell_type": "code",
   "execution_count": 598,
   "metadata": {},
   "outputs": [
    {
     "data": {
      "text/plain": [
       "2.1616161616161618"
      ]
     },
     "execution_count": 598,
     "metadata": {},
     "output_type": "execute_result"
    }
   ],
   "source": [
    "logit_search.Cs[maxnumber]"
   ]
  },
  {
   "cell_type": "code",
   "execution_count": 599,
   "metadata": {},
   "outputs": [
    {
     "data": {
      "text/html": [
       "<div>\n",
       "<style>\n",
       "    .dataframe thead tr:only-child th {\n",
       "        text-align: right;\n",
       "    }\n",
       "\n",
       "    .dataframe thead th {\n",
       "        text-align: left;\n",
       "    }\n",
       "\n",
       "    .dataframe tbody tr th {\n",
       "        vertical-align: top;\n",
       "    }\n",
       "</style>\n",
       "<table border=\"1\" class=\"dataframe\">\n",
       "  <thead>\n",
       "    <tr style=\"text-align: right;\">\n",
       "      <th></th>\n",
       "      <th>Alone</th>\n",
       "      <th>Embarked_S</th>\n",
       "      <th>Sex_female</th>\n",
       "      <th>Sex_male</th>\n",
       "      <th>Title_Master</th>\n",
       "      <th>Title_Mr</th>\n",
       "      <th>Title_Mrs</th>\n",
       "      <th>Title_Officer</th>\n",
       "      <th>Class_1</th>\n",
       "      <th>Class_3</th>\n",
       "      <th>...</th>\n",
       "      <th>SibSp_1</th>\n",
       "      <th>SibSp_2</th>\n",
       "      <th>SibSp_4</th>\n",
       "      <th>SibSp_5</th>\n",
       "      <th>SibSp_8</th>\n",
       "      <th>CabinType_0</th>\n",
       "      <th>CabinType_4</th>\n",
       "      <th>CabinType_5</th>\n",
       "      <th>CabinType_7</th>\n",
       "      <th>CabinType_8</th>\n",
       "    </tr>\n",
       "  </thead>\n",
       "  <tbody>\n",
       "    <tr>\n",
       "      <th>0</th>\n",
       "      <td>0</td>\n",
       "      <td>1</td>\n",
       "      <td>0</td>\n",
       "      <td>1</td>\n",
       "      <td>0</td>\n",
       "      <td>1</td>\n",
       "      <td>0</td>\n",
       "      <td>0</td>\n",
       "      <td>0</td>\n",
       "      <td>1</td>\n",
       "      <td>...</td>\n",
       "      <td>1</td>\n",
       "      <td>0</td>\n",
       "      <td>0</td>\n",
       "      <td>0</td>\n",
       "      <td>0</td>\n",
       "      <td>1</td>\n",
       "      <td>0</td>\n",
       "      <td>0</td>\n",
       "      <td>0</td>\n",
       "      <td>0</td>\n",
       "    </tr>\n",
       "    <tr>\n",
       "      <th>1</th>\n",
       "      <td>0</td>\n",
       "      <td>0</td>\n",
       "      <td>1</td>\n",
       "      <td>0</td>\n",
       "      <td>0</td>\n",
       "      <td>0</td>\n",
       "      <td>1</td>\n",
       "      <td>0</td>\n",
       "      <td>1</td>\n",
       "      <td>0</td>\n",
       "      <td>...</td>\n",
       "      <td>1</td>\n",
       "      <td>0</td>\n",
       "      <td>0</td>\n",
       "      <td>0</td>\n",
       "      <td>0</td>\n",
       "      <td>0</td>\n",
       "      <td>0</td>\n",
       "      <td>0</td>\n",
       "      <td>0</td>\n",
       "      <td>0</td>\n",
       "    </tr>\n",
       "    <tr>\n",
       "      <th>2</th>\n",
       "      <td>1</td>\n",
       "      <td>1</td>\n",
       "      <td>1</td>\n",
       "      <td>0</td>\n",
       "      <td>0</td>\n",
       "      <td>0</td>\n",
       "      <td>0</td>\n",
       "      <td>0</td>\n",
       "      <td>0</td>\n",
       "      <td>1</td>\n",
       "      <td>...</td>\n",
       "      <td>0</td>\n",
       "      <td>0</td>\n",
       "      <td>0</td>\n",
       "      <td>0</td>\n",
       "      <td>0</td>\n",
       "      <td>1</td>\n",
       "      <td>0</td>\n",
       "      <td>0</td>\n",
       "      <td>0</td>\n",
       "      <td>0</td>\n",
       "    </tr>\n",
       "    <tr>\n",
       "      <th>3</th>\n",
       "      <td>0</td>\n",
       "      <td>1</td>\n",
       "      <td>1</td>\n",
       "      <td>0</td>\n",
       "      <td>0</td>\n",
       "      <td>0</td>\n",
       "      <td>1</td>\n",
       "      <td>0</td>\n",
       "      <td>1</td>\n",
       "      <td>0</td>\n",
       "      <td>...</td>\n",
       "      <td>1</td>\n",
       "      <td>0</td>\n",
       "      <td>0</td>\n",
       "      <td>0</td>\n",
       "      <td>0</td>\n",
       "      <td>0</td>\n",
       "      <td>0</td>\n",
       "      <td>0</td>\n",
       "      <td>0</td>\n",
       "      <td>0</td>\n",
       "    </tr>\n",
       "    <tr>\n",
       "      <th>4</th>\n",
       "      <td>1</td>\n",
       "      <td>1</td>\n",
       "      <td>0</td>\n",
       "      <td>1</td>\n",
       "      <td>0</td>\n",
       "      <td>1</td>\n",
       "      <td>0</td>\n",
       "      <td>0</td>\n",
       "      <td>0</td>\n",
       "      <td>1</td>\n",
       "      <td>...</td>\n",
       "      <td>0</td>\n",
       "      <td>0</td>\n",
       "      <td>0</td>\n",
       "      <td>0</td>\n",
       "      <td>0</td>\n",
       "      <td>1</td>\n",
       "      <td>0</td>\n",
       "      <td>0</td>\n",
       "      <td>0</td>\n",
       "      <td>0</td>\n",
       "    </tr>\n",
       "  </tbody>\n",
       "</table>\n",
       "<p>5 rows × 34 columns</p>\n",
       "</div>"
      ],
      "text/plain": [
       "   Alone  Embarked_S  Sex_female  Sex_male  Title_Master  Title_Mr  Title_Mrs  \\\n",
       "0      0           1           0         1             0         1          0   \n",
       "1      0           0           1         0             0         0          1   \n",
       "2      1           1           1         0             0         0          0   \n",
       "3      0           1           1         0             0         0          1   \n",
       "4      1           1           0         1             0         1          0   \n",
       "\n",
       "   Title_Officer  Class_1  Class_3     ...       SibSp_1  SibSp_2  SibSp_4  \\\n",
       "0              0        0        1     ...             1        0        0   \n",
       "1              0        1        0     ...             1        0        0   \n",
       "2              0        0        1     ...             0        0        0   \n",
       "3              0        1        0     ...             1        0        0   \n",
       "4              0        0        1     ...             0        0        0   \n",
       "\n",
       "   SibSp_5  SibSp_8  CabinType_0  CabinType_4  CabinType_5  CabinType_7  \\\n",
       "0        0        0            1            0            0            0   \n",
       "1        0        0            0            0            0            0   \n",
       "2        0        0            1            0            0            0   \n",
       "3        0        0            0            0            0            0   \n",
       "4        0        0            1            0            0            0   \n",
       "\n",
       "   CabinType_8  \n",
       "0            0  \n",
       "1            0  \n",
       "2            0  \n",
       "3            0  \n",
       "4            0  \n",
       "\n",
       "[5 rows x 34 columns]"
      ]
     },
     "execution_count": 599,
     "metadata": {},
     "output_type": "execute_result"
    }
   ],
   "source": [
    "train_data_full.drop(logit_bad, axis = 1).head()"
   ]
  },
  {
   "cell_type": "code",
   "execution_count": 641,
   "metadata": {},
   "outputs": [],
   "source": [
    "logit_best = LogisticRegression(C = logit_search.Cs[maxnumber])\n",
    "logit_best.fit(train_data_full.drop(logit_bad, axis = 1), target)\n",
    "d = {'Survived': logit_best.predict(test_data_full.drop(logit_bad, axis = 1))}\n",
    "predictions = pd.DataFrame(data = d, index = test['PassengerId'])\n",
    "predictions.to_csv('Prediction_LogitCV.csv')"
   ]
  },
  {
   "cell_type": "code",
   "execution_count": 639,
   "metadata": {},
   "outputs": [
    {
     "data": {
      "text/plain": [
       "0.82379349046015715"
      ]
     },
     "execution_count": 639,
     "metadata": {},
     "output_type": "execute_result"
    }
   ],
   "source": [
    "cross_val_score(logit_best, train_data_full.drop(logit_bad, axis = 1), y = target, cv = skf).mean()"
   ]
  },
  {
   "cell_type": "code",
   "execution_count": 635,
   "metadata": {},
   "outputs": [
    {
     "data": {
      "text/plain": [
       "0.81930415263748602"
      ]
     },
     "execution_count": 635,
     "metadata": {},
     "output_type": "execute_result"
    }
   ],
   "source": [
    "cross_val_score(logit_best, train_data_full, y = target, cv = skf).mean()"
   ]
  },
  {
   "cell_type": "code",
   "execution_count": 636,
   "metadata": {},
   "outputs": [
    {
     "name": "stdout",
     "output_type": "stream",
     "text": [
      "('Age', -2.3778385646790574)\n",
      "('Fare', 1.7554825273329855)\n",
      "('Alone', 0.62800962433390206)\n",
      "('Embarked_C', 0.1291760172771747)\n",
      "('Embarked_Q', 0.067471695337813428)\n",
      "('Embarked_S', -0.26486042720496406)\n",
      "('Sex_female', 1.1374665187698352)\n",
      "('Sex_male', -1.2056792333597108)\n",
      "('Title_Master', 2.6534463988372909)\n",
      "('Title_Miss', -0.53531722236403723)\n",
      "('Title_Mr', -1.0675913401648207)\n",
      "('Title_Mrs', 0.24066013888417126)\n",
      "('Title_Officer', -0.87373315979381005)\n",
      "('Title_Royalty', -0.48567752998863556)\n",
      "('Class_1', 0.69802325158980594)\n",
      "('Class_2', 0.083785035096306235)\n",
      "('Class_3', -0.85002100127599156)\n",
      "('FamilySize_1', 0.62800962433390206)\n",
      "('FamilySize_2', 0.87868445062166101)\n",
      "('FamilySize_3', 1.1776953330436188)\n",
      "('FamilySize_4', 1.234284180308217)\n",
      "('FamilySize_5', -1.7299455459580104)\n",
      "('FamilySize_6', -1.3192534620641003)\n",
      "('FamilySize_7', 1.4855857438163567)\n",
      "('FamilySize_8', -1.4262923242145116)\n",
      "('FamilySize_11', -0.99698071447719072)\n",
      "('Parch_0', 0.22375173491951506)\n",
      "('Parch_1', -0.056625965057962031)\n",
      "('Parch_2', -0.18794697410542108)\n",
      "('Parch_3', 1.9607004465223097)\n",
      "('Parch_4', -0.7347833079203463)\n",
      "('Parch_5', -0.85573380210546846)\n",
      "('Parch_6', -0.41757484684274099)\n",
      "('Parch_9', 0.0)\n",
      "('SibSp_0', 0.80372023644699053)\n",
      "('SibSp_1', 0.72106050072120265)\n",
      "('SibSp_2', 1.0849208753262052)\n",
      "('SibSp_3', 0.52839549868296443)\n",
      "('SibSp_4', -1.2006116339183404)\n",
      "('SibSp_5', -1.0087174773717706)\n",
      "('SibSp_8', -0.99698071447719072)\n",
      "('CabinType_0', -0.53653606066794002)\n",
      "('CabinType_1', 0.21578317253856832)\n",
      "('CabinType_2', 0.29111365946128381)\n",
      "('CabinType_3', -0.1010258145296228)\n",
      "('CabinType_4', 0.8594727039173502)\n",
      "('CabinType_5', 1.1055813411811806)\n",
      "('CabinType_6', 0.0067274070674031173)\n",
      "('CabinType_7', -1.0153945615818065)\n",
      "('CabinType_8', -0.89393456197642562)\n"
     ]
    }
   ],
   "source": [
    "for feature in zip(train_data_full.columns, logit_best.coef_[0]):\n",
    "    print (feature)"
   ]
  },
  {
   "cell_type": "code",
   "execution_count": 638,
   "metadata": {
    "collapsed": true
   },
   "outputs": [],
   "source": [
    "logit_bad = ['Alone', 'Embarked_Q', 'Embarked_C', 'Embarked_S', 'Title_Royalty', \n",
    "             'Class_2', 'Parch_1', 'FamilySize_2', 'Parch_0', 'Parch_1', 'Parch_2', \n",
    "             'Parch_6', 'Parch_9', 'SibSp_3', 'CabinType_0', 'CabinType_1', 'CabinType_2', \n",
    "             'CabinType_3', 'CabinType_6']"
   ]
  },
  {
   "cell_type": "code",
   "execution_count": 578,
   "metadata": {},
   "outputs": [
    {
     "data": {
      "text/plain": [
       "0.82511210762331844"
      ]
     },
     "execution_count": 578,
     "metadata": {},
     "output_type": "execute_result"
    }
   ],
   "source": [
    "SVC = LinearSVC(penalty = 'l2', loss = 'squared_hinge', dual = False)\n",
    "SVC.fit(train_data, train_target)\n",
    "accuracy_score(test_target, SVC.predict(test_data))"
   ]
  },
  {
   "cell_type": "code",
   "execution_count": 579,
   "metadata": {},
   "outputs": [
    {
     "data": {
      "text/plain": [
       "0.73849607182940513"
      ]
     },
     "execution_count": 579,
     "metadata": {},
     "output_type": "execute_result"
    }
   ],
   "source": [
    "cross_val_score(SVC_best, train_data_full.drop(bad_features, axis = 1), y = target, cv = skf).mean()"
   ]
  },
  {
   "cell_type": "code",
   "execution_count": 565,
   "metadata": {},
   "outputs": [
    {
     "data": {
      "text/plain": [
       "0.81593714927048255"
      ]
     },
     "execution_count": 565,
     "metadata": {},
     "output_type": "execute_result"
    }
   ],
   "source": [
    "cross_val_score(SVC_best, train_data_full, y = target, cv = skf).mean()"
   ]
  },
  {
   "cell_type": "code",
   "execution_count": 560,
   "metadata": {},
   "outputs": [
    {
     "name": "stdout",
     "output_type": "stream",
     "text": [
      "CPU times: user 4.1 s, sys: 7.16 s, total: 11.3 s\n",
      "Wall time: 2.98 s\n"
     ]
    }
   ],
   "source": [
    "%%time\n",
    "svm_params = {'C': np.linspace(1e-3, 10, 100)}\n",
    "\n",
    "svm_search = GridSearchCV(SVC, param_grid=svm_params)\n",
    "svm_search.fit(train_data, train_target)"
   ]
  },
  {
   "cell_type": "code",
   "execution_count": 561,
   "metadata": {},
   "outputs": [
    {
     "name": "stdout",
     "output_type": "stream",
     "text": [
      "Лучшее значение доли правильных ответов на кросс-валидации = 0.805\n",
      "При С = 1.112\n"
     ]
    }
   ],
   "source": [
    "svm_score = svm_search.best_score_\n",
    "print ('Лучшее значение доли правильных ответов на кросс-валидации = %s' % round(svm_score, 3))\n",
    "svm_param = svm_search.best_params_['C']\n",
    "print ('При С = %s' % round(svm_param, 3))"
   ]
  },
  {
   "cell_type": "code",
   "execution_count": 563,
   "metadata": {},
   "outputs": [
    {
     "data": {
      "text/plain": [
       "LinearSVC(C=1.1119999999999999, class_weight=None, dual=True,\n",
       "     fit_intercept=True, intercept_scaling=1, loss='squared_hinge',\n",
       "     max_iter=1000, multi_class='ovr', penalty='l2', random_state=None,\n",
       "     tol=0.0001, verbose=0)"
      ]
     },
     "execution_count": 563,
     "metadata": {},
     "output_type": "execute_result"
    }
   ],
   "source": [
    "SVC_best = LinearSVC(C = svm_search.best_params_['C'])\n",
    "SVC_best.fit(train_data_full, target)"
   ]
  },
  {
   "cell_type": "code",
   "execution_count": 101,
   "metadata": {
    "collapsed": true
   },
   "outputs": [],
   "source": [
    "d = {'Survived': SVC_best.predict(test_set)}\n",
    "predictions = pd.DataFrame(data = d, index = test_csv['PassengerId'])\n",
    "predictions.to_csv('Predictions_SVC.csv')"
   ]
  },
  {
   "cell_type": "code",
   "execution_count": 426,
   "metadata": {},
   "outputs": [
    {
     "data": {
      "text/plain": [
       "0.77611940298507465"
      ]
     },
     "execution_count": 426,
     "metadata": {},
     "output_type": "execute_result"
    }
   ],
   "source": [
    "ADA = AdaBoostClassifier()\n",
    "ADA.fit(train_data, train_target)\n",
    "accuracy_score(test_target, ADA.predict(test_data))"
   ]
  },
  {
   "cell_type": "code",
   "execution_count": 427,
   "metadata": {},
   "outputs": [
    {
     "data": {
      "image/png": "[encoded data removed]",
      "text/plain": [
       "<matplotlib.figure.Figure at 0x7f1276b1ef50>"
      ]
     },
     "metadata": {},
     "output_type": "display_data"
    }
   ],
   "source": [
    "n_ada = np.arange(10, 100)\n",
    "ada_score = []\n",
    "for i in n_ada:\n",
    "    ADA = AdaBoostClassifier(n_estimators = i, random_state = 1)\n",
    "    ADA.fit(train_data, train_target)\n",
    "    ada_score.append(accuracy_score(test_target, ADA.predict(test_data)))\n",
    "\n",
    "fig = plt.figure(figsize = (10, 8))\n",
    "plt.plot(n_ada, ada_score);"
   ]
  },
  {
   "cell_type": "code",
   "execution_count": 229,
   "metadata": {},
   "outputs": [
    {
     "data": {
      "image/png": "[encoded data removed]",
      "text/plain": [
       "<matplotlib.figure.Figure at 0x7f12554053d0>"
      ]
     },
     "metadata": {},
     "output_type": "display_data"
    }
   ],
   "source": [
    "n_LR = np.linspace(0.5, 0.8, 100)\n",
    "ada_LR_score = []\n",
    "for i in n_LR:\n",
    "    ADA = AdaBoostClassifier(n_estimators = 50, random_state = 1, learning_rate = i)\n",
    "    ADA.fit(train_data, train_target)\n",
    "    ada_LR_score.append(accuracy_score(test_target, ADA.predict(test_data)))\n",
    "\n",
    "fig = plt.figure(figsize = (10, 8))\n",
    "plt.plot(n_LR, ada_LR_score);"
   ]
  },
  {
   "cell_type": "code",
   "execution_count": 231,
   "metadata": {},
   "outputs": [
    {
     "name": "stdout",
     "output_type": "stream",
     "text": [
      "Максимальное Learning rate = 0.742 при доле правильных ответов = 0.7948\n"
     ]
    }
   ],
   "source": [
    "maxnumber = max(itertools.izip(ada_LR_score, itertools.count()))[1]\n",
    "print ('Максимальное Learning rate = %s при доле правильных ответов = %s' % (round(n_LR[maxnumber], 3), \n",
    "                                                round(ada_LR_score[maxnumber], 4)))"
   ]
  },
  {
   "cell_type": "code",
   "execution_count": 232,
   "metadata": {
    "collapsed": true
   },
   "outputs": [],
   "source": [
    "ada_best = AdaBoostClassifier(n_estimators = 50, learning_rate = n_LR[maxnumber])\n",
    "ada_best.fit(data, target)\n",
    "d = {'Survived': ada_best.predict(test_set)}\n",
    "predictions = pd.DataFrame(data = d, index = test_csv['PassengerId'])\n",
    "predictions.to_csv('Prediction_ADA.csv')"
   ]
  },
  {
   "cell_type": "code",
   "execution_count": 428,
   "metadata": {},
   "outputs": [
    {
     "data": {
      "text/plain": [
       "0.77985074626865669"
      ]
     },
     "execution_count": 428,
     "metadata": {},
     "output_type": "execute_result"
    }
   ],
   "source": [
    "GBC = GradientBoostingClassifier(loss = 'exponential')\n",
    "GBC.fit(train_data, train_target)\n",
    "accuracy_score(test_target, GBC.predict(test_data))"
   ]
  },
  {
   "cell_type": "code",
   "execution_count": 256,
   "metadata": {},
   "outputs": [
    {
     "name": "stdout",
     "output_type": "stream",
     "text": [
      "Максимальное Learning rate = 2.0 при доле правильных ответов = 0.7873\n"
     ]
    },
    {
     "data": {
      "image/png": "[encoded data removed]",
      "text/plain": [
       "<matplotlib.figure.Figure at 0x7f1250bd3290>"
      ]
     },
     "metadata": {},
     "output_type": "display_data"
    }
   ],
   "source": [
    "n_GBC = np.arange(1, 6)\n",
    "GBC_score = []\n",
    "for i in n_GBC:\n",
    "    GBC = GradientBoostingClassifier(n_estimators = 11, random_state = 1, learning_rate = 0.549, max_depth = 3,\n",
    "                            max_features = i)\n",
    "    GBC.fit(train_data, train_target)\n",
    "    GBC_score.append(accuracy_score(test_target, GBC.predict(test_data)))\n",
    "\n",
    "fig = plt.figure(figsize = (10, 8))\n",
    "plt.plot(n_GBC, GBC_score);\n",
    "\n",
    "maxnumberGBC = max(itertools.izip(GBC_score, itertools.count()))[1]\n",
    "print ('Максимальное Learning rate = %s при доле правильных ответов = %s' % (round(n_GBC[maxnumberGBC], 3), \n",
    "                                                round(GBC_score[maxnumberGBC], 4)))"
   ]
  },
  {
   "cell_type": "code",
   "execution_count": 241,
   "metadata": {},
   "outputs": [
    {
     "name": "stdout",
     "output_type": "stream",
     "text": [
      "Максимальное Learning rate = 14.0 при доле правильных ответов = 0.7836\n"
     ]
    }
   ],
   "source": []
  }
 ],
 "metadata": {
  "kernelspec": {
   "display_name": "Python 2",
   "language": "python",
   "name": "python2"
  },
  "language_info": {
   "codemirror_mode": {
    "name": "ipython",
    "version": 2
   },
   "file_extension": ".py",
   "mimetype": "text/x-python",
   "name": "python",
   "nbconvert_exporter": "python",
   "pygments_lexer": "ipython2",
   "version": "2.7.13"
  }
 },
 "nbformat": 4,
 "nbformat_minor": 2
}
