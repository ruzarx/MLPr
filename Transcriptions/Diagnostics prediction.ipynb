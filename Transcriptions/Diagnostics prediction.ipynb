{
 "cells": [
  {
   "cell_type": "markdown",
   "metadata": {},
   "source": [
    "# Diagnostics Prediction"
   ]
  },
  {
   "cell_type": "markdown",
   "metadata": {},
   "source": [
    "<img src='./Images/header.jpeg'></img>"
   ]
  },
  {
   "cell_type": "markdown",
   "metadata": {},
   "source": [
    "<b>Diagnostics prediction</b> is a project which aims to automatically predict diagnostics needed for a patient with certain anamnesis. "
   ]
  },
  {
   "cell_type": "markdown",
   "metadata": {},
   "source": [
    "<b><font size='+2'>Table of contents</font></b>\n",
    "\n",
    "1. Problem description\n",
    "2. Environment preparation, data import\n",
    "3. Data review\n",
    "4. Data transformation\n",
    "    - Bag of Words approach\n",
    "    - TF-IDF approach\n",
    "    - Word2Vec approach\n",
    "5. Baseline modelling\n",
    "6. Baseline result analysis\n",
    "7. Dataset adjustment\n",
    "8. Selecting the best model\n",
    "    - Naive Bayes classifier\n",
    "    - Logistic Regression classifier\n",
    "    - LightGBM classifier\n",
    "9. Best model result analysis\n",
    "10. Retrieving sample unbalance problem\n",
    "    - Undersampling\n",
    "        - Naive random cut\n",
    "        - NearMiss\n",
    "    - Oversampling\n",
    "        - SMOTE\n",
    "        - ADASYN\n",
    "11. Best model result analysis\n",
    "12. Conclusion"
   ]
  },
  {
   "cell_type": "markdown",
   "metadata": {
    "heading_collapsed": true
   },
   "source": [
    "# 1. Problem description"
   ]
  },
  {
   "cell_type": "markdown",
   "metadata": {
    "hidden": true
   },
   "source": [
    "<b>Diagnostics prediction</b> is a project which aims to automatically predict diagnostics needed for a patient with certain anamnesis. \n",
    "\n",
    "The anamnesis is represented by a raw text file with doctor's notes about the patient, including his/her age, compaints described in free way, patient's history and so on. It is unstructured - different sections of oen patient anamnesis may abscent in another's.\n",
    "\n",
    "The target labels are represented by the name of needed diagnostics procedure.\n",
    "\n",
    "<b>The value</b> on the solution might be found in helping a doctor to find the optimal solution for diasnostics order. Patient can save time and money, and doctor can serve a patient more efficiently on sparing time for unnecessary diagnostics. Moreover, in difficult cases the algorithm may help a doctor to find a diagnosys faster, which in some cases may be extremely valuable, up to saving lives.\n",
    "\n",
    "Theoretically some regularities found by the algorithm may help medical researchers to find the idea of treating some deseases, based on their unobvious interconnections with some symptoms."
   ]
  },
  {
   "cell_type": "markdown",
   "metadata": {
    "heading_collapsed": true
   },
   "source": [
    "# 2. Environment preparation, data import"
   ]
  },
  {
   "cell_type": "code",
   "execution_count": 1,
   "metadata": {
    "hidden": true
   },
   "outputs": [
    {
     "name": "stderr",
     "output_type": "stream",
     "text": [
      "/home/idemidov/anaconda3/lib/python3.7/site-packages/smart_open/ssh.py:34: UserWarning: paramiko missing, opening SSH/SCP/SFTP paths will be disabled.  `pip install paramiko` to suppress\n",
      "  warnings.warn('paramiko missing, opening SSH/SCP/SFTP paths will be disabled.  `pip install paramiko` to suppress')\n",
      "Using TensorFlow backend.\n"
     ]
    }
   ],
   "source": [
    "# Basic libraries\n",
    "\n",
    "import pandas as pd\n",
    "import numpy as np\n",
    "import re\n",
    "import matplotlib.pyplot as plt\n",
    "import nltk\n",
    "import random\n",
    "import itertools\n",
    "from collections import defaultdict\n",
    "\n",
    "# Preprocessing\n",
    "\n",
    "from sklearn.preprocessing import LabelEncoder\n",
    "from sklearn.model_selection import train_test_split, StratifiedKFold\n",
    "from sklearn.feature_extraction.text import CountVectorizer, TfidfVectorizer\n",
    "from itertools import combinations\n",
    "from nltk.tokenize import RegexpTokenizer\n",
    "from nltk.corpus import stopwords\n",
    "from nltk.stem.porter import PorterStemmer\n",
    "import gensim\n",
    "from keras.preprocessing.text import Tokenizer\n",
    "from keras.preprocessing.sequence import pad_sequences\n",
    "from keras.utils import to_categorical\n",
    "from imblearn.under_sampling import NearMiss, RandomUnderSampler\n",
    "from imblearn.over_sampling import SMOTE, ADASYN\n",
    "\n",
    "# Models\n",
    "\n",
    "from sklearn.naive_bayes import MultinomialNB\n",
    "from sklearn.linear_model import LogisticRegressionCV\n",
    "import lightgbm as lgb\n",
    "\n",
    "# Evaluation\n",
    "\n",
    "from sklearn.metrics import f1_score, accuracy_score, precision_score, recall_score, confusion_matrix, make_scorer\n",
    "from lime import lime_text\n",
    "from sklearn.pipeline import make_pipeline\n",
    "from lime.lime_text import LimeTextExplainer\n",
    "\n",
    "\n",
    "import warnings\n",
    "warnings.filterwarnings(\"ignore\")\n",
    "\n",
    "%matplotlib inline"
   ]
  },
  {
   "cell_type": "code",
   "execution_count": 2,
   "metadata": {
    "hidden": true
   },
   "outputs": [
    {
     "name": "stdout",
     "output_type": "stream",
     "text": [
      "(4999, 6)\n"
     ]
    },
    {
     "data": {
      "text/html": [
       "<div>\n",
       "<style scoped>\n",
       "    .dataframe tbody tr th:only-of-type {\n",
       "        vertical-align: middle;\n",
       "    }\n",
       "\n",
       "    .dataframe tbody tr th {\n",
       "        vertical-align: top;\n",
       "    }\n",
       "\n",
       "    .dataframe thead th {\n",
       "        text-align: right;\n",
       "    }\n",
       "</style>\n",
       "<table border=\"1\" class=\"dataframe\">\n",
       "  <thead>\n",
       "    <tr style=\"text-align: right;\">\n",
       "      <th></th>\n",
       "      <th>Unnamed: 0</th>\n",
       "      <th>description</th>\n",
       "      <th>medical_specialty</th>\n",
       "      <th>sample_name</th>\n",
       "      <th>transcription</th>\n",
       "      <th>keywords</th>\n",
       "    </tr>\n",
       "  </thead>\n",
       "  <tbody>\n",
       "    <tr>\n",
       "      <th>0</th>\n",
       "      <td>0</td>\n",
       "      <td>A 23-year-old white female presents with comp...</td>\n",
       "      <td>Allergy / Immunology</td>\n",
       "      <td>Allergic Rhinitis</td>\n",
       "      <td>SUBJECTIVE:,  This 23-year-old white female pr...</td>\n",
       "      <td>allergy / immunology, allergic rhinitis, aller...</td>\n",
       "    </tr>\n",
       "    <tr>\n",
       "      <th>1</th>\n",
       "      <td>1</td>\n",
       "      <td>Consult for laparoscopic gastric bypass.</td>\n",
       "      <td>Bariatrics</td>\n",
       "      <td>Laparoscopic Gastric Bypass Consult - 2</td>\n",
       "      <td>PAST MEDICAL HISTORY:, He has difficulty climb...</td>\n",
       "      <td>bariatrics, laparoscopic gastric bypass, weigh...</td>\n",
       "    </tr>\n",
       "    <tr>\n",
       "      <th>2</th>\n",
       "      <td>2</td>\n",
       "      <td>Consult for laparoscopic gastric bypass.</td>\n",
       "      <td>Bariatrics</td>\n",
       "      <td>Laparoscopic Gastric Bypass Consult - 1</td>\n",
       "      <td>HISTORY OF PRESENT ILLNESS: , I have seen ABC ...</td>\n",
       "      <td>bariatrics, laparoscopic gastric bypass, heart...</td>\n",
       "    </tr>\n",
       "    <tr>\n",
       "      <th>3</th>\n",
       "      <td>3</td>\n",
       "      <td>2-D M-Mode. Doppler.</td>\n",
       "      <td>Cardiovascular / Pulmonary</td>\n",
       "      <td>2-D Echocardiogram - 1</td>\n",
       "      <td>2-D M-MODE: , ,1.  Left atrial enlargement wit...</td>\n",
       "      <td>cardiovascular / pulmonary, 2-d m-mode, dopple...</td>\n",
       "    </tr>\n",
       "    <tr>\n",
       "      <th>4</th>\n",
       "      <td>4</td>\n",
       "      <td>2-D Echocardiogram</td>\n",
       "      <td>Cardiovascular / Pulmonary</td>\n",
       "      <td>2-D Echocardiogram - 2</td>\n",
       "      <td>1.  The left ventricular cavity size and wall ...</td>\n",
       "      <td>cardiovascular / pulmonary, 2-d, doppler, echo...</td>\n",
       "    </tr>\n",
       "  </tbody>\n",
       "</table>\n",
       "</div>"
      ],
      "text/plain": [
       "   Unnamed: 0                                        description  \\\n",
       "0           0   A 23-year-old white female presents with comp...   \n",
       "1           1           Consult for laparoscopic gastric bypass.   \n",
       "2           2           Consult for laparoscopic gastric bypass.   \n",
       "3           3                             2-D M-Mode. Doppler.     \n",
       "4           4                                 2-D Echocardiogram   \n",
       "\n",
       "             medical_specialty                                sample_name  \\\n",
       "0         Allergy / Immunology                         Allergic Rhinitis    \n",
       "1                   Bariatrics   Laparoscopic Gastric Bypass Consult - 2    \n",
       "2                   Bariatrics   Laparoscopic Gastric Bypass Consult - 1    \n",
       "3   Cardiovascular / Pulmonary                    2-D Echocardiogram - 1    \n",
       "4   Cardiovascular / Pulmonary                    2-D Echocardiogram - 2    \n",
       "\n",
       "                                       transcription  \\\n",
       "0  SUBJECTIVE:,  This 23-year-old white female pr...   \n",
       "1  PAST MEDICAL HISTORY:, He has difficulty climb...   \n",
       "2  HISTORY OF PRESENT ILLNESS: , I have seen ABC ...   \n",
       "3  2-D M-MODE: , ,1.  Left atrial enlargement wit...   \n",
       "4  1.  The left ventricular cavity size and wall ...   \n",
       "\n",
       "                                            keywords  \n",
       "0  allergy / immunology, allergic rhinitis, aller...  \n",
       "1  bariatrics, laparoscopic gastric bypass, weigh...  \n",
       "2  bariatrics, laparoscopic gastric bypass, heart...  \n",
       "3  cardiovascular / pulmonary, 2-d m-mode, dopple...  \n",
       "4  cardiovascular / pulmonary, 2-d, doppler, echo...  "
      ]
     },
     "execution_count": 2,
     "metadata": {},
     "output_type": "execute_result"
    }
   ],
   "source": [
    "data = pd.read_csv('./Data/mtsamples.csv')\n",
    "print(data.shape)\n",
    "data.head()"
   ]
  },
  {
   "cell_type": "markdown",
   "metadata": {
    "hidden": true
   },
   "source": [
    "The dataset contains of several categories, but we will need only <b>transcription</b>, which is the anamnesis, and <b>medical_specialty</b>, which is the target disgnostics type."
   ]
  },
  {
   "cell_type": "code",
   "execution_count": 3,
   "metadata": {
    "hidden": true
   },
   "outputs": [],
   "source": [
    "data = data[['transcription', 'medical_specialty']]\n",
    "data = data.drop(data[data['transcription'].isna()].index)"
   ]
  },
  {
   "cell_type": "markdown",
   "metadata": {
    "heading_collapsed": true
   },
   "source": [
    "# 3. Data review"
   ]
  },
  {
   "cell_type": "markdown",
   "metadata": {
    "hidden": true
   },
   "source": [
    "Let's look at some item of the transcription"
   ]
  },
  {
   "cell_type": "code",
   "execution_count": 8,
   "metadata": {
    "hidden": true
   },
   "outputs": [
    {
     "data": {
      "text/plain": [
       "'1.  The left ventricular cavity size and wall thickness appear normal.  The wall motion and left ventricular systolic function appears hyperdynamic with estimated ejection fraction of 70% to 75%.  There is near-cavity obliteration seen.  There also appears to be increased left ventricular outflow tract gradient at the mid cavity level consistent with hyperdynamic left ventricular systolic function.  There is abnormal left ventricular relaxation pattern seen as well as elevated left atrial pressures seen by Doppler examination.,2.  The left atrium appears mildly dilated.,3.  The right atrium and right ventricle appear normal.,4.  The aortic root appears normal.,5.  The aortic valve appears calcified with mild aortic valve stenosis, calculated aortic valve area is 1.3 cm square with a maximum instantaneous gradient of 34 and a mean gradient of 19 mm.,6.  There is mitral annular calcification extending to leaflets and supportive structures with thickening of mitral valve leaflets with mild mitral regurgitation.,7.  The tricuspid valve appears normal with trace tricuspid regurgitation with moderate pulmonary artery hypertension.  Estimated pulmonary artery systolic pressure is 49 mmHg.  Estimated right atrial pressure of 10 mmHg.,8.  The pulmonary valve appears normal with trace pulmonary insufficiency.,9.  There is no pericardial effusion or intracardiac mass seen.,10.  There is a color Doppler suggestive of a patent foramen ovale with lipomatous hypertrophy of the interatrial septum.,11.  The study was somewhat technically limited and hence subtle abnormalities could be missed from the study.,'"
      ]
     },
     "execution_count": 8,
     "metadata": {},
     "output_type": "execute_result"
    }
   ],
   "source": [
    "data.iloc[4]['transcription']"
   ]
  },
  {
   "cell_type": "markdown",
   "metadata": {
    "hidden": true
   },
   "source": [
    "We can see there are some constructions, which must be treated in order to clean the data.\n",
    "\n",
    "Now look at the target distribution"
   ]
  },
  {
   "cell_type": "code",
   "execution_count": 9,
   "metadata": {
    "hidden": true
   },
   "outputs": [
    {
     "data": {
      "text/plain": [
       " Surgery                          1103\n",
       " Consult - History and Phy.        516\n",
       " Cardiovascular / Pulmonary        372\n",
       " Orthopedic                        355\n",
       " Radiology                         273\n",
       " General Medicine                  259\n",
       " Gastroenterology                  230\n",
       " Neurology                         223\n",
       " SOAP / Chart / Progress Notes     166\n",
       " Obstetrics / Gynecology           160\n",
       " Urology                           158\n",
       " Discharge Summary                 108\n",
       " ENT - Otolaryngology               98\n",
       " Neurosurgery                       94\n",
       " Hematology - Oncology              90\n",
       " Ophthalmology                      83\n",
       " Nephrology                         81\n",
       " Emergency Room Reports             75\n",
       " Pediatrics - Neonatal              70\n",
       " Pain Management                    62\n",
       " Psychiatry / Psychology            53\n",
       " Office Notes                       51\n",
       " Podiatry                           47\n",
       " Dermatology                        29\n",
       " Dentistry                          27\n",
       " Cosmetic / Plastic Surgery         27\n",
       " Letters                            23\n",
       " Physical Medicine - Rehab          21\n",
       " Sleep Medicine                     20\n",
       " Endocrinology                      19\n",
       " Bariatrics                         18\n",
       " IME-QME-Work Comp etc.             16\n",
       " Chiropractic                       14\n",
       " Diets and Nutritions               10\n",
       " Rheumatology                       10\n",
       " Speech - Language                   9\n",
       " Lab Medicine - Pathology            8\n",
       " Autopsy                             8\n",
       " Allergy / Immunology                7\n",
       " Hospice - Palliative Care           6\n",
       "Name: medical_specialty, dtype: int64"
      ]
     },
     "execution_count": 9,
     "metadata": {},
     "output_type": "execute_result"
    }
   ],
   "source": [
    "data['medical_specialty'].value_counts()"
   ]
  },
  {
   "cell_type": "markdown",
   "metadata": {
    "hidden": true
   },
   "source": [
    "Classes are deeply imbalanced. For 5000 objects it might be too much. We will check it later.\n",
    "\n",
    "Let's check the sentence structure"
   ]
  },
  {
   "cell_type": "code",
   "execution_count": 4,
   "metadata": {
    "hidden": true
   },
   "outputs": [
    {
     "name": "stdout",
     "output_type": "stream",
     "text": [
      "2420937 words total, with a vocabulary size of 28581\n",
      "Max sentence length is 3114\n"
     ]
    }
   ],
   "source": [
    "from keras.preprocessing.text import Tokenizer\n",
    "from keras.preprocessing.sequence import pad_sequences\n",
    "from keras.utils import to_categorical\n",
    "\n",
    "# Create a list of tokens for each sentence\n",
    "tokenizer = RegexpTokenizer(r'\\w+')\n",
    "data[\"tokens\"] = data[\"transcription\"].apply(tokenizer.tokenize)\n",
    "\n",
    "all_words = [word for tokens in data[\"tokens\"] for word in tokens]\n",
    "sentence_lengths = [len(tokens) for tokens in data[\"tokens\"]]\n",
    "VOCAB = sorted(list(set(all_words)))\n",
    "print(\"%s words total, with a vocabulary size of %s\" % (len(all_words), len(VOCAB)))\n",
    "print(\"Max sentence length is %s\" % max(sentence_lengths))"
   ]
  },
  {
   "cell_type": "code",
   "execution_count": 123,
   "metadata": {
    "hidden": true
   },
   "outputs": [
    {
     "data": {
      "image/png": "[encoded data removed]",
      "text/plain": [
       "<matplotlib.figure.Figure at 0x7f4603c5da90>"
      ]
     },
     "metadata": {
      "needs_background": "light"
     },
     "output_type": "display_data"
    }
   ],
   "source": [
    "fig = plt.figure(figsize=(10, 10)) \n",
    "plt.title('Sentence length histogram')\n",
    "plt.xlabel('Sentence length')\n",
    "plt.ylabel('Number of sentences')\n",
    "plt.hist(sentence_lengths, edgecolor = 'black', bins = 20)\n",
    "plt.show()"
   ]
  },
  {
   "cell_type": "code",
   "execution_count": 20,
   "metadata": {
    "hidden": true
   },
   "outputs": [
    {
     "name": "stdout",
     "output_type": "stream",
     "text": [
      "Median sentence length 421.5\n",
      "Mean sentence length 487.5\n"
     ]
    }
   ],
   "source": [
    "print(f\"Median sentence length {np.median(sentence_lengths)}\")\n",
    "print(f\"Mean sentence length {round(np.mean(sentence_lengths), 2)}\")"
   ]
  },
  {
   "cell_type": "markdown",
   "metadata": {
    "hidden": true
   },
   "source": [
    "Average sentence is long enough: median and mean values are over 400 words."
   ]
  },
  {
   "cell_type": "markdown",
   "metadata": {
    "heading_collapsed": true
   },
   "source": [
    "# 4. Data transformation"
   ]
  },
  {
   "cell_type": "code",
   "execution_count": 5,
   "metadata": {
    "hidden": true
   },
   "outputs": [],
   "source": [
    "# Text preparation\n",
    "\n",
    "def basic_preprocessing(df):\n",
    "    \n",
    "    df_temp = df.copy(deep = True)\n",
    "    \n",
    "    df_temp = df_temp.rename(index = str, columns = {'transcription': 'text'})\n",
    "    \n",
    "    df_temp.loc[:, 'text'] = [text_prepare(x) for x in df_temp['text'].values]\n",
    "    \n",
    "    le = LabelEncoder()\n",
    "    le.fit(df_temp['medical_specialty'])\n",
    "    df_temp.loc[:, 'class_label'] = le.transform(df_temp['medical_specialty'])\n",
    "    \n",
    "    tokenizer = RegexpTokenizer(r'\\w+')\n",
    "\n",
    "    df_temp[\"tokens\"] = df_temp[\"text\"].apply(tokenizer.tokenize)\n",
    "    \n",
    "    return df_temp\n",
    "\n",
    "def text_prepare(text):\n",
    "\n",
    "    REPLACE_BY_SPACE_RE = re.compile('[/(){}\\[\\]\\|@,;]')\n",
    "    BAD_SYMBOLS_RE = re.compile('[^0-9a-z #+_]')\n",
    "    STOPWORDS = set(stopwords.words('english'))\n",
    "    \n",
    "    text = text.lower()\n",
    "    text = REPLACE_BY_SPACE_RE.sub('', text) # replace REPLACE_BY_SPACE_RE symbols by space in text\n",
    "    text = BAD_SYMBOLS_RE.sub('', text) # delete symbols which are in BAD_SYMBOLS_RE from text\n",
    "    words = text.split()\n",
    "    i = 0\n",
    "    while i < len(words):\n",
    "        if words[i] in STOPWORDS:\n",
    "            words.pop(i)\n",
    "        else:\n",
    "            i += 1\n",
    "    text = ' '.join(map(str, words))# delete stopwords from text\n",
    "    \n",
    "    return text\n",
    "\n",
    "# Introduce evaluation metrics\n",
    "\n",
    "def get_metrics(y_test, y_predicted):  \n",
    "\n",
    "    precision = precision_score(y_test, y_predicted, average='weighted')             \n",
    "\n",
    "    recall = recall_score(y_test, y_predicted, average='weighted')\n",
    "    \n",
    "    f1 = f1_score(y_test, y_predicted, average='weighted')\n",
    "    \n",
    "    accuracy = accuracy_score(y_test, y_predicted)\n",
    "    return accuracy, precision, recall, f1"
   ]
  },
  {
   "cell_type": "markdown",
   "metadata": {
    "hidden": true
   },
   "source": [
    "## 4.1. Bag of words"
   ]
  },
  {
   "cell_type": "markdown",
   "metadata": {
    "hidden": true
   },
   "source": [
    "First we apply basic preprocessing function, which splits the words, removes unvaluable symbols and drop stopwords. Then we apply Porter stemmer to bring every token to standartized form.\n",
    "\n",
    "Preliminarily I checked lemmatizer and on given data it worked worse than stemmer."
   ]
  },
  {
   "cell_type": "code",
   "execution_count": 6,
   "metadata": {
    "hidden": true
   },
   "outputs": [],
   "source": [
    "def BOW(data):\n",
    "\n",
    "    #stemmer = PorterStemmer()\n",
    "    #list_corpus = [stemmer.stem(sentence) for sentence in list_corpus]\n",
    "    \n",
    "    df_temp = data.copy(deep = True)\n",
    "    df_temp = basic_preprocessing(df_temp)\n",
    "\n",
    "    count_vectorizer = CountVectorizer()\n",
    "    count_vectorizer.fit(df_temp['text'])\n",
    "\n",
    "    list_corpus = df_temp[\"text\"].tolist()\n",
    "    list_labels = df_temp[\"class_label\"].tolist()\n",
    "    \n",
    "    X = count_vectorizer.transform(list_corpus)\n",
    "    \n",
    "    return X, list_labels"
   ]
  },
  {
   "cell_type": "markdown",
   "metadata": {
    "hidden": true
   },
   "source": [
    "## 4.2. TF-IDF"
   ]
  },
  {
   "cell_type": "markdown",
   "metadata": {
    "hidden": true
   },
   "source": [
    "For TD-IDF we use the same approach as before. The difference is that we use TF-IDF vectorizer instead of count vectorizer. We will check 1-grams only and mix of 1- and 2-grams."
   ]
  },
  {
   "cell_type": "code",
   "execution_count": 7,
   "metadata": {
    "hidden": true
   },
   "outputs": [],
   "source": [
    "def tfidf(data, ngrams = 1):\n",
    "\n",
    "    df_temp = data.copy(deep = True)\n",
    "    df_temp = basic_preprocessing(df_temp)\n",
    "    \n",
    "    tfidf_vectorizer = TfidfVectorizer(ngram_range=(1, ngrams))\n",
    "    tfidf_vectorizer.fit(df_temp['text'])\n",
    "\n",
    "    list_corpus = df_temp[\"text\"].tolist()\n",
    "    list_labels = df_temp[\"class_label\"].tolist()\n",
    "\n",
    "    X = tfidf_vectorizer.transform(list_corpus)\n",
    "    \n",
    "    return X, list_labels"
   ]
  },
  {
   "cell_type": "markdown",
   "metadata": {
    "hidden": true
   },
   "source": [
    "## 4.3. Word2Vec"
   ]
  },
  {
   "cell_type": "markdown",
   "metadata": {
    "hidden": true
   },
   "source": [
    "For Word2Vec the approach is the same."
   ]
  },
  {
   "cell_type": "code",
   "execution_count": 7,
   "metadata": {
    "hidden": true
   },
   "outputs": [],
   "source": [
    "word2vec_path = \"./Data/GoogleNews-vectors-negative300.bin.gz\"\n",
    "word2vec = gensim.models.KeyedVectors.load_word2vec_format(word2vec_path, binary=True)"
   ]
  },
  {
   "cell_type": "code",
   "execution_count": 8,
   "metadata": {
    "hidden": true
   },
   "outputs": [],
   "source": [
    "def get_average_word2vec(tokens_list, vector, generate_missing=False, k=300):\n",
    "    if len(tokens_list)<1:\n",
    "        return np.zeros(k)\n",
    "    if generate_missing:\n",
    "        vectorized = [vector[word] if word in vector else np.random.rand(k) for word in tokens_list]\n",
    "    else:\n",
    "        vectorized = [vector[word] if word in vector else np.zeros(k) for word in tokens_list]\n",
    "    length = len(vectorized)\n",
    "    summed = np.sum(vectorized, axis=0)\n",
    "    averaged = np.divide(summed, length)\n",
    "    return averaged\n",
    "\n",
    "def get_word2vec_embeddings(vectors, clean_questions, generate_missing=False):\n",
    "    embeddings = clean_questions['tokens'].apply(lambda x: get_average_word2vec(x, vectors, \n",
    "                                                                                generate_missing=generate_missing))\n",
    "    return list(embeddings)"
   ]
  },
  {
   "cell_type": "code",
   "execution_count": 9,
   "metadata": {
    "hidden": true
   },
   "outputs": [],
   "source": [
    "def w2v(data):\n",
    "    \n",
    "    df_temp = data.copy(deep = True)    \n",
    "    df_temp = basic_preprocessing(df_temp)\n",
    "    \n",
    "    embeddings = get_word2vec_embeddings(word2vec, df_temp)\n",
    "    list_labels = df_temp[\"class_label\"].tolist()\n",
    "    \n",
    "    return embeddings, list_labels"
   ]
  },
  {
   "cell_type": "markdown",
   "metadata": {
    "heading_collapsed": true
   },
   "source": [
    "# 5. Baseline modelling"
   ]
  },
  {
   "cell_type": "markdown",
   "metadata": {
    "hidden": true
   },
   "source": [
    "As baseline model we'll choose LogisticRegression as one of the most verstily one. Calculating the score metrics for 4 ways described before: Bag of words, TF-IDF with 1-gram, TF-IDF with 2-gram, word2vec."
   ]
  },
  {
   "cell_type": "code",
   "execution_count": 124,
   "metadata": {
    "hidden": true
   },
   "outputs": [],
   "source": [
    "folds = StratifiedKFold(n_splits=3, shuffle=True, random_state = 40)\n",
    "\n",
    "clf = LogisticRegressionCV(cv = folds, solver = 'saga', \n",
    "                           multi_class = 'multinomial', n_jobs = -1, random_state = 40)\n",
    "\n",
    "df_res = pd.DataFrame(columns = ['Preprocessing', 'Precision', 'Recall', 'F1-score', 'Accuracy'])\n",
    "\n",
    "# Bag of words approach\n",
    "X, y = BOW(data)\n",
    "X_train, X_test, y_train, y_test = train_test_split(X, y, test_size=0.2, random_state=40)\n",
    "clf.fit(X_train, y_train)\n",
    "y_pred = clf.predict(X_test)\n",
    "accuracy, precision, recall, f1 = get_metrics(y_test, y_pred)\n",
    "df_res = df_res.append({'Preprocessing': 'Bag of words',\n",
    "                       'Precision': precision,\n",
    "                       'Recall': recall,\n",
    "                       'F1-score': f1,\n",
    "                       'Accuracy': accuracy}, ignore_index = True)\n",
    "\n",
    "# TF_IDF approach. 1-gram\n",
    "X, y = tfidf(data)\n",
    "X_train, X_test, y_train, y_test = train_test_split(X, y, test_size=0.2, random_state=40)\n",
    "clf.fit(X_train, y_train)\n",
    "y_pred = clf.predict(X_test)\n",
    "accuracy, precision, recall, f1 = get_metrics(y_test, y_pred)\n",
    "df_res = df_res.append({'Preprocessing': 'TF-IDF 1-gram',\n",
    "                       'Precision': precision,\n",
    "                       'Recall': recall,\n",
    "                       'F1-score': f1,\n",
    "                       'Accuracy': accuracy}, ignore_index = True)\n",
    "\n",
    "# TF_IDF approach. 2-gram\n",
    "X, y = tfidf(data, ngrams=2)\n",
    "X_train, X_test, y_train, y_test = train_test_split(X, y, test_size=0.2, random_state=40)\n",
    "clf.fit(X_train, y_train)\n",
    "y_pred = clf.predict(X_test)\n",
    "accuracy, precision, recall, f1 = get_metrics(y_test, y_pred)\n",
    "df_res = df_res.append({'Preprocessing': 'TF-IDF 2-gram',\n",
    "                       'Precision': precision,\n",
    "                       'Recall': recall,\n",
    "                       'F1-score': f1,\n",
    "                       'Accuracy': accuracy}, ignore_index = True)\n",
    "\n",
    "# Word2vec\n",
    "X, y = w2v(data)\n",
    "X_train, X_test, y_train, y_test = train_test_split(X, y, test_size=0.2, random_state=40)\n",
    "clf.fit(X_train, y_train)\n",
    "y_pred = clf.predict(X_test)\n",
    "accuracy, precision, recall, f1 = get_metrics(y_test, y_pred)\n",
    "df_res = df_res.append({'Preprocessing': 'Word2vec',\n",
    "                       'Precision': precision,\n",
    "                       'Recall': recall,\n",
    "                       'F1-score': f1,\n",
    "                       'Accuracy': accuracy}, ignore_index = True)"
   ]
  },
  {
   "cell_type": "code",
   "execution_count": 126,
   "metadata": {
    "hidden": true
   },
   "outputs": [
    {
     "data": {
      "text/html": [
       "<div>\n",
       "<style scoped>\n",
       "    .dataframe tbody tr th:only-of-type {\n",
       "        vertical-align: middle;\n",
       "    }\n",
       "\n",
       "    .dataframe tbody tr th {\n",
       "        vertical-align: top;\n",
       "    }\n",
       "\n",
       "    .dataframe thead th {\n",
       "        text-align: right;\n",
       "    }\n",
       "</style>\n",
       "<table border=\"1\" class=\"dataframe\">\n",
       "  <thead>\n",
       "    <tr style=\"text-align: right;\">\n",
       "      <th></th>\n",
       "      <th>Preprocessing</th>\n",
       "      <th>Precision</th>\n",
       "      <th>Recall</th>\n",
       "      <th>F1-score</th>\n",
       "      <th>Accuracy</th>\n",
       "    </tr>\n",
       "  </thead>\n",
       "  <tbody>\n",
       "    <tr>\n",
       "      <th>0</th>\n",
       "      <td>Bag of words</td>\n",
       "      <td>0.256824</td>\n",
       "      <td>0.340040</td>\n",
       "      <td>0.258735</td>\n",
       "      <td>0.340040</td>\n",
       "    </tr>\n",
       "    <tr>\n",
       "      <th>1</th>\n",
       "      <td>TF-IDF 1-gram</td>\n",
       "      <td>0.204859</td>\n",
       "      <td>0.343058</td>\n",
       "      <td>0.223699</td>\n",
       "      <td>0.343058</td>\n",
       "    </tr>\n",
       "    <tr>\n",
       "      <th>2</th>\n",
       "      <td>TF-IDF 2-gram</td>\n",
       "      <td>0.144673</td>\n",
       "      <td>0.321932</td>\n",
       "      <td>0.179239</td>\n",
       "      <td>0.321932</td>\n",
       "    </tr>\n",
       "    <tr>\n",
       "      <th>3</th>\n",
       "      <td>Word2vec</td>\n",
       "      <td>0.318220</td>\n",
       "      <td>0.378270</td>\n",
       "      <td>0.319280</td>\n",
       "      <td>0.378270</td>\n",
       "    </tr>\n",
       "  </tbody>\n",
       "</table>\n",
       "</div>"
      ],
      "text/plain": [
       "   Preprocessing  Precision    Recall  F1-score  Accuracy\n",
       "0   Bag of words   0.256824  0.340040  0.258735  0.340040\n",
       "1  TF-IDF 1-gram   0.204859  0.343058  0.223699  0.343058\n",
       "2  TF-IDF 2-gram   0.144673  0.321932  0.179239  0.321932\n",
       "3       Word2vec   0.318220  0.378270  0.319280  0.378270"
      ]
     },
     "execution_count": 126,
     "metadata": {},
     "output_type": "execute_result"
    }
   ],
   "source": [
    "df_res"
   ]
  },
  {
   "cell_type": "markdown",
   "metadata": {
    "heading_collapsed": true
   },
   "source": [
    "# 6. Baseline result analysis"
   ]
  },
  {
   "cell_type": "markdown",
   "metadata": {
    "hidden": true
   },
   "source": [
    "As we can see, quality metrics vary a lot. So we need to choose the one we will be targeting on.\n",
    "\n",
    "- Accuracy is not a good choice as due to very unbalanced class maximizing it will force alorithm to predict the major one;\n",
    "- Precision indicates how much we can trust the algorithm when it predicts a certain class;\n",
    "- Recall shows how many of the true labels of the class are predicted correctly by the algorithm;\n",
    "- F1-score is the harmonic mean of precision and recall.\n",
    "\n",
    "As F1-score is the most balanced one of the metrics above, we will use it primarily, but still keeping an eye on others."
   ]
  },
  {
   "cell_type": "code",
   "execution_count": 99,
   "metadata": {
    "hidden": true
   },
   "outputs": [
    {
     "data": {
      "text/html": [
       "<div>\n",
       "<style scoped>\n",
       "    .dataframe tbody tr th:only-of-type {\n",
       "        vertical-align: middle;\n",
       "    }\n",
       "\n",
       "    .dataframe tbody tr th {\n",
       "        vertical-align: top;\n",
       "    }\n",
       "\n",
       "    .dataframe thead th {\n",
       "        text-align: right;\n",
       "    }\n",
       "</style>\n",
       "<table border=\"1\" class=\"dataframe\">\n",
       "  <thead>\n",
       "    <tr style=\"text-align: right;\">\n",
       "      <th></th>\n",
       "      <th>Preprocessing</th>\n",
       "      <th>Precision</th>\n",
       "      <th>Recall</th>\n",
       "      <th>F1-score</th>\n",
       "      <th>Accuracy</th>\n",
       "    </tr>\n",
       "  </thead>\n",
       "  <tbody>\n",
       "    <tr>\n",
       "      <th>0</th>\n",
       "      <td>Bag of words</td>\n",
       "      <td>0.256824</td>\n",
       "      <td>0.340040</td>\n",
       "      <td>0.258735</td>\n",
       "      <td>0.340040</td>\n",
       "    </tr>\n",
       "    <tr>\n",
       "      <th>1</th>\n",
       "      <td>TF-IDF 1-gram</td>\n",
       "      <td>0.204859</td>\n",
       "      <td>0.343058</td>\n",
       "      <td>0.223699</td>\n",
       "      <td>0.343058</td>\n",
       "    </tr>\n",
       "    <tr>\n",
       "      <th>2</th>\n",
       "      <td>TF-IDF 2-gram</td>\n",
       "      <td>0.144673</td>\n",
       "      <td>0.321932</td>\n",
       "      <td>0.179239</td>\n",
       "      <td>0.321932</td>\n",
       "    </tr>\n",
       "    <tr>\n",
       "      <th>3</th>\n",
       "      <td>Bag of words</td>\n",
       "      <td>0.326611</td>\n",
       "      <td>0.382294</td>\n",
       "      <td>0.297561</td>\n",
       "      <td>0.382294</td>\n",
       "    </tr>\n",
       "  </tbody>\n",
       "</table>\n",
       "</div>"
      ],
      "text/plain": [
       "   Preprocessing  Precision    Recall  F1-score  Accuracy\n",
       "0   Bag of words   0.256824  0.340040  0.258735  0.340040\n",
       "1  TF-IDF 1-gram   0.204859  0.343058  0.223699  0.343058\n",
       "2  TF-IDF 2-gram   0.144673  0.321932  0.179239  0.321932\n",
       "3   Bag of words   0.326611  0.382294  0.297561  0.382294"
      ]
     },
     "execution_count": 99,
     "metadata": {},
     "output_type": "execute_result"
    }
   ],
   "source": [
    "df_res"
   ]
  },
  {
   "cell_type": "markdown",
   "metadata": {
    "hidden": true
   },
   "source": [
    "The major classes are predicted quite well, but minor ones are confused a lot. Most possibly the reason is not only in unbalanceness of the classes, but in a very few absolute number of minor classes. Doubtfully the algorithm can gain some dependancies on 6 or 10 objects of one class.\n",
    "\n",
    "So in order to make the model better we will get rid on the classes which are represented by less than 100 objects. For those we would need to get additional data."
   ]
  },
  {
   "cell_type": "markdown",
   "metadata": {
    "heading_collapsed": true
   },
   "source": [
    "# 7. Dataset adjustment"
   ]
  },
  {
   "cell_type": "markdown",
   "metadata": {
    "hidden": true
   },
   "source": [
    "Dropping object with number of observations less than 100."
   ]
  },
  {
   "cell_type": "code",
   "execution_count": 112,
   "metadata": {
    "hidden": true
   },
   "outputs": [],
   "source": [
    "data_100['labels'] = LabelEncoder().fit_transform(data_100['medical_specialty'])"
   ]
  },
  {
   "cell_type": "code",
   "execution_count": 113,
   "metadata": {
    "hidden": true
   },
   "outputs": [
    {
     "data": {
      "text/html": [
       "<div>\n",
       "<style scoped>\n",
       "    .dataframe tbody tr th:only-of-type {\n",
       "        vertical-align: middle;\n",
       "    }\n",
       "\n",
       "    .dataframe tbody tr th {\n",
       "        vertical-align: top;\n",
       "    }\n",
       "\n",
       "    .dataframe thead th {\n",
       "        text-align: right;\n",
       "    }\n",
       "</style>\n",
       "<table border=\"1\" class=\"dataframe\">\n",
       "  <thead>\n",
       "    <tr style=\"text-align: right;\">\n",
       "      <th></th>\n",
       "      <th>transcription</th>\n",
       "      <th>medical_specialty</th>\n",
       "      <th>labels</th>\n",
       "    </tr>\n",
       "  </thead>\n",
       "  <tbody>\n",
       "    <tr>\n",
       "      <th>3</th>\n",
       "      <td>2-D M-MODE: , ,1.  Left atrial enlargement wit...</td>\n",
       "      <td>Cardiovascular / Pulmonary</td>\n",
       "      <td>0</td>\n",
       "    </tr>\n",
       "    <tr>\n",
       "      <th>4</th>\n",
       "      <td>1.  The left ventricular cavity size and wall ...</td>\n",
       "      <td>Cardiovascular / Pulmonary</td>\n",
       "      <td>0</td>\n",
       "    </tr>\n",
       "    <tr>\n",
       "      <th>7</th>\n",
       "      <td>2-D ECHOCARDIOGRAM,Multiple views of the heart...</td>\n",
       "      <td>Cardiovascular / Pulmonary</td>\n",
       "      <td>0</td>\n",
       "    </tr>\n",
       "    <tr>\n",
       "      <th>9</th>\n",
       "      <td>DESCRIPTION:,1.  Normal cardiac chambers size....</td>\n",
       "      <td>Cardiovascular / Pulmonary</td>\n",
       "      <td>0</td>\n",
       "    </tr>\n",
       "    <tr>\n",
       "      <th>11</th>\n",
       "      <td>2-D STUDY,1. Mild aortic stenosis, widely calc...</td>\n",
       "      <td>Cardiovascular / Pulmonary</td>\n",
       "      <td>0</td>\n",
       "    </tr>\n",
       "  </tbody>\n",
       "</table>\n",
       "</div>"
      ],
      "text/plain": [
       "                                        transcription  \\\n",
       "3   2-D M-MODE: , ,1.  Left atrial enlargement wit...   \n",
       "4   1.  The left ventricular cavity size and wall ...   \n",
       "7   2-D ECHOCARDIOGRAM,Multiple views of the heart...   \n",
       "9   DESCRIPTION:,1.  Normal cardiac chambers size....   \n",
       "11  2-D STUDY,1. Mild aortic stenosis, widely calc...   \n",
       "\n",
       "              medical_specialty  labels  \n",
       "3    Cardiovascular / Pulmonary       0  \n",
       "4    Cardiovascular / Pulmonary       0  \n",
       "7    Cardiovascular / Pulmonary       0  \n",
       "9    Cardiovascular / Pulmonary       0  \n",
       "11   Cardiovascular / Pulmonary       0  "
      ]
     },
     "execution_count": 113,
     "metadata": {},
     "output_type": "execute_result"
    }
   ],
   "source": [
    "data_100.head()"
   ]
  },
  {
   "cell_type": "code",
   "execution_count": 110,
   "metadata": {
    "hidden": true
   },
   "outputs": [],
   "source": [
    "counts = data['medical_specialty'].value_counts()\n",
    "data_100 = data[data['medical_specialty'].isin(counts[counts > 100].index)]"
   ]
  },
  {
   "cell_type": "code",
   "execution_count": 11,
   "metadata": {
    "hidden": true
   },
   "outputs": [
    {
     "data": {
      "text/plain": [
       " Surgery                          1088\n",
       " Consult - History and Phy.        516\n",
       " Cardiovascular / Pulmonary        371\n",
       " Orthopedic                        355\n",
       " Radiology                         273\n",
       " General Medicine                  259\n",
       " Gastroenterology                  224\n",
       " Neurology                         223\n",
       " SOAP / Chart / Progress Notes     166\n",
       " Urology                           156\n",
       " Obstetrics / Gynecology           155\n",
       " Discharge Summary                 108\n",
       "Name: medical_specialty, dtype: int64"
      ]
     },
     "execution_count": 11,
     "metadata": {},
     "output_type": "execute_result"
    }
   ],
   "source": [
    "data_100['medical_specialty'].value_counts()"
   ]
  },
  {
   "cell_type": "markdown",
   "metadata": {
    "hidden": true
   },
   "source": [
    "Imbalance is still big, but this measure should help us get better results"
   ]
  },
  {
   "cell_type": "markdown",
   "metadata": {
    "heading_collapsed": true
   },
   "source": [
    "# 8. Selecting the best model"
   ]
  },
  {
   "cell_type": "markdown",
   "metadata": {
    "hidden": true
   },
   "source": [
    "Now having the baseline model on full dataset we will try to improve it using adjusted dataset and three of the most suitable algorithms: Naive Bayes, Logistic Regression and LightGBM."
   ]
  },
  {
   "cell_type": "markdown",
   "metadata": {
    "heading_collapsed": true,
    "hidden": true
   },
   "source": [
    "## 8.1. Naive Bayes"
   ]
  },
  {
   "cell_type": "code",
   "execution_count": 12,
   "metadata": {
    "hidden": true
   },
   "outputs": [],
   "source": [
    "def training_naive(X_train_naive, X_test_naive, y_train_naive, y_test_naive, preproc):\n",
    "    \n",
    "    clf = MultinomialNB()\n",
    "    clf.fit(X_train_naive, y_train_naive)\n",
    "\n",
    "    res = pd.DataFrame(columns = ['Preprocessing', 'Model', 'Precision', 'Recall', 'F1-score', 'Accuracy'])\n",
    "    \n",
    "    y_pred = clf.predict(X_test_naive)\n",
    "    \n",
    "    f1 = f1_score(y_pred, y_test_naive, average = 'weighted')\n",
    "    pres = precision_score(y_pred, y_test_naive, average = 'weighted')\n",
    "    rec = recall_score(y_pred, y_test_naive, average = 'weighted')\n",
    "    acc = accuracy_score(y_pred, y_test_naive)\n",
    "    \n",
    "    res = res.append({'Preprocessing': preproc, 'Model': 'Naive Bayes', 'Precision': pres, \n",
    "                     'Recall': rec, 'F1-score': f1, 'Accuracy': acc}, ignore_index = True)\n",
    "\n",
    "    return res"
   ]
  },
  {
   "cell_type": "markdown",
   "metadata": {
    "heading_collapsed": true,
    "hidden": true
   },
   "source": [
    "## 8.2. Logistic Regression"
   ]
  },
  {
   "cell_type": "code",
   "execution_count": 32,
   "metadata": {
    "hidden": true
   },
   "outputs": [],
   "source": [
    "def training_logreg(X_train_log, X_test_log, y_train_log, y_test_log, preproc):\n",
    "    \n",
    "    folds = StratifiedKFold(n_splits = 3, shuffle = True, random_state = 40)\n",
    "    \n",
    "    clf = LogisticRegressionCV(cv = folds, solver = 'saga', multi_class = 'multinomial', n_jobs = -1)\n",
    "    \n",
    "    clf.fit(X_train_log, y_train_log)\n",
    "\n",
    "    res = pd.DataFrame(columns = ['Preprocessing', 'Model', 'Precision', 'Recall', 'F1-score', 'Accuracy'])\n",
    "    \n",
    "    y_pred = clf.predict(X_test_log)\n",
    "    \n",
    "    f1 = f1_score(y_pred, y_test_log, average = 'weighted')\n",
    "    pres = precision_score(y_pred, y_test_log, average = 'weighted')\n",
    "    rec = recall_score(y_pred, y_test_log, average = 'weighted')\n",
    "    acc = accuracy_score(y_pred, y_test_log)\n",
    "    \n",
    "    res = res.append({'Preprocessing': preproc, 'Model': f'Logistic Regression', 'Precision': pres, \n",
    "                     'Recall': rec, 'F1-score': f1, 'Accuracy': acc}, ignore_index = True)\n",
    "\n",
    "    return res"
   ]
  },
  {
   "cell_type": "markdown",
   "metadata": {
    "heading_collapsed": true,
    "hidden": true
   },
   "source": [
    "## 8.3. LightGBM"
   ]
  },
  {
   "cell_type": "markdown",
   "metadata": {
    "hidden": true
   },
   "source": [
    "For LightGBM first we need make a pretune for the model to perform close to well"
   ]
  },
  {
   "cell_type": "code",
   "execution_count": 14,
   "metadata": {
    "hidden": true
   },
   "outputs": [],
   "source": [
    "def training_lgbm(X_train_lgbm, X_test_lgbm, y_train_lgbm, y_test_lgbm, preproc,\n",
    "                 n = 200, depth = 4, child = 2, bag = 0.9, feature = 0.9, l1 = 1, l = 0.01, w2v = False):\n",
    "    \n",
    "    if w2v:\n",
    "        d_train = lgb.Dataset(X_train_lgbm, label=y_train_lgbm)\n",
    "    else:\n",
    "        d_train = lgb.Dataset(X_train_lgbm.astype(np.float32), label=y_train_lgbm)\n",
    "\n",
    "    early_stop = 500\n",
    "    verbose_eval = False\n",
    "    num_rounds = n\n",
    "\n",
    "    params = {\n",
    "        'objective': 'multiclass',\n",
    "        'num_class': len(set(y_train_lgbm)),\n",
    "        'boosting': 'gbdt', \n",
    "        'metric': 'multi_logloss',\n",
    "        'max_depth': depth, \n",
    "        'max_bin': 22, \n",
    "        'bagging_fraction': bag, \n",
    "        'feature_fraction': feature, \n",
    "        'min_child_samples': child, \n",
    "        'min_child_weight': 1, \n",
    "        'learning_rate': l,\n",
    "        'verbosity': -1, \n",
    "        'data_random_seed': 17,\n",
    "        'lambda_l1': l1}\n",
    "\n",
    "    model = lgb.train(params, train_set = d_train, num_boost_round = num_rounds)\n",
    "\n",
    "    y_pred_proba = model.predict(X_test_lgbm.astype(np.float32), num_iteration=model.best_iteration)\n",
    "    y_pred = [np.argmax(x) for x in y_pred_proba]\n",
    "    \n",
    "    res = pd.DataFrame(columns = ['Preprocessing', 'Model', 'Precision', 'Recall', 'F1-score', 'Accuracy'])\n",
    "        \n",
    "    f1 = f1_score(y_pred, y_test_lgbm, average = 'weighted')\n",
    "    pres = precision_score(y_pred, y_test_lgbm, average = 'weighted')\n",
    "    rec = recall_score(y_pred, y_test_lgbm, average = 'weighted')\n",
    "    acc = accuracy_score(y_pred, y_test_lgbm)\n",
    "    \n",
    "    res = res.append({'Preprocessing': preproc, 'Model': 'LightGBM', 'Precision': pres, \n",
    "                     'Recall': rec, 'F1-score': f1, 'Accuracy': acc}, ignore_index = True)\n",
    "\n",
    "    return res"
   ]
  },
  {
   "cell_type": "code",
   "execution_count": 105,
   "metadata": {
    "hidden": true
   },
   "outputs": [
    {
     "data": {
      "image/png": "[encoded data removed]",
      "text/plain": [
       "<matplotlib.figure.Figure at 0x7f10207299b0>"
      ]
     },
     "metadata": {
      "needs_background": "light"
     },
     "output_type": "display_data"
    }
   ],
   "source": [
    "# Tune number of estimator at learning rate = 0.01\n",
    "\n",
    "X, y = BOW(data_100)\n",
    "X_train, X_test, y_train, y_test = train_test_split(X, y, test_size=0.2, random_state=40)\n",
    "ns = range(80, 301, 20)\n",
    "recalls = []\n",
    "for n in ns:\n",
    "    recalls.append(training_lgbm(X_train, X_test, y_train, y_test, 'Count', n = n, l = 0.01)['Recall'].values[0])\n",
    "fig = plt.figure(figsize = (10, 8))\n",
    "plt.plot(ns, recalls, label = 'Recall')\n",
    "plt.xlabel('Number of estimators')\n",
    "plt.ylabel('Recall')\n",
    "plt.title('LightGBM recall dependance on number of estimators with learning rate equal to 0.01')\n",
    "plt.show()"
   ]
  },
  {
   "cell_type": "code",
   "execution_count": 107,
   "metadata": {
    "hidden": true
   },
   "outputs": [
    {
     "data": {
      "text/plain": [
       "[[0.43645699614890887, 4, 2],\n",
       " [0.43517329910141206, 2, 4],\n",
       " [0.43517329910141206, 2, 2]]"
      ]
     },
     "execution_count": 107,
     "metadata": {},
     "output_type": "execute_result"
    }
   ],
   "source": [
    "# Tune maximum tree depth and minimum elements in leaf\n",
    "\n",
    "depths = range(2, 7, 2)\n",
    "childs = range(2, 7, 2)\n",
    "recalls = []\n",
    "for depth in depths:\n",
    "    for child in childs:\n",
    "        recalls.append([training_lgbm(X_train, X_test, y_train, y_test, 'TF-IDF 1-gram', \n",
    "                                     n = 120, l = 0.01, depth = depth, child = child)['Recall'].values[0], depth, child])\n",
    "recalls.sort(reverse = True)\n",
    "recalls[:3]"
   ]
  },
  {
   "cell_type": "markdown",
   "metadata": {
    "hidden": true
   },
   "source": [
    "Optimal parameters for preliminary tuning are:\n",
    " - number of estimators = 200\n",
    " - learning rate = 0.01\n",
    " - maximum tree depth = 4\n",
    " - minimum samples in leaf = 2"
   ]
  },
  {
   "cell_type": "markdown",
   "metadata": {
    "heading_collapsed": true,
    "hidden": true
   },
   "source": [
    "## 8.4. Calculations"
   ]
  },
  {
   "cell_type": "code",
   "execution_count": 38,
   "metadata": {
    "hidden": true
   },
   "outputs": [
    {
     "data": {
      "text/html": [
       "<div>\n",
       "<style scoped>\n",
       "    .dataframe tbody tr th:only-of-type {\n",
       "        vertical-align: middle;\n",
       "    }\n",
       "\n",
       "    .dataframe tbody tr th {\n",
       "        vertical-align: top;\n",
       "    }\n",
       "\n",
       "    .dataframe thead th {\n",
       "        text-align: right;\n",
       "    }\n",
       "</style>\n",
       "<table border=\"1\" class=\"dataframe\">\n",
       "  <thead>\n",
       "    <tr style=\"text-align: right;\">\n",
       "      <th></th>\n",
       "      <th>Preprocessing</th>\n",
       "      <th>Model</th>\n",
       "      <th>Precision</th>\n",
       "      <th>Recall</th>\n",
       "      <th>F1-score</th>\n",
       "      <th>Accuracy</th>\n",
       "    </tr>\n",
       "  </thead>\n",
       "  <tbody>\n",
       "    <tr>\n",
       "      <th>0</th>\n",
       "      <td>Count Vectorize</td>\n",
       "      <td>Naive Bayes</td>\n",
       "      <td>0.455078</td>\n",
       "      <td>0.388960</td>\n",
       "      <td>0.413204</td>\n",
       "      <td>0.388960</td>\n",
       "    </tr>\n",
       "    <tr>\n",
       "      <th>1</th>\n",
       "      <td>Count Vectorize</td>\n",
       "      <td>Logistic Regression</td>\n",
       "      <td>0.633318</td>\n",
       "      <td>0.440308</td>\n",
       "      <td>0.507628</td>\n",
       "      <td>0.440308</td>\n",
       "    </tr>\n",
       "    <tr>\n",
       "      <th>2</th>\n",
       "      <td>Count Vectorize</td>\n",
       "      <td>LightGBM</td>\n",
       "      <td>0.595926</td>\n",
       "      <td>0.406932</td>\n",
       "      <td>0.474065</td>\n",
       "      <td>0.406932</td>\n",
       "    </tr>\n",
       "    <tr>\n",
       "      <th>3</th>\n",
       "      <td>TF-IDF 1-grams</td>\n",
       "      <td>Naive Bayes</td>\n",
       "      <td>0.954386</td>\n",
       "      <td>0.426187</td>\n",
       "      <td>0.587129</td>\n",
       "      <td>0.426187</td>\n",
       "    </tr>\n",
       "    <tr>\n",
       "      <th>4</th>\n",
       "      <td>TF-IDF 1-grams</td>\n",
       "      <td>Logistic Regression</td>\n",
       "      <td>0.761526</td>\n",
       "      <td>0.435173</td>\n",
       "      <td>0.543913</td>\n",
       "      <td>0.435173</td>\n",
       "    </tr>\n",
       "    <tr>\n",
       "      <th>5</th>\n",
       "      <td>TF-IDF 1-grams</td>\n",
       "      <td>LightGBM</td>\n",
       "      <td>0.561959</td>\n",
       "      <td>0.385109</td>\n",
       "      <td>0.448423</td>\n",
       "      <td>0.385109</td>\n",
       "    </tr>\n",
       "    <tr>\n",
       "      <th>6</th>\n",
       "      <td>TF-IDF 2-grams</td>\n",
       "      <td>Naive Bayes</td>\n",
       "      <td>0.922098</td>\n",
       "      <td>0.406932</td>\n",
       "      <td>0.560075</td>\n",
       "      <td>0.406932</td>\n",
       "    </tr>\n",
       "    <tr>\n",
       "      <th>7</th>\n",
       "      <td>TF-IDF 2-grams</td>\n",
       "      <td>Logistic Regression</td>\n",
       "      <td>0.855491</td>\n",
       "      <td>0.418485</td>\n",
       "      <td>0.554689</td>\n",
       "      <td>0.418485</td>\n",
       "    </tr>\n",
       "    <tr>\n",
       "      <th>8</th>\n",
       "      <td>TF-IDF 2-grams</td>\n",
       "      <td>LightGBM</td>\n",
       "      <td>0.515612</td>\n",
       "      <td>0.363286</td>\n",
       "      <td>0.419341</td>\n",
       "      <td>0.363286</td>\n",
       "    </tr>\n",
       "    <tr>\n",
       "      <th>9</th>\n",
       "      <td>Word2vec</td>\n",
       "      <td>Logistic Regression</td>\n",
       "      <td>0.602675</td>\n",
       "      <td>0.472401</td>\n",
       "      <td>0.516603</td>\n",
       "      <td>0.472401</td>\n",
       "    </tr>\n",
       "  </tbody>\n",
       "</table>\n",
       "</div>"
      ],
      "text/plain": [
       "     Preprocessing                Model  Precision    Recall  F1-score  \\\n",
       "0  Count Vectorize          Naive Bayes   0.455078  0.388960  0.413204   \n",
       "1  Count Vectorize  Logistic Regression   0.633318  0.440308  0.507628   \n",
       "2  Count Vectorize             LightGBM   0.595926  0.406932  0.474065   \n",
       "3   TF-IDF 1-grams          Naive Bayes   0.954386  0.426187  0.587129   \n",
       "4   TF-IDF 1-grams  Logistic Regression   0.761526  0.435173  0.543913   \n",
       "5   TF-IDF 1-grams             LightGBM   0.561959  0.385109  0.448423   \n",
       "6   TF-IDF 2-grams          Naive Bayes   0.922098  0.406932  0.560075   \n",
       "7   TF-IDF 2-grams  Logistic Regression   0.855491  0.418485  0.554689   \n",
       "8   TF-IDF 2-grams             LightGBM   0.515612  0.363286  0.419341   \n",
       "9         Word2vec  Logistic Regression   0.602675  0.472401  0.516603   \n",
       "\n",
       "   Accuracy  \n",
       "0  0.388960  \n",
       "1  0.440308  \n",
       "2  0.406932  \n",
       "3  0.426187  \n",
       "4  0.435173  \n",
       "5  0.385109  \n",
       "6  0.406932  \n",
       "7  0.418485  \n",
       "8  0.363286  \n",
       "9  0.472401  "
      ]
     },
     "execution_count": 38,
     "metadata": {},
     "output_type": "execute_result"
    }
   ],
   "source": [
    "# DataFrame for result evaluation\n",
    "\n",
    "full_result = pd.DataFrame(columns = ['Preprocessing', 'Model', 'Precision', 'Recall', 'F1-score', 'Accuracy'])\n",
    "\n",
    "# Testing Count Vectorizer\n",
    "\n",
    "X, y = BOW(data_100)\n",
    "X_train, X_test, y_train, y_test = train_test_split(X, y, test_size=0.2, random_state=40)\n",
    "full_result = full_result.append(training_naive(X_train, X_test, y_train, y_test, 'Count Vectorize'), ignore_index = True)\n",
    "full_result = full_result.append(training_logreg(X_train, X_test, y_train, y_test, 'Count Vectorize'), ignore_index = True)\n",
    "full_result = full_result.append(training_lgbm(X_train, X_test, y_train, y_test, 'Count Vectorize'), ignore_index = True)\n",
    "\n",
    "# Testing TF-IDF with 1-gram\n",
    "\n",
    "X, y = tfidf(data_100, ngrams = 1)\n",
    "X_train, X_test, y_train, y_test = train_test_split(X, y, test_size=0.2, random_state=40)\n",
    "full_result = full_result.append(training_naive(X_train, X_test, y_train, y_test, 'TF-IDF 1-grams'), ignore_index = True)\n",
    "full_result = full_result.append(training_logreg(X_train, X_test, y_train, y_test, 'TF-IDF 1-grams'), ignore_index = True)\n",
    "full_result = full_result.append(training_lgbm(X_train, X_test, y_train, y_test, 'TF-IDF 1-grams'), ignore_index = True)\n",
    "\n",
    "# Testing TF-IDF with 2-gram\n",
    "\n",
    "X, y = tfidf(data_100, ngrams = 2)\n",
    "X_train, X_test, y_train, y_test = train_test_split(X, y, test_size=0.2, random_state=40)\n",
    "full_result = full_result.append(training_naive(X_train, X_test, y_train, y_test, 'TF-IDF 2-grams'), ignore_index = True)\n",
    "full_result = full_result.append(training_logreg(X_train, X_test, y_train, y_test, 'TF-IDF 2-grams'), ignore_index = True)\n",
    "full_result = full_result.append(training_lgbm(X_train, X_test, y_train, y_test, 'TF-IDF 2-grams'), ignore_index = True)\n",
    "\n",
    "# Testing Word2vec\n",
    "\n",
    "X, y = w2v(data_100)\n",
    "X_train, X_test, y_train, y_test = train_test_split(X, y, test_size=0.2, random_state=40)\n",
    "full_result = full_result.append(training_logreg(X_train, X_test, y_train, y_test, 'Word2vec'), ignore_index = True)\n",
    "\n",
    "full_result"
   ]
  },
  {
   "cell_type": "markdown",
   "metadata": {
    "hidden": true
   },
   "source": [
    "For basic setup all data preprocessing approaches work closely well. The the combination of the exact algorithm and preprocessing method make the difference. F1-score is the highest for Naive Bayes for 1-gram TF-IDF approach. But mostly the advantage is in high precision score. Recall is relatively low. The overall best approach seems to be Word2vec with LogisticRegression.\n",
    "\n",
    "We will confirm or reject this hypothesis in later calculations."
   ]
  },
  {
   "cell_type": "markdown",
   "metadata": {
    "heading_collapsed": true
   },
   "source": [
    "# 9. Best model result analysis"
   ]
  },
  {
   "cell_type": "markdown",
   "metadata": {
    "hidden": true
   },
   "source": [
    "The scores became remarkably higher. Let us take a look on confusion matrix for the best model"
   ]
  },
  {
   "cell_type": "code",
   "execution_count": 116,
   "metadata": {
    "hidden": true
   },
   "outputs": [],
   "source": [
    "# Re-setup the algorithm\n",
    "\n",
    "X, y = w2v(data_100)\n",
    "X_train_log, X_test_log, y_train_log, y_test_log = train_test_split(X, y, test_size=0.2, random_state=40)\n",
    "folds = StratifiedKFold(n_splits = 3, shuffle = True, random_state = 40)\n",
    "clf_w2v = LogisticRegressionCV(cv = folds, solver = 'saga', multi_class = 'multinomial', n_jobs = -1)\n",
    "clf_w2v.fit(X_train_log, y_train_log)\n",
    "y_pred = clf_w2v.predict(X_test_log)"
   ]
  },
  {
   "cell_type": "code",
   "execution_count": 59,
   "metadata": {
    "hidden": true
   },
   "outputs": [],
   "source": [
    "def plot_confusion_matrix(cm, classes,\n",
    "                          normalize=False,\n",
    "                          title='Confusion matrix',\n",
    "                          cmap=plt.cm.winter):\n",
    "    if normalize:\n",
    "        cm = cm.astype('float') / cm.sum(axis=1)[:, np.newaxis]\n",
    "    plt.imshow(cm, interpolation='nearest', cmap=cmap)\n",
    "    plt.title(title, fontsize=20)\n",
    "    plt.colorbar()\n",
    "    tick_marks = np.arange(len(classes))\n",
    "    plt.xticks(tick_marks, classes, fontsize=10, rotation = 90)\n",
    "    plt.yticks(tick_marks, classes, fontsize=10)\n",
    "    \n",
    "    fmt = '.2f' if normalize else 'd'\n",
    "    thresh = cm.max() / 2.\n",
    "\n",
    "    for i, j in itertools.product(range(cm.shape[0]), range(cm.shape[1])):\n",
    "        plt.text(j, i, format(cm[i, j], fmt), horizontalalignment=\"center\", \n",
    "                 color=\"white\" if cm[i, j] < thresh else \"black\", fontsize=12)\n",
    "    \n",
    "    plt.tight_layout()\n",
    "    plt.ylabel('True label', fontsize=20)\n",
    "    plt.xlabel('Predicted label', fontsize=20)\n",
    "\n",
    "    return plt"
   ]
  },
  {
   "cell_type": "code",
   "execution_count": 118,
   "metadata": {
    "hidden": true
   },
   "outputs": [
    {
     "data": {
      "image/png": "[encoded data removed]",
      "text/plain": [
       "<matplotlib.figure.Figure at 0x7f4607f64978>"
      ]
     },
     "metadata": {
      "needs_background": "light"
     },
     "output_type": "display_data"
    }
   ],
   "source": [
    "classes = [' Cardiovascular / Pulmonary', ' Consult - History and Phy.', ' Discharge Summary',\n",
    "           ' Gastroenterology', ' General Medicine', ' Neurology', ' Obstetrics / Gynecology',\n",
    "           ' Orthopedic', ' Radiology', ' SOAP / Chart / Progress Notes', ' Surgery', ' Urology']\n",
    "cm = confusion_matrix(y_test_log, y_pred)\n",
    "fig = plt.figure(figsize=(16, 16))\n",
    "plot = plot_confusion_matrix(cm, classes=classes, normalize=False, \n",
    "                             title='Confusion matrix')\n",
    "plt.show()"
   ]
  },
  {
   "cell_type": "markdown",
   "metadata": {
    "hidden": true
   },
   "source": [
    "Another way to see how the model works is to manually watch at the most valuable and the least valuable words for the class."
   ]
  },
  {
   "cell_type": "code",
   "execution_count": 89,
   "metadata": {
    "hidden": true
   },
   "outputs": [],
   "source": [
    "vector_store = word2vec\n",
    "def word2vec_pipeline(examples):\n",
    "    global vector_store\n",
    "    tokenizer = RegexpTokenizer(r'\\w+')\n",
    "    tokenized_list = []\n",
    "    for example in examples:\n",
    "        example_tokens = tokenizer.tokenize(example)\n",
    "        vectorized_example = get_average_word2vec(example_tokens, vector_store, generate_missing=False, k=300)\n",
    "        tokenized_list.append(vectorized_example)\n",
    "    return clf_w2v.predict_proba(tokenized_list)\n",
    "\n",
    "c = make_pipeline(CountVectorizer(), clf)\n",
    "\n",
    "random.seed(40)\n",
    "\n",
    "data_100_prep = basic_preprocessing(data_100)\n",
    "list_corpus = data_100_prep[\"text\"].tolist()\n",
    "list_labels = data_100_prep[\"class_label\"].tolist()\n",
    "\n",
    "X_train_data, X_test_data, y_train_data, y_test_data = train_test_split(list_corpus, list_labels, test_size=0.2, \n",
    "                                                                                random_state=40)\n",
    "\n",
    "def get_statistical_explanation(test_set, sample_size, word2vec_pipeline, label_dict):\n",
    "    sample_sentences = random.sample(test_set, sample_size)\n",
    "    explainer = LimeTextExplainer()\n",
    "    \n",
    "    labels_to_sentences = defaultdict(list)\n",
    "    contributors = defaultdict(dict)\n",
    "    \n",
    "    # First, find contributing words to each class\n",
    "    for sentence in sample_sentences:\n",
    "        probabilities = word2vec_pipeline([sentence])\n",
    "        curr_label = probabilities[0].argmax()\n",
    "        labels_to_sentences[curr_label].append(sentence)\n",
    "        exp = explainer.explain_instance(sentence, word2vec_pipeline, num_features=6, labels=[curr_label])\n",
    "        listed_explanation = exp.as_list(label=curr_label)\n",
    "        \n",
    "        for word,contributing_weight in listed_explanation:\n",
    "            if word in contributors[curr_label]:\n",
    "                contributors[curr_label][word].append(contributing_weight)\n",
    "            else:\n",
    "                contributors[curr_label][word] = [contributing_weight]    \n",
    "    \n",
    "    # average each word's contribution to a class, and sort them by impact\n",
    "    average_contributions = {}\n",
    "    sorted_contributions = {}\n",
    "    for label,lexica in contributors.items():\n",
    "        curr_label = label\n",
    "        curr_lexica = lexica\n",
    "        average_contributions[curr_label] = pd.Series(index=curr_lexica.keys())\n",
    "        for word,scores in curr_lexica.items():\n",
    "            average_contributions[curr_label].loc[word] = np.sum(np.array(scores))/sample_size\n",
    "        detractors = average_contributions[curr_label].sort_values()\n",
    "        supporters = average_contributions[curr_label].sort_values(ascending=False)\n",
    "        sorted_contributions[label_dict[curr_label]] = {\n",
    "            'detractors':detractors,\n",
    "             'supporters': supporters\n",
    "        }\n",
    "    return sorted_contributions\n",
    "\n",
    "label_to_text = {\n",
    "    0: ' Cardiovascular / Pulmonary',\n",
    "    1: ' Consult - History and Phy.',\n",
    "    2: ' Discharge Summary',\n",
    "    3: ' Gastroenterology',\n",
    "    4: ' General Medicine',\n",
    "    5: ' Neurology',\n",
    "    6: ' Obstetrics / Gynecology',\n",
    "    7: ' Orthopedic',\n",
    "    8: ' Radiology',\n",
    "    9: ' SOAP / Chart / Progress Notes',\n",
    "    10: ' Surgery',\n",
    "    11: ' Urology'\n",
    "}\n",
    "sorted_contributions = get_statistical_explanation(X_test_data, 100, word2vec_pipeline, label_to_text)"
   ]
  },
  {
   "cell_type": "code",
   "execution_count": 91,
   "metadata": {
    "hidden": true
   },
   "outputs": [
    {
     "data": {
      "image/png": "[encoded data removed]",
      "text/plain": [
       "<matplotlib.figure.Figure at 0x7f4607832cf8>"
      ]
     },
     "metadata": {
      "needs_background": "light"
     },
     "output_type": "display_data"
    }
   ],
   "source": [
    "def plot_important_words(top_scores, top_words, bottom_scores, bottom_words, name):\n",
    "    y_pos = np.arange(len(top_words))\n",
    "    top_pairs = [(a,b) for a,b in zip(top_words, top_scores)]\n",
    "    top_pairs = sorted(top_pairs, key=lambda x: x[1])\n",
    "    \n",
    "    bottom_pairs = [(a,b) for a,b in zip(bottom_words, bottom_scores)]\n",
    "    bottom_pairs = sorted(bottom_pairs, key=lambda x: x[1], reverse=True)\n",
    "    \n",
    "    top_words = [a[0] for a in top_pairs]\n",
    "    top_scores = [a[1] for a in top_pairs]\n",
    "    \n",
    "    bottom_words = [a[0] for a in bottom_pairs]\n",
    "    bottom_scores = [a[1] for a in bottom_pairs]\n",
    "    \n",
    "    fig = plt.figure(figsize=(10, 10))  \n",
    "\n",
    "    plt.subplot(121)\n",
    "    plt.barh(y_pos,bottom_scores, align='center', alpha=0.5)\n",
    "    plt.title('Irrelevant', fontsize=14)\n",
    "    plt.yticks(y_pos, bottom_words, fontsize=10)\n",
    "    plt.suptitle('Key words', fontsize=12)\n",
    "    plt.xlabel('Importance', fontsize=12)\n",
    "    \n",
    "    plt.subplot(122)\n",
    "    plt.barh(y_pos,top_scores, align='center', alpha=0.5)\n",
    "    plt.title(\"Relevant for \" + name, fontsize=14)\n",
    "    plt.yticks(y_pos, top_words, fontsize=12)\n",
    "    plt.suptitle(f\"Most important words for {name}\", fontsize=16)\n",
    "    plt.xlabel('Importance', fontsize=12)\n",
    "    \n",
    "    plt.subplots_adjust(wspace=0.8)\n",
    "    plt.show()\n",
    "\n",
    "test_label = ' Neurology'\n",
    "top_words = sorted_contributions[test_label]['supporters'][:5].index.tolist()\n",
    "top_scores = sorted_contributions[test_label]['supporters'][:5].tolist()\n",
    "bottom_words = sorted_contributions[test_label]['detractors'][:5].index.tolist()\n",
    "bottom_scores = sorted_contributions[test_label]['detractors'][:5].tolist()\n",
    "\n",
    "plot_important_words(top_scores, top_words, bottom_scores, bottom_words, test_label)"
   ]
  },
  {
   "cell_type": "code",
   "execution_count": 92,
   "metadata": {
    "hidden": true
   },
   "outputs": [
    {
     "data": {
      "image/png": "[encoded data removed]",
      "text/plain": [
       "<matplotlib.figure.Figure at 0x7f46068fef28>"
      ]
     },
     "metadata": {
      "needs_background": "light"
     },
     "output_type": "display_data"
    }
   ],
   "source": [
    "test_label = ' Cardiovascular / Pulmonary'\n",
    "top_words = sorted_contributions[test_label]['supporters'][:5].index.tolist()\n",
    "top_scores = sorted_contributions[test_label]['supporters'][:5].tolist()\n",
    "bottom_words = sorted_contributions[test_label]['detractors'][:5].index.tolist()\n",
    "bottom_scores = sorted_contributions[test_label]['detractors'][:5].tolist()\n",
    "\n",
    "plot_important_words(top_scores, top_words, bottom_scores, bottom_words, test_label)"
   ]
  },
  {
   "cell_type": "markdown",
   "metadata": {
    "hidden": true
   },
   "source": [
    "The words influence on relevancy seems to be truthful. Which can mean that we are going in the right direction.\n",
    "\n",
    "Let us continue with fixing the class imbalance."
   ]
  },
  {
   "cell_type": "markdown",
   "metadata": {
    "heading_collapsed": true
   },
   "source": [
    "# 10. Retrieving sample unbalance problem"
   ]
  },
  {
   "cell_type": "markdown",
   "metadata": {
    "hidden": true
   },
   "source": [
    "We can see that classes imbalance still prevents us from getting a better result.\n",
    "\n",
    "There are several ways to fight imbalance:\n",
    "\n",
    "1. Undersampling\n",
    "2. Oversampling\n",
    "3. Use classifiers with class-weight adjustments\n",
    "\n",
    "The last one we already did with logistic regression.\n",
    "\n",
    "Undersampling is cutting off some observations of the major classes to make them more comparable in count with the minor ones. Due to the amount of data we have, such approach might not be profitable, as we make the amount of data even smaller, which might affect model quality. But still we can try.\n",
    "Simple random drop of some observations share based on the assumption that dropping some samples will not affect he distribution. Randomness of the samples pick and small amount of data doesn't ensure it. So we need to apply more complex methods.\n",
    "\n",
    "Oversampling, counterwise to undersampling, is adding more copies of observations from minor classes to straighted classes distribution. As we are working with text data, doubling some samples will probably lead to overfitting on these samples. So, just like in the case of undersampling we will need more complex approach."
   ]
  },
  {
   "cell_type": "markdown",
   "metadata": {
    "heading_collapsed": true,
    "hidden": true
   },
   "source": [
    "## 10.1. Undersampling. Naive approach"
   ]
  },
  {
   "cell_type": "markdown",
   "metadata": {
    "hidden": true
   },
   "source": [
    "First we check how many observation the undersampling algorithm cuts off"
   ]
  },
  {
   "cell_type": "code",
   "execution_count": 51,
   "metadata": {
    "hidden": true
   },
   "outputs": [
    {
     "name": "stdout",
     "output_type": "stream",
     "text": [
      "Initial set observations 3894\n",
      "Initial set target classes 12\n",
      "Modified set observations 2914\n",
      "Modified set target classes 12\n"
     ]
    }
   ],
   "source": [
    "naive_under_sample = RandomUnderSampler(sampling_strategy = 'majority')\n",
    "X, y = BOW(data_100)\n",
    "print(f\"Initial set observations {X.shape[0]}\")\n",
    "print(f\"Initial set target classes {len(set(y))}\")\n",
    "X, y = naive_under_sample.fit_resample(X, y)\n",
    "print(f\"Modified set observations {X.shape[0]}\")\n",
    "print(f\"Modified set target classes {len(set(y))}\")"
   ]
  },
  {
   "cell_type": "code",
   "execution_count": 40,
   "metadata": {
    "hidden": true
   },
   "outputs": [],
   "source": [
    "# DataFrame for result evaluation\n",
    "\n",
    "naive_result = pd.DataFrame(columns = ['Preprocessing', 'Model', 'Precision', 'Recall', 'F1-score', 'Accuracy'])\n",
    "\n",
    "naive_under_sample = RandomUnderSampler(sampling_strategy = 'majority')\n",
    "\n",
    "# Testing Count Vectorizer\n",
    "\n",
    "X, y = BOW(data_100)\n",
    "X, y = naive_under_sample.fit_resample(X, y)\n",
    "X_train, X_test, y_train, y_test = train_test_split(X, y, test_size=0.2, random_state=40)\n",
    "naive_result = naive_result.append(training_naive(X_train, X_test, y_train, y_test, 'Count Vectorize'), ignore_index = True)\n",
    "naive_result = naive_result.append(training_logreg(X_train, X_test, y_train, y_test, 'Count Vectorize'), ignore_index = True)\n",
    "naive_result = naive_result.append(training_lgbm(X_train, X_test, y_train, y_test, 'Count Vectorize'), ignore_index = True)\n",
    "\n",
    "# Testing TF-IDF with 1-gram\n",
    "\n",
    "X, y = tfidf(data_100, ngrams = 1)\n",
    "X, y = naive_under_sample.fit_resample(X, y)\n",
    "X_train, X_test, y_train, y_test = train_test_split(X, y, test_size=0.2, random_state=40)\n",
    "naive_result = naive_result.append(training_naive(X_train, X_test, y_train, y_test, 'TF-IDF 1-grams'), ignore_index = True)\n",
    "naive_result = naive_result.append(training_logreg(X_train, X_test, y_train, y_test, 'TF-IDF 1-grams'), ignore_index = True)\n",
    "naive_result = naive_result.append(training_lgbm(X_train, X_test, y_train, y_test, 'TF-IDF 1-grams'), ignore_index = True)\n",
    "\n",
    "# Testing Word2vec\n",
    "\n",
    "X, y = w2v(data_100)\n",
    "X, y = naive_under_sample.fit_resample(X, y)\n",
    "X_train, X_test, y_train, y_test = train_test_split(X, y, test_size=0.2, random_state=40)\n",
    "naive_result = naive_result.append(training_logreg(X_train, X_test, y_train, y_test, 'Word2vec'), ignore_index = True)"
   ]
  },
  {
   "cell_type": "code",
   "execution_count": 41,
   "metadata": {
    "hidden": true
   },
   "outputs": [
    {
     "data": {
      "text/html": [
       "<div>\n",
       "<style scoped>\n",
       "    .dataframe tbody tr th:only-of-type {\n",
       "        vertical-align: middle;\n",
       "    }\n",
       "\n",
       "    .dataframe tbody tr th {\n",
       "        vertical-align: top;\n",
       "    }\n",
       "\n",
       "    .dataframe thead th {\n",
       "        text-align: right;\n",
       "    }\n",
       "</style>\n",
       "<table border=\"1\" class=\"dataframe\">\n",
       "  <thead>\n",
       "    <tr style=\"text-align: right;\">\n",
       "      <th></th>\n",
       "      <th>Preprocessing</th>\n",
       "      <th>Model</th>\n",
       "      <th>Precision</th>\n",
       "      <th>Recall</th>\n",
       "      <th>F1-score</th>\n",
       "      <th>Accuracy</th>\n",
       "    </tr>\n",
       "  </thead>\n",
       "  <tbody>\n",
       "    <tr>\n",
       "      <th>0</th>\n",
       "      <td>Count Vectorize</td>\n",
       "      <td>Naive Bayes</td>\n",
       "      <td>0.534441</td>\n",
       "      <td>0.437393</td>\n",
       "      <td>0.471162</td>\n",
       "      <td>0.437393</td>\n",
       "    </tr>\n",
       "    <tr>\n",
       "      <th>1</th>\n",
       "      <td>Count Vectorize</td>\n",
       "      <td>Logistic Regression</td>\n",
       "      <td>0.586070</td>\n",
       "      <td>0.487136</td>\n",
       "      <td>0.516983</td>\n",
       "      <td>0.487136</td>\n",
       "    </tr>\n",
       "    <tr>\n",
       "      <th>2</th>\n",
       "      <td>Count Vectorize</td>\n",
       "      <td>LightGBM</td>\n",
       "      <td>0.508420</td>\n",
       "      <td>0.461407</td>\n",
       "      <td>0.475182</td>\n",
       "      <td>0.461407</td>\n",
       "    </tr>\n",
       "    <tr>\n",
       "      <th>3</th>\n",
       "      <td>TF-IDF 1-grams</td>\n",
       "      <td>Naive Bayes</td>\n",
       "      <td>0.805056</td>\n",
       "      <td>0.413379</td>\n",
       "      <td>0.499054</td>\n",
       "      <td>0.413379</td>\n",
       "    </tr>\n",
       "    <tr>\n",
       "      <th>4</th>\n",
       "      <td>TF-IDF 1-grams</td>\n",
       "      <td>Logistic Regression</td>\n",
       "      <td>0.702761</td>\n",
       "      <td>0.488851</td>\n",
       "      <td>0.551929</td>\n",
       "      <td>0.488851</td>\n",
       "    </tr>\n",
       "    <tr>\n",
       "      <th>5</th>\n",
       "      <td>TF-IDF 1-grams</td>\n",
       "      <td>LightGBM</td>\n",
       "      <td>0.503035</td>\n",
       "      <td>0.456261</td>\n",
       "      <td>0.467234</td>\n",
       "      <td>0.456261</td>\n",
       "    </tr>\n",
       "    <tr>\n",
       "      <th>6</th>\n",
       "      <td>Word2vec</td>\n",
       "      <td>Logistic Regression</td>\n",
       "      <td>0.543693</td>\n",
       "      <td>0.506003</td>\n",
       "      <td>0.516151</td>\n",
       "      <td>0.506003</td>\n",
       "    </tr>\n",
       "  </tbody>\n",
       "</table>\n",
       "</div>"
      ],
      "text/plain": [
       "     Preprocessing                Model  Precision    Recall  F1-score  \\\n",
       "0  Count Vectorize          Naive Bayes   0.534441  0.437393  0.471162   \n",
       "1  Count Vectorize  Logistic Regression   0.586070  0.487136  0.516983   \n",
       "2  Count Vectorize             LightGBM   0.508420  0.461407  0.475182   \n",
       "3   TF-IDF 1-grams          Naive Bayes   0.805056  0.413379  0.499054   \n",
       "4   TF-IDF 1-grams  Logistic Regression   0.702761  0.488851  0.551929   \n",
       "5   TF-IDF 1-grams             LightGBM   0.503035  0.456261  0.467234   \n",
       "6         Word2vec  Logistic Regression   0.543693  0.506003  0.516151   \n",
       "\n",
       "   Accuracy  \n",
       "0  0.437393  \n",
       "1  0.487136  \n",
       "2  0.461407  \n",
       "3  0.413379  \n",
       "4  0.488851  \n",
       "5  0.456261  \n",
       "6  0.506003  "
      ]
     },
     "execution_count": 41,
     "metadata": {},
     "output_type": "execute_result"
    }
   ],
   "source": [
    "naive_result"
   ]
  },
  {
   "cell_type": "markdown",
   "metadata": {
    "hidden": true
   },
   "source": [
    "One can see, that naive approach didn't make any significant gain in metrics. Recall became better in overall, but precision dropped. F1-score therefore slightly decreased.\n",
    "\n",
    "As an alternative we will try NearMiss method."
   ]
  },
  {
   "cell_type": "markdown",
   "metadata": {
    "heading_collapsed": true,
    "hidden": true
   },
   "source": [
    "## 10.2. Undersampling. NearMiss"
   ]
  },
  {
   "cell_type": "markdown",
   "metadata": {
    "hidden": true
   },
   "source": [
    "How many observation the undersampling algorithm cuts off."
   ]
  },
  {
   "cell_type": "code",
   "execution_count": 48,
   "metadata": {
    "hidden": true
   },
   "outputs": [
    {
     "name": "stdout",
     "output_type": "stream",
     "text": [
      "Initial set observations 3894\n",
      "Initial set target classes 12\n",
      "Modified set observations 2914\n",
      "Modified set target classes 12\n"
     ]
    }
   ],
   "source": [
    "near_under_sample = NearMiss(sampling_strategy='majority')\n",
    "X, y = BOW(data_100)\n",
    "print(f\"Initial set observations {X.shape[0]}\")\n",
    "print(f\"Initial set target classes {len(set(y))}\")\n",
    "X, y = near_under_sample.fit_resample(X, y)\n",
    "print(f\"Modified set observations {X.shape[0]}\")\n",
    "print(f\"Modified set target classes {len(set(y))}\")"
   ]
  },
  {
   "cell_type": "code",
   "execution_count": 42,
   "metadata": {
    "hidden": true
   },
   "outputs": [],
   "source": [
    "# DataFrame for result evaluation\n",
    "\n",
    "near_result = pd.DataFrame(columns = ['Preprocessing', 'Model', 'Precision', 'Recall', 'F1-score', 'Accuracy'])\n",
    "\n",
    "near_under_sample = NearMiss(sampling_strategy='majority')\n",
    "\n",
    "# Testing Count Vectorizer\n",
    "\n",
    "X, y = BOW(data_100)\n",
    "X, y = near_under_sample.fit_resample(X, y)\n",
    "X_train, X_test, y_train, y_test = train_test_split(X, y, test_size=0.2, random_state=40)\n",
    "near_result = near_result.append(training_naive(X_train, X_test, y_train, y_test, 'Count Vectorize'), ignore_index = True)\n",
    "near_result = near_result.append(training_logreg(X_train, X_test, y_train, y_test, 'Count Vectorize'), ignore_index = True)\n",
    "near_result = near_result.append(training_lgbm(X_train, X_test, y_train, y_test, 'Count Vectorize'), ignore_index = True)\n",
    "\n",
    "# Testing TF-IDF with 1-gram\n",
    "\n",
    "X, y = tfidf(data_100, ngrams = 1)\n",
    "X, y = near_under_sample.fit_resample(X, y)\n",
    "X_train, X_test, y_train, y_test = train_test_split(X, y, test_size=0.2, random_state=40)\n",
    "near_result = near_result.append(training_naive(X_train, X_test, y_train, y_test, 'TF-IDF 1-grams'), ignore_index = True)\n",
    "near_result = near_result.append(training_logreg(X_train, X_test, y_train, y_test, 'TF-IDF 1-grams'), ignore_index = True)\n",
    "near_result = near_result.append(training_lgbm(X_train, X_test, y_train, y_test, 'TF-IDF 1-grams'), ignore_index = True)\n",
    "\n",
    "# Testing Word2vec\n",
    "\n",
    "X, y = w2v(data_100)\n",
    "X, y = near_under_sample.fit_resample(X, y)\n",
    "X_train, X_test, y_train, y_test = train_test_split(X, y, test_size=0.2, random_state=40)\n",
    "near_result = near_result.append(training_logreg(X_train, X_test, y_train, y_test, 'Word2vec'), ignore_index = True)"
   ]
  },
  {
   "cell_type": "code",
   "execution_count": 43,
   "metadata": {
    "hidden": true
   },
   "outputs": [
    {
     "data": {
      "text/html": [
       "<div>\n",
       "<style scoped>\n",
       "    .dataframe tbody tr th:only-of-type {\n",
       "        vertical-align: middle;\n",
       "    }\n",
       "\n",
       "    .dataframe tbody tr th {\n",
       "        vertical-align: top;\n",
       "    }\n",
       "\n",
       "    .dataframe thead th {\n",
       "        text-align: right;\n",
       "    }\n",
       "</style>\n",
       "<table border=\"1\" class=\"dataframe\">\n",
       "  <thead>\n",
       "    <tr style=\"text-align: right;\">\n",
       "      <th></th>\n",
       "      <th>Preprocessing</th>\n",
       "      <th>Model</th>\n",
       "      <th>Precision</th>\n",
       "      <th>Recall</th>\n",
       "      <th>F1-score</th>\n",
       "      <th>Accuracy</th>\n",
       "    </tr>\n",
       "  </thead>\n",
       "  <tbody>\n",
       "    <tr>\n",
       "      <th>0</th>\n",
       "      <td>Count Vectorize</td>\n",
       "      <td>Naive Bayes</td>\n",
       "      <td>0.536286</td>\n",
       "      <td>0.437393</td>\n",
       "      <td>0.471270</td>\n",
       "      <td>0.437393</td>\n",
       "    </tr>\n",
       "    <tr>\n",
       "      <th>1</th>\n",
       "      <td>Count Vectorize</td>\n",
       "      <td>Logistic Regression</td>\n",
       "      <td>0.593574</td>\n",
       "      <td>0.488851</td>\n",
       "      <td>0.521999</td>\n",
       "      <td>0.488851</td>\n",
       "    </tr>\n",
       "    <tr>\n",
       "      <th>2</th>\n",
       "      <td>Count Vectorize</td>\n",
       "      <td>LightGBM</td>\n",
       "      <td>0.510766</td>\n",
       "      <td>0.468268</td>\n",
       "      <td>0.479366</td>\n",
       "      <td>0.468268</td>\n",
       "    </tr>\n",
       "    <tr>\n",
       "      <th>3</th>\n",
       "      <td>TF-IDF 1-grams</td>\n",
       "      <td>Naive Bayes</td>\n",
       "      <td>0.796013</td>\n",
       "      <td>0.413379</td>\n",
       "      <td>0.499468</td>\n",
       "      <td>0.413379</td>\n",
       "    </tr>\n",
       "    <tr>\n",
       "      <th>4</th>\n",
       "      <td>TF-IDF 1-grams</td>\n",
       "      <td>Logistic Regression</td>\n",
       "      <td>0.698165</td>\n",
       "      <td>0.488851</td>\n",
       "      <td>0.551167</td>\n",
       "      <td>0.488851</td>\n",
       "    </tr>\n",
       "    <tr>\n",
       "      <th>5</th>\n",
       "      <td>TF-IDF 1-grams</td>\n",
       "      <td>LightGBM</td>\n",
       "      <td>0.518428</td>\n",
       "      <td>0.452830</td>\n",
       "      <td>0.473713</td>\n",
       "      <td>0.452830</td>\n",
       "    </tr>\n",
       "    <tr>\n",
       "      <th>6</th>\n",
       "      <td>Word2vec</td>\n",
       "      <td>Logistic Regression</td>\n",
       "      <td>0.546897</td>\n",
       "      <td>0.502573</td>\n",
       "      <td>0.516378</td>\n",
       "      <td>0.502573</td>\n",
       "    </tr>\n",
       "  </tbody>\n",
       "</table>\n",
       "</div>"
      ],
      "text/plain": [
       "     Preprocessing                Model  Precision    Recall  F1-score  \\\n",
       "0  Count Vectorize          Naive Bayes   0.536286  0.437393  0.471270   \n",
       "1  Count Vectorize  Logistic Regression   0.593574  0.488851  0.521999   \n",
       "2  Count Vectorize             LightGBM   0.510766  0.468268  0.479366   \n",
       "3   TF-IDF 1-grams          Naive Bayes   0.796013  0.413379  0.499468   \n",
       "4   TF-IDF 1-grams  Logistic Regression   0.698165  0.488851  0.551167   \n",
       "5   TF-IDF 1-grams             LightGBM   0.518428  0.452830  0.473713   \n",
       "6         Word2vec  Logistic Regression   0.546897  0.502573  0.516378   \n",
       "\n",
       "   Accuracy  \n",
       "0  0.437393  \n",
       "1  0.488851  \n",
       "2  0.468268  \n",
       "3  0.413379  \n",
       "4  0.488851  \n",
       "5  0.452830  \n",
       "6  0.502573  "
      ]
     },
     "execution_count": 43,
     "metadata": {},
     "output_type": "execute_result"
    }
   ],
   "source": [
    "near_result"
   ]
  },
  {
   "cell_type": "markdown",
   "metadata": {
    "hidden": true
   },
   "source": [
    "NearMiss method gave almost the same result as naive approach. Which may treat like naive random undersampling have basically preserved the orginal distribution."
   ]
  },
  {
   "cell_type": "markdown",
   "metadata": {
    "heading_collapsed": true,
    "hidden": true
   },
   "source": [
    "## 10.3. Oversampling. SMOTE"
   ]
  },
  {
   "cell_type": "markdown",
   "metadata": {
    "hidden": true
   },
   "source": [
    "For oversampling algorithm check how many observation the algorithm generates."
   ]
  },
  {
   "cell_type": "code",
   "execution_count": 52,
   "metadata": {
    "hidden": true
   },
   "outputs": [
    {
     "name": "stdout",
     "output_type": "stream",
     "text": [
      "Initial set observations 3894\n",
      "Initial set target classes 12\n",
      "Modified set observations 4874\n",
      "Modified set target classes 12\n"
     ]
    }
   ],
   "source": [
    "smote_over_sample = SMOTE(sampling_strategy='minority')\n",
    "X, y = BOW(data_100)\n",
    "print(f\"Initial set observations {X.shape[0]}\")\n",
    "print(f\"Initial set target classes {len(set(y))}\")\n",
    "X, y = smote_over_sample.fit_resample(X, y)\n",
    "print(f\"Modified set observations {X.shape[0]}\")\n",
    "print(f\"Modified set target classes {len(set(y))}\")"
   ]
  },
  {
   "cell_type": "code",
   "execution_count": 45,
   "metadata": {
    "hidden": true
   },
   "outputs": [],
   "source": [
    "# DataFrame for result evaluation\n",
    "\n",
    "smote_result = pd.DataFrame(columns = ['Preprocessing', 'Model', 'Precision', 'Recall', 'F1-score', 'Accuracy'])\n",
    "\n",
    "smote_over_sample = SMOTE(sampling_strategy='minority')\n",
    "\n",
    "# Testing Count Vectorizer\n",
    "\n",
    "X, y = BOW(data_100)\n",
    "X, y = smote_over_sample.fit_resample(X, y)\n",
    "X_train, X_test, y_train, y_test = train_test_split(X, y, test_size=0.2, random_state=40)\n",
    "smote_result = smote_result.append(training_naive(X_train, X_test, y_train, y_test, 'Count Vectorize'), ignore_index = True)\n",
    "smote_result = smote_result.append(training_logreg(X_train, X_test, y_train, y_test, 'Count Vectorize'), ignore_index = True)\n",
    "smote_result = smote_result.append(training_lgbm(X_train, X_test, y_train, y_test, 'Count Vectorize'), ignore_index = True)\n",
    "\n",
    "# Testing TF-IDF with 1-gram\n",
    "\n",
    "X, y = tfidf(data_100, ngrams = 1)\n",
    "X, y = smote_over_sample.fit_resample(X, y)\n",
    "X_train, X_test, y_train, y_test = train_test_split(X, y, test_size=0.2, random_state=40)\n",
    "smote_result = smote_result.append(training_naive(X_train, X_test, y_train, y_test, 'TF-IDF 1-grams'), ignore_index = True)\n",
    "smote_result = smote_result.append(training_logreg(X_train, X_test, y_train, y_test, 'TF-IDF 1-grams'), ignore_index = True)\n",
    "smote_result = smote_result.append(training_lgbm(X_train, X_test, y_train, y_test, 'TF-IDF 1-grams'), ignore_index = True)\n",
    "\n",
    "# Testing Word2vec\n",
    "\n",
    "X, y = w2v(data_100)\n",
    "X, y = smote_over_sample.fit_resample(X, y)\n",
    "X_train, X_test, y_train, y_test = train_test_split(X, y, test_size=0.2, random_state=40)\n",
    "smote_result = smote_result.append(training_logreg(X_train, X_test, y_train, y_test, 'Word2vec'), ignore_index = True)"
   ]
  },
  {
   "cell_type": "code",
   "execution_count": 46,
   "metadata": {
    "hidden": true
   },
   "outputs": [
    {
     "data": {
      "text/html": [
       "<div>\n",
       "<style scoped>\n",
       "    .dataframe tbody tr th:only-of-type {\n",
       "        vertical-align: middle;\n",
       "    }\n",
       "\n",
       "    .dataframe tbody tr th {\n",
       "        vertical-align: top;\n",
       "    }\n",
       "\n",
       "    .dataframe thead th {\n",
       "        text-align: right;\n",
       "    }\n",
       "</style>\n",
       "<table border=\"1\" class=\"dataframe\">\n",
       "  <thead>\n",
       "    <tr style=\"text-align: right;\">\n",
       "      <th></th>\n",
       "      <th>Preprocessing</th>\n",
       "      <th>Model</th>\n",
       "      <th>Precision</th>\n",
       "      <th>Recall</th>\n",
       "      <th>F1-score</th>\n",
       "      <th>Accuracy</th>\n",
       "    </tr>\n",
       "  </thead>\n",
       "  <tbody>\n",
       "    <tr>\n",
       "      <th>0</th>\n",
       "      <td>Count Vectorize</td>\n",
       "      <td>Naive Bayes</td>\n",
       "      <td>0.595022</td>\n",
       "      <td>0.512821</td>\n",
       "      <td>0.538558</td>\n",
       "      <td>0.512821</td>\n",
       "    </tr>\n",
       "    <tr>\n",
       "      <th>1</th>\n",
       "      <td>Count Vectorize</td>\n",
       "      <td>Logistic Regression</td>\n",
       "      <td>0.736174</td>\n",
       "      <td>0.548718</td>\n",
       "      <td>0.615765</td>\n",
       "      <td>0.548718</td>\n",
       "    </tr>\n",
       "    <tr>\n",
       "      <th>2</th>\n",
       "      <td>Count Vectorize</td>\n",
       "      <td>LightGBM</td>\n",
       "      <td>0.671271</td>\n",
       "      <td>0.508718</td>\n",
       "      <td>0.571508</td>\n",
       "      <td>0.508718</td>\n",
       "    </tr>\n",
       "    <tr>\n",
       "      <th>3</th>\n",
       "      <td>TF-IDF 1-grams</td>\n",
       "      <td>Naive Bayes</td>\n",
       "      <td>0.935997</td>\n",
       "      <td>0.466667</td>\n",
       "      <td>0.610733</td>\n",
       "      <td>0.466667</td>\n",
       "    </tr>\n",
       "    <tr>\n",
       "      <th>4</th>\n",
       "      <td>TF-IDF 1-grams</td>\n",
       "      <td>Logistic Regression</td>\n",
       "      <td>0.842075</td>\n",
       "      <td>0.558974</td>\n",
       "      <td>0.656443</td>\n",
       "      <td>0.558974</td>\n",
       "    </tr>\n",
       "    <tr>\n",
       "      <th>5</th>\n",
       "      <td>TF-IDF 1-grams</td>\n",
       "      <td>LightGBM</td>\n",
       "      <td>0.667352</td>\n",
       "      <td>0.523077</td>\n",
       "      <td>0.576088</td>\n",
       "      <td>0.523077</td>\n",
       "    </tr>\n",
       "    <tr>\n",
       "      <th>6</th>\n",
       "      <td>Word2vec</td>\n",
       "      <td>Logistic Regression</td>\n",
       "      <td>0.705045</td>\n",
       "      <td>0.565128</td>\n",
       "      <td>0.616144</td>\n",
       "      <td>0.565128</td>\n",
       "    </tr>\n",
       "  </tbody>\n",
       "</table>\n",
       "</div>"
      ],
      "text/plain": [
       "     Preprocessing                Model  Precision    Recall  F1-score  \\\n",
       "0  Count Vectorize          Naive Bayes   0.595022  0.512821  0.538558   \n",
       "1  Count Vectorize  Logistic Regression   0.736174  0.548718  0.615765   \n",
       "2  Count Vectorize             LightGBM   0.671271  0.508718  0.571508   \n",
       "3   TF-IDF 1-grams          Naive Bayes   0.935997  0.466667  0.610733   \n",
       "4   TF-IDF 1-grams  Logistic Regression   0.842075  0.558974  0.656443   \n",
       "5   TF-IDF 1-grams             LightGBM   0.667352  0.523077  0.576088   \n",
       "6         Word2vec  Logistic Regression   0.705045  0.565128  0.616144   \n",
       "\n",
       "   Accuracy  \n",
       "0  0.512821  \n",
       "1  0.548718  \n",
       "2  0.508718  \n",
       "3  0.466667  \n",
       "4  0.558974  \n",
       "5  0.523077  \n",
       "6  0.565128  "
      ]
     },
     "execution_count": 46,
     "metadata": {},
     "output_type": "execute_result"
    }
   ],
   "source": [
    "smote_result"
   ]
  },
  {
   "cell_type": "markdown",
   "metadata": {
    "hidden": true
   },
   "source": [
    "SMOTE generated oversampling procedure gave a huge leap in quality. More importantly - the quality have got gain in every direction, including both precision and recall."
   ]
  },
  {
   "cell_type": "markdown",
   "metadata": {
    "heading_collapsed": true,
    "hidden": true
   },
   "source": [
    "## 10.4. Oversampling. ADASYN"
   ]
  },
  {
   "cell_type": "markdown",
   "metadata": {
    "hidden": true
   },
   "source": [
    "For oversampling algorithm check how many observation the algorithm generates."
   ]
  },
  {
   "cell_type": "code",
   "execution_count": 53,
   "metadata": {
    "hidden": true
   },
   "outputs": [
    {
     "name": "stdout",
     "output_type": "stream",
     "text": [
      "Initial set observations 3894\n",
      "Initial set target classes 12\n",
      "Modified set observations 4869\n",
      "Modified set target classes 12\n"
     ]
    }
   ],
   "source": [
    "adasyn_over_sample = ADASYN(sampling_strategy='minority')\n",
    "X, y = BOW(data_100)\n",
    "print(f\"Initial set observations {X.shape[0]}\")\n",
    "print(f\"Initial set target classes {len(set(y))}\")\n",
    "X, y = adasyn_over_sample.fit_resample(X, y)\n",
    "print(f\"Modified set observations {X.shape[0]}\")\n",
    "print(f\"Modified set target classes {len(set(y))}\")"
   ]
  },
  {
   "cell_type": "code",
   "execution_count": 49,
   "metadata": {
    "hidden": true
   },
   "outputs": [],
   "source": [
    "# DataFrame for result evaluation\n",
    "\n",
    "adasyn_result = pd.DataFrame(columns = ['Preprocessing', 'Model', 'Precision', 'Recall', 'F1-score', 'Accuracy'])\n",
    "\n",
    "adasyn_over_sample = ADASYN(sampling_strategy='minority')\n",
    "\n",
    "# Testing Count Vectorizer\n",
    "\n",
    "X, y = BOW(data_100)\n",
    "X, y = adasyn_over_sample.fit_resample(X, y)\n",
    "X_train, X_test, y_train, y_test = train_test_split(X, y, test_size=0.2, random_state=40)\n",
    "adasyn_result = adasyn_result.append(training_naive(X_train, X_test, y_train, y_test, 'Count Vectorize'), ignore_index = True)\n",
    "adasyn_result = adasyn_result.append(training_logreg(X_train, X_test, y_train, y_test, 'Count Vectorize'), ignore_index = True)\n",
    "adasyn_result = adasyn_result.append(training_lgbm(X_train, X_test, y_train, y_test, 'Count Vectorize'), ignore_index = True)\n",
    "\n",
    "# Testing TF-IDF with 1-gram\n",
    "\n",
    "X, y = tfidf(data_100, ngrams = 1)\n",
    "X, y = adasyn_over_sample.fit_resample(X, y)\n",
    "X_train, X_test, y_train, y_test = train_test_split(X, y, test_size=0.2, random_state=40)\n",
    "adasyn_result = adasyn_result.append(training_naive(X_train, X_test, y_train, y_test, 'TF-IDF 1-grams'), ignore_index = True)\n",
    "adasyn_result = adasyn_result.append(training_logreg(X_train, X_test, y_train, y_test, 'TF-IDF 1-grams'), ignore_index = True)\n",
    "adasyn_result = adasyn_result.append(training_lgbm(X_train, X_test, y_train, y_test, 'TF-IDF 1-grams'), ignore_index = True)\n",
    "\n",
    "# Testing Word2vec\n",
    "\n",
    "X, y = w2v(data_100)\n",
    "X, y = adasyn_over_sample.fit_resample(X, y)\n",
    "X_train, X_test, y_train, y_test = train_test_split(X, y, test_size=0.2, random_state=40)\n",
    "adasyn_result = adasyn_result.append(training_logreg(X_train, X_test, y_train, y_test, 'Word2vec'), ignore_index = True)"
   ]
  },
  {
   "cell_type": "code",
   "execution_count": 50,
   "metadata": {
    "hidden": true
   },
   "outputs": [
    {
     "data": {
      "text/html": [
       "<div>\n",
       "<style scoped>\n",
       "    .dataframe tbody tr th:only-of-type {\n",
       "        vertical-align: middle;\n",
       "    }\n",
       "\n",
       "    .dataframe tbody tr th {\n",
       "        vertical-align: top;\n",
       "    }\n",
       "\n",
       "    .dataframe thead th {\n",
       "        text-align: right;\n",
       "    }\n",
       "</style>\n",
       "<table border=\"1\" class=\"dataframe\">\n",
       "  <thead>\n",
       "    <tr style=\"text-align: right;\">\n",
       "      <th></th>\n",
       "      <th>Preprocessing</th>\n",
       "      <th>Model</th>\n",
       "      <th>Precision</th>\n",
       "      <th>Recall</th>\n",
       "      <th>F1-score</th>\n",
       "      <th>Accuracy</th>\n",
       "    </tr>\n",
       "  </thead>\n",
       "  <tbody>\n",
       "    <tr>\n",
       "      <th>0</th>\n",
       "      <td>Count Vectorize</td>\n",
       "      <td>Naive Bayes</td>\n",
       "      <td>0.578856</td>\n",
       "      <td>0.514374</td>\n",
       "      <td>0.536618</td>\n",
       "      <td>0.514374</td>\n",
       "    </tr>\n",
       "    <tr>\n",
       "      <th>1</th>\n",
       "      <td>Count Vectorize</td>\n",
       "      <td>Logistic Regression</td>\n",
       "      <td>0.722420</td>\n",
       "      <td>0.552361</td>\n",
       "      <td>0.614435</td>\n",
       "      <td>0.552361</td>\n",
       "    </tr>\n",
       "    <tr>\n",
       "      <th>2</th>\n",
       "      <td>Count Vectorize</td>\n",
       "      <td>LightGBM</td>\n",
       "      <td>0.663481</td>\n",
       "      <td>0.513347</td>\n",
       "      <td>0.570820</td>\n",
       "      <td>0.513347</td>\n",
       "    </tr>\n",
       "    <tr>\n",
       "      <th>3</th>\n",
       "      <td>TF-IDF 1-grams</td>\n",
       "      <td>Naive Bayes</td>\n",
       "      <td>0.940931</td>\n",
       "      <td>0.448770</td>\n",
       "      <td>0.597541</td>\n",
       "      <td>0.448770</td>\n",
       "    </tr>\n",
       "    <tr>\n",
       "      <th>4</th>\n",
       "      <td>TF-IDF 1-grams</td>\n",
       "      <td>Logistic Regression</td>\n",
       "      <td>0.811576</td>\n",
       "      <td>0.551230</td>\n",
       "      <td>0.640789</td>\n",
       "      <td>0.551230</td>\n",
       "    </tr>\n",
       "    <tr>\n",
       "      <th>5</th>\n",
       "      <td>TF-IDF 1-grams</td>\n",
       "      <td>LightGBM</td>\n",
       "      <td>0.658819</td>\n",
       "      <td>0.522541</td>\n",
       "      <td>0.571756</td>\n",
       "      <td>0.522541</td>\n",
       "    </tr>\n",
       "    <tr>\n",
       "      <th>6</th>\n",
       "      <td>Word2vec</td>\n",
       "      <td>Logistic Regression</td>\n",
       "      <td>0.694527</td>\n",
       "      <td>0.557495</td>\n",
       "      <td>0.608600</td>\n",
       "      <td>0.557495</td>\n",
       "    </tr>\n",
       "  </tbody>\n",
       "</table>\n",
       "</div>"
      ],
      "text/plain": [
       "     Preprocessing                Model  Precision    Recall  F1-score  \\\n",
       "0  Count Vectorize          Naive Bayes   0.578856  0.514374  0.536618   \n",
       "1  Count Vectorize  Logistic Regression   0.722420  0.552361  0.614435   \n",
       "2  Count Vectorize             LightGBM   0.663481  0.513347  0.570820   \n",
       "3   TF-IDF 1-grams          Naive Bayes   0.940931  0.448770  0.597541   \n",
       "4   TF-IDF 1-grams  Logistic Regression   0.811576  0.551230  0.640789   \n",
       "5   TF-IDF 1-grams             LightGBM   0.658819  0.522541  0.571756   \n",
       "6         Word2vec  Logistic Regression   0.694527  0.557495  0.608600   \n",
       "\n",
       "   Accuracy  \n",
       "0  0.514374  \n",
       "1  0.552361  \n",
       "2  0.513347  \n",
       "3  0.448770  \n",
       "4  0.551230  \n",
       "5  0.522541  \n",
       "6  0.557495  "
      ]
     },
     "execution_count": 50,
     "metadata": {},
     "output_type": "execute_result"
    }
   ],
   "source": [
    "adasyn_result"
   ]
  },
  {
   "cell_type": "markdown",
   "metadata": {
    "hidden": true
   },
   "source": [
    "ADASYN algorithm have shown approximately the same results as SMOTE. But still it's slightly worse. So we will keep to SMOTE."
   ]
  },
  {
   "cell_type": "markdown",
   "metadata": {
    "heading_collapsed": true
   },
   "source": [
    "# 11. Best model result analysis"
   ]
  },
  {
   "cell_type": "markdown",
   "metadata": {
    "hidden": true
   },
   "source": [
    "Best model of all we have received is word2vec on SMOTE trained on Logistic Regression.\n",
    "\n",
    "Let's look at its confusion matrix."
   ]
  },
  {
   "cell_type": "code",
   "execution_count": 119,
   "metadata": {
    "hidden": true
   },
   "outputs": [],
   "source": [
    "X, y = w2v(data_100)\n",
    "X, y = smote_over_sample.fit_resample(X, y)\n",
    "X_train_smote, X_test_smote, y_train_smote, y_test_smote = train_test_split(X, y, test_size=0.2, random_state=40)\n",
    "clf_w2v_smote = LogisticRegressionCV(cv = folds, solver = 'saga', multi_class = 'multinomial', n_jobs = -1)\n",
    "clf_w2v_smote.fit(X_train_smote, y_train_smote)\n",
    "y_pred = clf_w2v_smote.predict(X_test_smote)"
   ]
  },
  {
   "cell_type": "code",
   "execution_count": 120,
   "metadata": {
    "hidden": true
   },
   "outputs": [
    {
     "data": {
      "image/png": "[encoded data removed]",
      "text/plain": [
       "<matplotlib.figure.Figure at 0x7f4607f64208>"
      ]
     },
     "metadata": {
      "needs_background": "light"
     },
     "output_type": "display_data"
    }
   ],
   "source": [
    "cm = confusion_matrix(y_test_smote, y_pred)\n",
    "fig = plt.figure(figsize=(16, 16))\n",
    "plot = plot_confusion_matrix(cm, classes=classes, normalize=False, \n",
    "                             title='Confusion matrix')\n",
    "plt.show()"
   ]
  },
  {
   "cell_type": "markdown",
   "metadata": {
    "hidden": true
   },
   "source": [
    "Result metrics for each class"
   ]
  },
  {
   "cell_type": "code",
   "execution_count": 107,
   "metadata": {
    "hidden": true
   },
   "outputs": [
    {
     "data": {
      "text/html": [
       "<div>\n",
       "<style scoped>\n",
       "    .dataframe tbody tr th:only-of-type {\n",
       "        vertical-align: middle;\n",
       "    }\n",
       "\n",
       "    .dataframe tbody tr th {\n",
       "        vertical-align: top;\n",
       "    }\n",
       "\n",
       "    .dataframe thead th {\n",
       "        text-align: right;\n",
       "    }\n",
       "</style>\n",
       "<table border=\"1\" class=\"dataframe\">\n",
       "  <thead>\n",
       "    <tr style=\"text-align: right;\">\n",
       "      <th></th>\n",
       "      <th>Labels</th>\n",
       "      <th>Recall</th>\n",
       "      <th>Precision</th>\n",
       "      <th>F1-score</th>\n",
       "    </tr>\n",
       "  </thead>\n",
       "  <tbody>\n",
       "    <tr>\n",
       "      <th>0</th>\n",
       "      <td>Cardiovascular / Pulmonary</td>\n",
       "      <td>0.476190</td>\n",
       "      <td>0.365854</td>\n",
       "      <td>0.413793</td>\n",
       "    </tr>\n",
       "    <tr>\n",
       "      <th>1</th>\n",
       "      <td>Consult - History and Phy.</td>\n",
       "      <td>0.462585</td>\n",
       "      <td>0.635514</td>\n",
       "      <td>0.535433</td>\n",
       "    </tr>\n",
       "    <tr>\n",
       "      <th>2</th>\n",
       "      <td>Discharge Summary</td>\n",
       "      <td>0.750865</td>\n",
       "      <td>0.990868</td>\n",
       "      <td>0.854331</td>\n",
       "    </tr>\n",
       "    <tr>\n",
       "      <th>3</th>\n",
       "      <td>Gastroenterology</td>\n",
       "      <td>0.352941</td>\n",
       "      <td>0.120000</td>\n",
       "      <td>0.179104</td>\n",
       "    </tr>\n",
       "    <tr>\n",
       "      <th>4</th>\n",
       "      <td>General Medicine</td>\n",
       "      <td>0.250000</td>\n",
       "      <td>0.063830</td>\n",
       "      <td>0.101695</td>\n",
       "    </tr>\n",
       "    <tr>\n",
       "      <th>5</th>\n",
       "      <td>Neurology</td>\n",
       "      <td>0.517241</td>\n",
       "      <td>0.306122</td>\n",
       "      <td>0.384615</td>\n",
       "    </tr>\n",
       "    <tr>\n",
       "      <th>6</th>\n",
       "      <td>Obstetrics / Gynecology</td>\n",
       "      <td>0.333333</td>\n",
       "      <td>0.115385</td>\n",
       "      <td>0.171429</td>\n",
       "    </tr>\n",
       "    <tr>\n",
       "      <th>7</th>\n",
       "      <td>Orthopedic</td>\n",
       "      <td>0.387755</td>\n",
       "      <td>0.296875</td>\n",
       "      <td>0.336283</td>\n",
       "    </tr>\n",
       "    <tr>\n",
       "      <th>8</th>\n",
       "      <td>Radiology</td>\n",
       "      <td>0.368421</td>\n",
       "      <td>0.245614</td>\n",
       "      <td>0.294737</td>\n",
       "    </tr>\n",
       "    <tr>\n",
       "      <th>9</th>\n",
       "      <td>SOAP / Chart / Progress Notes</td>\n",
       "      <td>0.375000</td>\n",
       "      <td>0.090909</td>\n",
       "      <td>0.146341</td>\n",
       "    </tr>\n",
       "    <tr>\n",
       "      <th>10</th>\n",
       "      <td>Surgery</td>\n",
       "      <td>0.558065</td>\n",
       "      <td>0.819905</td>\n",
       "      <td>0.664107</td>\n",
       "    </tr>\n",
       "    <tr>\n",
       "      <th>11</th>\n",
       "      <td>Urology</td>\n",
       "      <td>0.250000</td>\n",
       "      <td>0.033333</td>\n",
       "      <td>0.058824</td>\n",
       "    </tr>\n",
       "  </tbody>\n",
       "</table>\n",
       "</div>"
      ],
      "text/plain": [
       "                            Labels    Recall  Precision  F1-score\n",
       "0       Cardiovascular / Pulmonary  0.476190   0.365854  0.413793\n",
       "1       Consult - History and Phy.  0.462585   0.635514  0.535433\n",
       "2                Discharge Summary  0.750865   0.990868  0.854331\n",
       "3                 Gastroenterology  0.352941   0.120000  0.179104\n",
       "4                 General Medicine  0.250000   0.063830  0.101695\n",
       "5                        Neurology  0.517241   0.306122  0.384615\n",
       "6          Obstetrics / Gynecology  0.333333   0.115385  0.171429\n",
       "7                       Orthopedic  0.387755   0.296875  0.336283\n",
       "8                        Radiology  0.368421   0.245614  0.294737\n",
       "9    SOAP / Chart / Progress Notes  0.375000   0.090909  0.146341\n",
       "10                         Surgery  0.558065   0.819905  0.664107\n",
       "11                         Urology  0.250000   0.033333  0.058824"
      ]
     },
     "execution_count": 107,
     "metadata": {},
     "output_type": "execute_result"
    }
   ],
   "source": [
    "final_metrics = pd.DataFrame({'Labels': range(12), \n",
    "                              'Recall': recall_score(y_pred, y_test_smote, average = None),\n",
    "                             'Precision': precision_score(y_pred, y_test_smote, average = None),\n",
    "                             'F1-score': f1_score(y_pred, y_test_smote, average = None)})\n",
    "final_metrics['Labels'] = final_metrics['Labels'].replace(label_to_text)\n",
    "final_metrics"
   ]
  },
  {
   "cell_type": "markdown",
   "metadata": {
    "hidden": true
   },
   "source": [
    "The result is still not perfect, but yet it is much better, than it was in the beginning. Some classes are recognized pretty well."
   ]
  },
  {
   "cell_type": "markdown",
   "metadata": {
    "heading_collapsed": true
   },
   "source": [
    "# 12. Conclusion"
   ]
  },
  {
   "cell_type": "markdown",
   "metadata": {
    "hidden": true
   },
   "source": [
    "In this work I made an attempt to build an algorithm, which would predict necessary diagnostics for a patient based on his anamnesis. From basic f1-score of around 0.3 I managed to increase capability of the algorithm up to nearly 0.7.\n",
    "\n",
    "I barely can be used in real-life diagnostics. but still could be helpful in some adjuscent fields. These could be analysing some popular words-triggers for different diseases in scientific or applied purpose, optimisation of medical facility schedule or a way of preliminary patient analysis in order to desrease a list of potential diagnostics.\n",
    "\n",
    "This work can be proceeded with more detailed text analysis.\n",
    "\n",
    "- Anamnesis text contains some kind of headers for allergies or previous treatment. It may be profitable to try to use it in modelling;\n",
    "- More detailed analysis of metrics could be used in order to understand better the specifics of how algorithm works with different classes;\n",
    "- Wider range of algorithms could be tried in order to find the best one;\n",
    "- For existing algorithms a more precise tuning could have given some more fractions of a percent;\n",
    "- Some additional information on minor classes could be used to include them into calculation.\n",
    "\n",
    "Some of these ideas I will use to improve the quality of the algorithm. But this would be outside the limits of current work.\n",
    "\n",
    "<img src = './Images/finish.jpg'></img>"
   ]
  }
 ],
 "metadata": {
  "kernelspec": {
   "display_name": "Python 3",
   "language": "python",
   "name": "python3"
  },
  "language_info": {
   "codemirror_mode": {
    "name": "ipython",
    "version": 3
   },
   "file_extension": ".py",
   "mimetype": "text/x-python",
   "name": "python",
   "nbconvert_exporter": "python",
   "pygments_lexer": "ipython3",
   "version": "3.7.1"
  },
  "toc": {
   "base_numbering": 1,
   "nav_menu": {},
   "number_sections": false,
   "sideBar": true,
   "skip_h1_title": false,
   "title_cell": "Table of Contents",
   "title_sidebar": "Contents",
   "toc_cell": false,
   "toc_position": {},
   "toc_section_display": true,
   "toc_window_display": true
  }
 },
 "nbformat": 4,
 "nbformat_minor": 2
}
