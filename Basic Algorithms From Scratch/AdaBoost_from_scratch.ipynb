{
 "cells": [
  {
   "cell_type": "markdown",
   "metadata": {},
   "source": [
    "# AdaBoost by scratch"
   ]
  },
  {
   "cell_type": "code",
   "execution_count": 204,
   "metadata": {},
   "outputs": [],
   "source": [
    "import pandas as pd\n",
    "import numpy as np\n",
    "from sklearn.metrics import accuracy_score\n",
    "from sklearn.preprocessing import OneHotEncoder\n",
    "from functools import reduce"
   ]
  },
  {
   "cell_type": "code",
   "execution_count": 221,
   "metadata": {},
   "outputs": [],
   "source": [
    "data = pd.read_csv('train.csv', usecols = ['Survived', 'Pclass', 'Age', \n",
    "                                           'SibSp', 'Parch', 'Fare', 'Sex', 'Embarked'])\n",
    "data['Embarked'] = data['Embarked'].fillna(value = 'Q')\n",
    "\n",
    "sex_ohe = OneHotEncoder()\n",
    "bark_ohe = OneHotEncoder()\n",
    "X = sex_ohe.fit_transform(data['Sex'].values.reshape(-1,1)).toarray()\n",
    "Xm = bark_ohe.fit_transform(data['Embarked'].values.reshape(-1,1)).toarray()\n",
    "\n",
    "dfOneHot = pd.DataFrame(X, columns = [\"Sex_\"+str(int(i)) for i in range(X.shape[1])])\n",
    "data = pd.concat([data, dfOneHot], axis=1)\n",
    "\n",
    "dfOneHot = pd.DataFrame(Xm, columns = [\"Embark\"+str(int(i)) for i in range(Xm.shape[1])])\n",
    "data = pd.concat([data, dfOneHot], axis=1)\n",
    "\n",
    "data = data.drop(['Sex', 'Embarked'], axis = 1)\n",
    "data['weight'] = 1 / data.shape[0]"
   ]
  },
  {
   "cell_type": "code",
   "execution_count": 234,
   "metadata": {},
   "outputs": [],
   "source": [
    "data['Age'] = data['Age'].fillna(data['Age'].mean())"
   ]
  },
  {
   "cell_type": "code",
   "execution_count": 244,
   "metadata": {},
   "outputs": [],
   "source": [
    "data['Fare'] = data['Fare'] / 10"
   ]
  },
  {
   "cell_type": "code",
   "execution_count": 162,
   "metadata": {},
   "outputs": [],
   "source": [
    "def borders(vals):\n",
    "    values = sorted(list(set(vals)))\n",
    "    border = list(set([(a + b) / 2 for a, b in zip(values[::1], values[1::1])]))\n",
    "    return border"
   ]
  },
  {
   "cell_type": "code",
   "execution_count": null,
   "metadata": {},
   "outputs": [],
   "source": []
  },
  {
   "cell_type": "code",
   "execution_count": 269,
   "metadata": {},
   "outputs": [],
   "source": [
    "def partition(data, label_col, algo = 'reg'):\n",
    "    \n",
    "    # Answer list\n",
    "    part = []\n",
    "    \n",
    "    # Regression partition\n",
    "    if algo == 'reg':\n",
    "        \n",
    "        # Initial variety\n",
    "        mean_0 = np.mean(data[label_col].values)\n",
    "        d0 = sum(list(map(lambda x: (x - mean_0) ** 2, data[label_col])))\n",
    "        \n",
    "        # Individual variety calculation\n",
    "        for col in data.columns:\n",
    "            if col != label_col:\n",
    "                \n",
    "                # Calculating partition borders for current column\n",
    "                border = borders(data[col].values)\n",
    "                \n",
    "                # Calculating variety for both ends of partition for current partition border\n",
    "                for edge in border:\n",
    "                    low_data = data[data[col] < edge]\n",
    "                    high_data = data[data[col] > edge]\n",
    "                    mean_low = np.mean(low_data[label_col].values)\n",
    "                    d1 = sum(list(map(lambda x: (x - mean_low) ** 2, low_data[label_col])))\n",
    "                    mean_high = np.mean(high_data[label_col].values)\n",
    "                    d2 = sum(list(map(lambda x: (x - mean_high) ** 2, high_data[label_col])))\n",
    "                    part.append([d0 - (low_data.shape[0] * d1 / data.shape[0]) - (high_data.shape[0] * d2 / data.shape[0]), col, edge])\n",
    "    \n",
    "    # Classification partition\n",
    "    if algo == 'clf':\n",
    "        \n",
    "        # Initial entropy\n",
    "        p0_1 = data[label_col].sum() / data.shape[0]\n",
    "        p0_2 = 1 - p0_1\n",
    "        S0 = - p0_1 * np.log(p0_1) - p0_2 * np.log(p0_2)\n",
    "        \n",
    "        # Individual variety calculation\n",
    "        for col in data.columns:\n",
    "            if col != label_col:\n",
    "                \n",
    "                # Calculating partition borders for current column\n",
    "                border = borders(data[col].values)\n",
    "                \n",
    "                # Calculating variety for both ends of partition for current partition border\n",
    "                for edge in border:\n",
    "                    \n",
    "                    # Entropy for data under edge\n",
    "                    low_data = data[data[col] < edge]\n",
    "                    p1_1 = low_data[label_col].sum() / low_data.shape[0]\n",
    "                    p1_2 = 1 - p1_1\n",
    "                    if (p1_1 == 0) | (p1_2 == 0):\n",
    "                        S1 = 0\n",
    "                    else:\n",
    "                        S1 = - p1_1 * np.log(p1_1) - p1_2 * np.log(p1_2)\n",
    "                    \n",
    "                    # Entropy for data over edge\n",
    "                    high_data = data[data[col] > edge]\n",
    "                    p2_1 = high_data[label_col].sum() / high_data.shape[0]\n",
    "                    p2_2 = 1 - p2_1\n",
    "                    if (p2_1 == 0) | (p2_2 == 0):\n",
    "                        S2 = 0\n",
    "                    else:\n",
    "                        S2 = - p2_1 * np.log(p2_1) - p2_2 * np.log(p2_2)\n",
    "                        \n",
    "                    side = 'low' if p1_1 > p2_1 else 'high'\n",
    "                    \n",
    "                    ent_loss = S0 - (low_data.shape[0]*S1/data.shape[0]) - (high_data.shape[0]*S2/data.shape[0])\n",
    "                    \n",
    "                    part.append([ent_loss, col, edge, side])\n",
    "    \n",
    "    else:\n",
    "        print('Wrong algorithm type')\n",
    "        return\n",
    "    \n",
    "    part.sort(reverse = True)\n",
    "    \n",
    "    return part[0][1], part[0][2], part[0][3]"
   ]
  },
  {
   "cell_type": "code",
   "execution_count": 243,
   "metadata": {},
   "outputs": [],
   "source": [
    "# Calculating number of errors for predictions\n",
    "\n",
    "def amount_of_say(data, label_col):\n",
    "    \n",
    "    part_col, part_edge, part_side = partition(data, label_col, 'clf')\n",
    "\n",
    "    predictions = []\n",
    "    total_error = 0.00001\n",
    "    error_index = []\n",
    "    for i in range(data.shape[0]):\n",
    "        if part_side == 'low':\n",
    "            if (data.iloc[i][part_col] < part_edge) & (data.iloc[i][label_col] == 0):\n",
    "                total_error += data.iloc[i]['weight']\n",
    "                error_index.append(i)\n",
    "            elif (data.iloc[i][part_col] > part_edge) & (data.iloc[i][label_col] == 1):\n",
    "                total_error += data.iloc[i]['weight']\n",
    "                error_index.append(i)\n",
    "        elif part_side == 'high':\n",
    "            if (data.iloc[i][part_col] > part_edge) & (data.iloc[i][label_col] == 0):\n",
    "                total_error += data.iloc[i]['weight']\n",
    "                error_index.append(i)\n",
    "            elif (data.iloc[i][part_col] < part_edge) & (data.iloc[i][label_col] == 1):\n",
    "                total_error += data.iloc[i]['weight']\n",
    "                error_index.append(i)\n",
    "                \n",
    "    aos = 0.5 * np.log((1 - total_error) / total_error)\n",
    "                    \n",
    "    return aos, error_index, part_col, part_edge, part_side"
   ]
  },
  {
   "cell_type": "code",
   "execution_count": 174,
   "metadata": {},
   "outputs": [],
   "source": [
    "# Update weights\n",
    "\n",
    "def new_dataset(data, label_col):\n",
    "    \n",
    "    aos, error_index, part_col, part_edge, part_side = amount_of_say(data, label_col)\n",
    "    \n",
    "    new_weights = []\n",
    "    \n",
    "    for i in range(data.shape[0]):\n",
    "        if i in error_index:\n",
    "            new_weights.append(data.iloc[i]['weight'] * np.exp(aos))\n",
    "        else:\n",
    "            new_weights.append(data.iloc[i]['weight'] * np.exp(-aos))\n",
    "\n",
    "    data.loc[:, 'weight'] = new_weights\n",
    "    data.loc[:, 'weight'] = data.loc[:, 'weight'] / sum(new_weights)\n",
    "    \n",
    "    new_set = pd.DataFrame()\n",
    "    \n",
    "    intervals = [data.iloc[0]['weight']]\n",
    "    \n",
    "    for i in range(1, data.shape[0]):\n",
    "        intervals.append(intervals[i - 1] + data.iloc[i]['weight'])\n",
    "    \n",
    "    for i in range(data.shape[0]):\n",
    "        k = np.random.random()\n",
    "        if k < intervals[0]:\n",
    "            new_set = new_set.append(data.iloc[0])\n",
    "        else:\n",
    "            for j in range(1, len(intervals)):\n",
    "                if k < intervals[j]:\n",
    "                    new_set = new_set.append(data.iloc[j])\n",
    "                    break\n",
    "                    \n",
    "    new_set['weight'] = 1 / new_set.shape[0]\n",
    "    \n",
    "    new_set = new_set.reset_index(drop = True)\n",
    "    \n",
    "    tree = [part_col, part_edge, part_side, aos]\n",
    "        \n",
    "    return new_set, tree"
   ]
  },
  {
   "cell_type": "code",
   "execution_count": 195,
   "metadata": {},
   "outputs": [],
   "source": [
    "def prediction(data, trees):\n",
    "    \n",
    "    predictions = []\n",
    "    for i in range(data.shape[0]):\n",
    "        positive_pred = 0\n",
    "        negative_pred = 0\n",
    "        for tree_col, tree_edge, tree_side, aos in trees:\n",
    "            if tree_side == 'low':\n",
    "                if data.iloc[i][tree_col] < tree_edge:\n",
    "                    positive_pred += aos\n",
    "                else:\n",
    "                    negative_pred += aos\n",
    "            else:\n",
    "                if data.iloc[i][tree_col] > tree_edge:\n",
    "                    positive_pred += aos\n",
    "                else:\n",
    "                    negative_pred += aos\n",
    "        if positive_pred > negative_pred:\n",
    "            predictions.append(1)\n",
    "        else:\n",
    "            predictions.append(0)\n",
    "    \n",
    "    return predictions"
   ]
  },
  {
   "cell_type": "code",
   "execution_count": 198,
   "metadata": {},
   "outputs": [],
   "source": [
    "def fit(data, label_col, iterations = 20):\n",
    "\n",
    "    trees = []\n",
    "\n",
    "    current_df = data.copy()\n",
    "    iterations = iterations\n",
    "    for epoch in range(iterations):\n",
    "        current_df, tree = new_dataset(current_df, label_col)\n",
    "        trees.append(tree)\n",
    "        \n",
    "    return trees"
   ]
  },
  {
   "cell_type": "code",
   "execution_count": 277,
   "metadata": {
    "scrolled": true
   },
   "outputs": [
    {
     "name": "stdout",
     "output_type": "stream",
     "text": [
      "5 - 10 - 15 - 20 - 25 - 30 - 35 - 40 - 45 - 50 - 55 - 60 - 65 - 70 - 75 - 80 - 85 - 90 - 95 - 100 - "
     ]
    }
   ],
   "source": [
    "acc = []\n",
    "label_col = 'Survived'\n",
    "for i in range(5, 101, 5):\n",
    "    print(i, end = ' - ')\n",
    "    data_fit = data.copy()\n",
    "    trees = fit(data_fit, label_col, i)\n",
    "    preds = prediction(data, trees)\n",
    "    acc.append(accuracy_score(preds, data[label_col].values))\n",
    "    #print(f\"Accuracy {round(acc[-1], 5)}\")"
   ]
  },
  {
   "cell_type": "code",
   "execution_count": 278,
   "metadata": {
    "scrolled": false
   },
   "outputs": [
    {
     "data": {
      "text/plain": [
       "[0.7867564534231201,\n",
       " 0.7867564534231201,\n",
       " 0.7822671156004489,\n",
       " 0.7407407407407407,\n",
       " 0.7485970819304153,\n",
       " 0.7542087542087542,\n",
       " 0.77665544332211,\n",
       " 0.7609427609427609,\n",
       " 0.6958473625140292,\n",
       " 0.6902356902356902,\n",
       " 0.7351290684624018,\n",
       " 0.7025813692480359,\n",
       " 0.7328843995510662,\n",
       " 0.7205387205387206,\n",
       " 0.6857463524130191,\n",
       " 0.6677890011223344,\n",
       " 0.6632996632996633,\n",
       " 0.6655443322109988,\n",
       " 0.691358024691358,\n",
       " 0.6150392817059483]"
      ]
     },
     "execution_count": 278,
     "metadata": {},
     "output_type": "execute_result"
    }
   ],
   "source": [
    "acc"
   ]
  },
  {
   "cell_type": "code",
   "execution_count": 280,
   "metadata": {},
   "outputs": [
    {
     "data": {
      "image/png": "[encoded data removed]",
      "text/plain": [
       "<matplotlib.figure.Figure at 0x7f490ffc29e8>"
      ]
     },
     "metadata": {
      "needs_background": "light"
     },
     "output_type": "display_data"
    }
   ],
   "source": [
    "fig = plt.figure(figsize = (12, 10))\n",
    "iters = [x for x in range(5, 101, 5)]\n",
    "plt.plot(iters, acc)\n",
    "plt.xlabel('Number of trees')\n",
    "plt.ylabel('Accuracy score')\n",
    "plt.title('AdaBoost trees number - accuracy dependance')\n",
    "plt.show()"
   ]
  }
 ],
 "metadata": {
  "kernelspec": {
   "display_name": "Python 3",
   "language": "python",
   "name": "python3"
  },
  "language_info": {
   "codemirror_mode": {
    "name": "ipython",
    "version": 3
   },
   "file_extension": ".py",
   "mimetype": "text/x-python",
   "name": "python",
   "nbconvert_exporter": "python",
   "pygments_lexer": "ipython3",
   "version": "3.7.1"
  }
 },
 "nbformat": 4,
 "nbformat_minor": 2
}
